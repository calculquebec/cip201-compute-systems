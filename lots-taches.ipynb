{
 "cells": [
  {
   "cell_type": "markdown",
   "metadata": {},
   "source": [
    "# Maîtriser l’utilisation des serveurs de calcul\n",
    "## Lots de tâches\n",
    "Le calcul haute-performance consiste non seulement au calcul parallèle par tâche, mais aussi au calcul de données en parallèle dans plusieurs tâches et/ou processus en simultané. Ce chapitre vous donnera les outils nécessaires pour gérer un grand nombre de tâches lorsque le projet de recherche requiert plusieurs centaines de résultats."
   ]
  },
  {
   "cell_type": "markdown",
   "metadata": {},
   "source": [
    "## GNU Parallel\n",
    "### Cas d'utilisation\n",
    "La commande `parallel` de [GNU Parallel](https://docs.computecanada.ca/wiki/GNU_Parallel/fr) permet d'utiliser pleinement les ressources locales d'un noeud de calcul, et ce, en gérant l'exécution d'une longue liste de tâches de *petite* taille.\n",
    "C'est un peu comme l'ordonnanceur Slurm, mais à plus petite échelle et en gérant des processus au lieu de scripts de tâche.\n",
    "Voici différents cas d'utilisation :\n",
    "* Des centaines de tâches séquentielles, mais ...\n",
    "  * un fichier de données à la fois\n",
    "  * une combinaison de paramètres à la fois\n",
    "  * une combinaison de paramètres et de fichiers de données à la fois\n",
    "* Des dizaines de tâches parallèles à mémoire partagée (*multi-thread*) de quatre (4) processeurs"
   ]
  },
  {
   "cell_type": "markdown",
   "metadata": {},
   "source": [
    "### Pourquoi pas Slurm?\n",
    "OK, mais pourquoi ne pas tout simplement soumettre des centaines de tâches à Slurm?\n",
    "* À tout moment, Slurm limite chaque usager à 1000 tâches en tout dans `squeue` (*pending* + *running*)\n",
    "* Certains calculs sont tellement courts (< 5 minutes) que le démarrage et la fin de la tâche Slurm compteraient pour un pourcentage significatif du temps réel utilisé\n",
    "  * On veut donc réduire les pertes de temps\n",
    "* GNU Parallel nous évite d'utiliser un pipeline soumettant des centaines de scripts similaires, ce qui, dans bien des cas, facilite l'exécution de centaines de tâches de calcul semblables\n",
    "* Enfin, si toutes vos tâches envoient des notifications par courriel, imaginez recevoir ces centaines de courriels!\n",
    "\n",
    "Les autres avantages à considérer :\n",
    "* Par défaut, le nombre de processeurs disponibles limite le nombre de tâches de calcul exécutées en simultané\n",
    "  * Dans le cas de calculs parallèles, c'est possible de limiter davantage le nombre de processus\n",
    "* GNU Parallel peut [reprendre la séquence des tâches de calcul](https://docs.computecanada.ca/wiki/GNU_Parallel/fr#Suivi_des_commandes_ex.C3.A9cut.C3.A9es_ou_des_commandes_ayant_.C3.A9chou.C3.A9.3B_fonctionnalit.C3.A9s_de_red.C3.A9marrage) en cas de fin hâtive de la tâche Slurm"
   ]
  },
  {
   "cell_type": "markdown",
   "metadata": {},
   "source": [
    "### Syntaxe de la commande GNU Parallel\n",
    "Les éléments de base de la commande `parallel` :\n",
    "* Options de configuration de la commande `parallel` :\n",
    "  * Si un fichier de paramètres est fourni, quel serait le séparateur (`--colsep`) et s'il y a une entête (`--header`)\n",
    "* Le gabarit de la commande à exécuter :\n",
    "  * Le ou les paramètres changeants sont donnés via des paires `{}`\n",
    "  * Lorsqu'il y a plusieurs paramètres dans le gabarit, c'est possible de les numéroter. Par exemple : `{1}`, `{2}`, etc.\n",
    "* Après le gabarit de commande, les différentes valeurs de chaque paramètre sont spécifiées :\n",
    "  * sur la même ligne de commande après le séparateur `:::`\n",
    "  * dans un fichier texte dont le nom est donnée après le séparateur `::::`\n",
    "\n",
    "Voici [deux exemples tirés de la documentation](https://docs.computecanada.ca/wiki/GNU_Parallel/fr#Sp.C3.A9cifier_plusieurs_arguments) :\n",
    "```\n",
    "[name@server ~]$ parallel echo {2} {1} ::: 7 8 ::: $(seq 1 3)\n",
    "1 7\n",
    "2 7\n",
    "1 8\n",
    "3 7\n",
    "2 8\n",
    "3 8\n",
    "```\n",
    "```\n",
    "[name@server ~]$ cat param.tsv\n",
    "Param_A Param_B Param_C\n",
    "7       8       9\n",
    "10      11      12\n",
    "[name@server ~]$ parallel --colsep='\\t' --header=1 echo a={3} b={1} :::: param.tsv\n",
    "a=9 b=7\n",
    "a=12 b=10\n",
    "```"
   ]
  },
  {
   "cell_type": "markdown",
   "metadata": {},
   "source": [
    "### Exercice - Paramètres de Benchmark5D\n",
    "Dans cet exercice, il est question d'une recherche de paramètres optimaux pour un code \"quelconque\". En fait, le code utilise $O(n^3)$ valeurs pour $O(n^5)$ opérations à double précision. En vous épargnant les détails du programme, les différents paramètres à tester permettent de démontrer les effets de la mémoire cache (L1, L2 et L3). Ainsi, de petites valeurs de `p*` et/ou `b*` forcent le programme à calculer le plus localement possible dans la mémoire-vive.\n",
    "\n",
    "Pour installer le programme Benchmark5D :\n",
    "* `bash scripts/installer-b5D.sh`\n",
    "\n",
    "Pour lancer une tâche de 4 processeurs utilisant GNU Parallel pour tester 3*4 combinaisons de paramètres :\n",
    "* `sbatch scripts/executer-b5D.sh`\n",
    "\n",
    "Pour le suivi de la tâche :\n",
    "* `squeue -u $USER`\n",
    "* Les résultats seront dans un fichier `slurm-<jobid>.out`\n",
    "  * `cat slurm-<jobid>.out`\n",
    "* À la fin de la tâche, on peut analyser les ressources utilisées :\n",
    "  * `seff <jobid>`"
   ]
  },
  {
   "cell_type": "markdown",
   "metadata": {},
   "source": [
    "## Vecteurs de tâches\n",
    "Alors que GNU Parallel s'utilise bien avec des calculs séquentiels et parallèles de petite taille (<32 processeurs),\n",
    "GNU Parallel n'est pas vraiment l'outil approprié pour un lot de longs calculs parallèles de plus grande taille (>=32 processeurs par calcul).\n",
    "Dans le cas où un même programme parallèle doit être exécuté avec différentes combinaisons de paramètres,\n",
    "il y a moyen de soumettre un seul [vecteur de tâches](https://docs.computecanada.ca/wiki/Job_arrays/fr) et de coder le script de tâche de telle sorte que les paramètres seront déterminés en fonction d'un indice unique du vecteur de tâches."
   ]
  },
  {
   "cell_type": "markdown",
   "metadata": {},
   "source": [
    "Pour soumettre un vecteur de tâches à l'ordonnanceur Slurm, à la ligne de commande `sbatch` ou dans l'entête `#SBATCH` du script de tâche, on doit ajouter l'option `--array=<indices>`.\n",
    "Voir [ici quelques exemples](https://docs.computecanada.ca/wiki/Job_arrays/fr).\n",
    "\n",
    "L'identifiant d'une tâche Slurm dans un vecteur de tâches contient :\n",
    "* L'identifiant du vecteur de tâches\n",
    "* Caractère de soulignement (`_`)\n",
    "* L'indice unique associé à la tâche\n",
    "\n",
    "Par exemple : `25249551_15`"
   ]
  },
  {
   "cell_type": "markdown",
   "metadata": {},
   "source": [
    "Dans le script de tâche, la variable d'environnement `$SLURM_ARRAY_TASK_ID` peut être utilisée pour retrouver la valeur actuelle de l'indice unique associé à la tâche en cours d'exécution, soit un entier parmis les `<indices>`.\n",
    "La variable `$SLURM_ARRAY_TASK_ID` peut être utilisée de différentes façons :\n",
    "* `nom_fichier.$SLURM_ARRAY_TASK_ID`\n",
    "* `nom_dossier-$SLURM_ARRAY_TASK_ID`\n",
    "* `PARAM=$SLURM_ARRAY_TASK_ID`\n",
    "* `PARAM1=$((SLURM_ARRAY_TASK_ID / 12))`\n",
    "* `PARAM2=$((SLURM_ARRAY_TASK_ID % 12))`\n",
    "* `PARAMS=$(sed -n \"${SLURM_ARRAY_TASK_ID}p\" combinaisons.txt)`"
   ]
  },
  {
   "cell_type": "markdown",
   "metadata": {},
   "source": [
    "### Exercice - Vecteur de tâches\n",
    "Pour lancer le vecteur de tâches :\n",
    "* `sbatch scripts/executer-sleep.sh`\n",
    "\n",
    "Après l'exécution des trois tâches, on peut inspecter les résultats :\n",
    "* `cat slurm-*_*.out`"
   ]
  },
  {
   "cell_type": "markdown",
   "metadata": {},
   "source": [
    "## Le *Greedy Launcher Of Small Tasks*, ou GLOST"
   ]
  },
  {
   "cell_type": "code",
   "execution_count": null,
   "metadata": {},
   "outputs": [],
   "source": []
  }
 ],
 "metadata": {
  "kernelspec": {
   "display_name": "Python 3",
   "language": "python",
   "name": "python3"
  },
  "language_info": {
   "codemirror_mode": {
    "name": "ipython",
    "version": 3
   },
   "file_extension": ".py",
   "mimetype": "text/x-python",
   "name": "python",
   "nbconvert_exporter": "python",
   "pygments_lexer": "ipython3",
   "version": "3.7.4"
  }
 },
 "nbformat": 4,
 "nbformat_minor": 2
}
