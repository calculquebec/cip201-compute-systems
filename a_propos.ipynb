{
 "cells": [
  {
   "cell_type": "markdown",
   "metadata": {},
   "source": [
    "# Maîtriser l’utilisation des serveurs de calcul"
   ]
  },
  {
   "cell_type": "markdown",
   "metadata": {},
   "source": [
    "## À propos\n",
    "\n",
    "Cet atelier de formation de niveau intermédiaire est la suite de l'atelier [*Premiers pas sur les serveurs de calcul*](https://docs.computecanada.ca/wiki/%C3%89v%C3%A9nements_pass%C3%A9s). L'objectif principal est d'explorer un peu plus en profondeur certains aspects clés du calcul informatique de pointe.\n",
    "\n",
    "Note : les *notebooks* IPython du présent atelier et les données associées sont [publiés sur GitHub](https://github.com/calculquebec/utilisation-serveurs-calcul)."
   ]
  },
  {
   "cell_type": "markdown",
   "metadata": {},
   "source": [
    "### Table des matières\n",
    "1. [Bien choisir les ressources](ressources.ipynb) (notebook [`ressources.ipynb`](ressources.ipynb))\n",
    "1. [Analyse des tâches](analyse-taches.ipynb) (notebook [`analyse-taches.ipynb`](analyse-taches.ipynb))\n",
    "1. [Lots de tâches - parallélisme de données](lots-taches.ipynb) (notebook [`lots-taches.ipynb`](lots-taches.ipynb))\n",
    "1. [Les espaces de stockage](stockage.ipynb) (notebook [`stockage.ipynb`](stockage.ipynb))"
   ]
  },
  {
   "cell_type": "markdown",
   "metadata": {},
   "source": [
    "### Comment utiliser l'interface Jupyter (s'il y a lieu)\n",
    "Lorsqu'une cellule est en mode d'édition :\n",
    "\n",
    "  Raccourci | Description\n",
    "----------- | -----------\n",
    "MAJ+Entrée  | Exécuter une cellule et aller à la suivante\n",
    "Tab         | Indenter le code ou autocomplétion\n",
    "Échap       | Aller en mode commande\n",
    "\n",
    "Lorsqu'une cellule est en mode commande :\n",
    "\n",
    "  Raccourci | Description\n",
    "----------- | -----------\n",
    "MAJ+Entrée  | Exécuter une cellule et aller à la suivante\n",
    "Double-clic | Aller en mode édition\n",
    "Entrée      | Aller en mode édition\n",
    "\n",
    "  Raccourci | Description\n",
    "----------- | -----------\n",
    "A           | Insérer une cellule en haut\n",
    "B           | Insérer une cellule en bas\n",
    "C           | Copier la cellule\n",
    "V           | Coller la cellule en bas\n",
    "D D         | Supprimer la cellule\n",
    "M           | Changer la cellule en code Markdown\n",
    "Y           | Changer la cellule en code Python\n",
    "\n",
    "Pour réinitialiser toutes les cellules :\n",
    "* Dans le menu du haut, sélectionner *Kernel* -> *Restart & Clear Output*"
   ]
  },
  {
   "cell_type": "code",
   "execution_count": null,
   "metadata": {},
   "outputs": [],
   "source": [
    "1 + 2  # Faites Maj+Entrée pour exécuter cette cellule"
   ]
  },
  {
   "cell_type": "markdown",
   "metadata": {},
   "source": [
    "### Références\n",
    "[Wiki de Calcul Canada](https://docs.computecanada.ca/wiki/Compute_Canada_Documentation/fr) :\n",
    "* [Ressources disponibles](https://docs.computecanada.ca/wiki/Getting_started/fr#Quelles_sont_les_ressources_disponibles.3F)\n",
    "  * [Stockage et gestion des fichiers](https://docs.computecanada.ca/wiki/Storage_and_file_management/fr)\n",
    "* [Exécuter des tâches](https://docs.computecanada.ca/wiki/Running_jobs/fr)\n",
    "  * [Suivi des tâches](https://docs.computecanada.ca/wiki/Running_jobs/fr#Suivi_des_t.C3.A2ches)\n",
    "  * [GNU Parallel](https://docs.computecanada.ca/wiki/GNU_Parallel/fr)\n",
    "* [Service infonuagique de Calcul Canada](https://docs.computecanada.ca/wiki/Cloud/fr)\n",
    "  * [Ressources infonuagiques](https://docs.computecanada.ca/wiki/Cloud_resources/fr)\n",
    "\n",
    "Outils d'édition de codes Python ou autre :\n",
    "* Via [JupyterLab](https://docs.computecanada.ca/wiki/JupyterLab) sur les grappes de calcul\n",
    "* Via un [Jupyter Notebook](https://docs.computecanada.ca/wiki/JupyterNotebook/fr), lancé localement\n",
    "* L'éditeur [Spyder](https://www.spyder-ide.org)\n",
    "* [Visual Studio Code](https://code.visualstudio.com)\n",
    "\n",
    "Ateliers de formation et tutoriels :\n",
    "* Les prochains ateliers à [Calcul Québec](https://www.eventbrite.ca/o/calcul-quebec-8295332683)\n",
    "  et [Calcul Canada](https://www.computecanada.ca/research-portal/technical-support/training/)\n",
    "* Tutoriel [GNU Parallel](https://www.gnu.org/software/parallel/parallel_tutorial.html)\n",
    "* Tutoriels en ligne [Software Carpentry](https://software-carpentry.org/lessons/)\n",
    "  et [Data Carpentry](https://datacarpentry.org/lessons/)"
   ]
  },
  {
   "cell_type": "code",
   "execution_count": null,
   "metadata": {},
   "outputs": [],
   "source": []
  }
 ],
 "metadata": {
  "kernelspec": {
   "display_name": "Python 3",
   "language": "python",
   "name": "python3"
  },
  "language_info": {
   "codemirror_mode": {
    "name": "ipython",
    "version": 3
   },
   "file_extension": ".py",
   "mimetype": "text/x-python",
   "name": "python",
   "nbconvert_exporter": "python",
   "pygments_lexer": "ipython3",
   "version": "3.7.4"
  }
 },
 "nbformat": 4,
 "nbformat_minor": 2
}
