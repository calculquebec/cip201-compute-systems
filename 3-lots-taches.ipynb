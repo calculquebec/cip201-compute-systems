{
 "cells": [
  {
   "cell_type": "markdown",
   "metadata": {},
   "source": [
    "# Lots de tâches\n",
    "Le calcul haute-performance consiste non seulement au calcul parallèle par tâche (***parallélisme des tâches***),\n",
    "mais aussi au calcul de données en parallèle dans plusieurs tâches et/ou processus en simultané (***parallélisme de données***).\n",
    "Ce chapitre vous donnera les outils nécessaires pour gérer un grand nombre de tâches\n",
    "lorsque le projet de recherche requiert plusieurs centaines de résultats."
   ]
  },
  {
   "cell_type": "markdown",
   "metadata": {},
   "source": [
    "## GNU Parallel\n",
    "La commande `parallel` de [GNU Parallel](https://docs.computecanada.ca/wiki/GNU_Parallel/fr) permet d'utiliser pleinement les ressources locales d'un noeud de calcul, et ce, en gérant l'exécution d'une **longue liste de tâches de *petite* taille**.\n",
    "C'est un peu comme l'ordonnanceur Slurm, mais à plus petite échelle et en gérant des processus au lieu de scripts de tâche.\n",
    "* [Documentation officielle](https://www.gnu.org/software/parallel/parallel.html)\n",
    "* [Tutoriel](https://www.gnu.org/software/parallel/parallel_tutorial.html)"
   ]
  },
  {
   "cell_type": "markdown",
   "metadata": {},
   "source": [
    "### Pourquoi pas Slurm?\n",
    "OK, mais pourquoi ne pas tout simplement soumettre **des centaines de tâches à Slurm**?\n",
    "* À tout moment, Slurm **limite chaque usager à 1000 tâches** au total dans `squeue` (*pending* + *running*)\n",
    "* Certains calculs sont tellement **courts (< 5 minutes)** que le démarrage et la fin de la tâche Slurm compteraient pour un pourcentage significatif du temps réel utilisé\n",
    "  * On veut donc réduire les pertes de temps\n",
    "* GNU Parallel nous **évite d'utiliser une boucle** soumettant des centaines de scripts similaires, ce qui, dans bien des cas, facilite l'exécution de centaines de tâches de calcul semblables\n",
    "* Enfin, si toutes vos tâches envoient des **notifications par courriel**, imaginez recevoir ces centaines de courriels!"
   ]
  },
  {
   "cell_type": "markdown",
   "metadata": {},
   "source": [
    "Les autres avantages à considérer :\n",
    "* Par défaut, le nombre de **processeurs disponibles limite** le nombre de tâches de calcul exécutées en simultané\n",
    "  * Dans le cas de calculs parallèles, c'est possible de limiter davantage le nombre de processus\n",
    "* GNU Parallel peut [reprendre la séquence des tâches de calcul](https://docs.computecanada.ca/wiki/GNU_Parallel/fr#Suivi_des_commandes_ex.C3.A9cut.C3.A9es_ou_des_commandes_ayant_.C3.A9chou.C3.A9.3B_fonctionnalit.C3.A9s_de_red.C3.A9marrage) en cas de fin hâtive de la tâche Slurm"
   ]
  },
  {
   "cell_type": "markdown",
   "metadata": {},
   "source": [
    "### Syntaxe de la commande GNU Parallel\n",
    "Les éléments de base de la commande `parallel` : options, gabarit de commande, liste de valeurs. Voir :\n",
    "```Bash\n",
    "man parallel\n",
    "```"
   ]
  },
  {
   "cell_type": "markdown",
   "metadata": {},
   "source": [
    "### Cas d'utilisation\n",
    "#### Séquence de paramètre\n",
    "Le paramètre changeant est donné via une paire d'`{}` :\n",
    "```Bash\n",
    "parallel echo fichier{}.txt ::: 1 2 3 4\n",
    "parallel --citation  # Il faut citer les développeurs\n",
    "```"
   ]
  },
  {
   "cell_type": "markdown",
   "metadata": {},
   "source": [
    "Utilisation d'une séquence générée par la commande `seq` :\n",
    "```Bash\n",
    "seq 1 20\n",
    "seq -w 1 20\n",
    "echo $(seq -w 1 20)\n",
    "parallel echo fichier{}.txt ::: $(seq -w 1 20)\n",
    "```"
   ]
  },
  {
   "cell_type": "markdown",
   "metadata": {},
   "source": [
    "#### Combinaisons de paramètres\n",
    "Les paramètres changeants peuvent être donnés via une paire d'`{}`, ou plus précisément par des paire d'`{}` numérotées telles que `{1}`, `{2}`, etc. :\n",
    "```Bash\n",
    "parallel echo fichier{}.txt ::: $(seq -w 1 10) ::: a b\n",
    "parallel echo fichier{1}{2}.txt ::: $(seq -w 1 10) ::: a b\n",
    "```"
   ]
  },
  {
   "cell_type": "markdown",
   "metadata": {},
   "source": [
    "Dans le cas où on retrouve les **combinaisons de paramètres dans un fichier texte** :\n",
    "```Bash\n",
    "# parallel echo {} ::: 3 5 7 ::: 4 6 8 > param.txt\n",
    "bash scripts/prll-creer-param.sh\n",
    "```"
   ]
  },
  {
   "cell_type": "markdown",
   "metadata": {},
   "source": [
    "Par la suite, dans le script de tâche Slurm :\n",
    "```Bash\n",
    "# parallel -C ' ' echo '{1}*{2} | bc > prod_{1}x{2}' :::: param.txt\n",
    "sbatch scripts/prll-exec-param.sh\n",
    "```"
   ]
  },
  {
   "cell_type": "markdown",
   "metadata": {},
   "source": [
    "Si on préfère valider la liste des commandes générées avant de soumettre\n",
    "une tâche Slurm, on peut générer une **liste de commandes dans un fichier texte** :\n",
    "```Bash\n",
    "# parallel -C ' ' echo 'echo {1}\"*\"{2} \"|\" bc \">\" prod_{1}x{2}' :::: param.txt > commandes.txt\n",
    "bash scripts/prll-creer-cmd.sh\n",
    "```"
   ]
  },
  {
   "cell_type": "markdown",
   "metadata": {},
   "source": [
    "Et dans la tâche Slurm :\n",
    "```Bash\n",
    "# parallel < commandes.txt\n",
    "sbatch scripts/prll-exec-cmd.sh\n",
    "```"
   ]
  },
  {
   "cell_type": "markdown",
   "metadata": {},
   "source": [
    "#### Limiter le nombre de tâches parallèles\n",
    "Le paramètre `--jobs` permet de forcer une limite sur le nombre de processus lancés à la fois. Par exemple, 8 exécutions avec 2 processus en simultané :\n",
    "```Bash\n",
    "parallel --jobs 2 'echo {} && sleep 3' ::: $(seq -w 1 8)\n",
    "```\n",
    "\n",
    "Si jamais un noeud n'est pas suffisant pour répondre au besoin de centaines de tâches parallèles, GNU Parallel peut distribuer des tâches sur plusieurs noeuds\n",
    "```Bash\n",
    "# parallel \\\n",
    "#    --jobs $SLURM_NTASKS_PER_NODE \\\n",
    "#    --sshloginfile noeuds.txt \\\n",
    "#   'echo -n {}: && hostname' ::: $(seq 1 $SLURM_NTASKS)\n",
    "sbatch scripts/prll-multi-noeud.sh\n",
    "```"
   ]
  },
  {
   "cell_type": "markdown",
   "metadata": {},
   "source": [
    "### Exercice - Aligner des séquences d'ADN\n",
    "Dans le dossier `donnees/`, vous devriez avoir plusieurs fichiers Fasta (`*.fa`)\n",
    "qui ont été créés au premier chapitre via le script de tâche\n",
    "`scripts/blastn-gen-seq.sh` et le Makefile `donnees/makefile`.\n",
    "**Si ce n'est pas le cas**, faites :\n",
    "```Bash\n",
    "sbatch scripts/blastn-gen-seq.sh\n",
    "```\n",
    "\n",
    "On devrait y retrouver :\n",
    "* pour chaque espèce fictive A et B, un fichier de séquences d'ADN \"connues\"\n",
    "  * Ces fichiers sont convertis en bases de données Blast\n",
    "* pour 6 espèces \"inconnues\" M à R, des séquences d'ADN à aligner sur les séquences \"connues\" des espèces A et B"
   ]
  },
  {
   "cell_type": "markdown",
   "metadata": {},
   "source": [
    "On cherche donc à calculer l'alignement de toutes les combinaisons\n",
    "`{A,B}x[M,R]`, ce qui donne 12 combinaisons.\n",
    "Le script de tâche suivant utilise GNU Parallel pour calculer les\n",
    "différents cas avec 4 processeurs :\n",
    "```Bash\n",
    "cat scripts/blastn-parallel.sh\n",
    "sbatch scripts/blastn-parallel.sh\n",
    "```\n",
    "\n",
    "Pour surveiller l'état de la tâche :\n",
    "```Bash\n",
    "squeue -u $USER\n",
    "ls donnees/res_prll/\n",
    "```\n",
    "À la fin de la tâche, on peut analyser les ressources utilisées :\n",
    "```\n",
    "seff <jobid>\n",
    "```"
   ]
  },
  {
   "cell_type": "markdown",
   "metadata": {},
   "source": [
    "## Vecteurs de tâches\n",
    "Alors que GNU Parallel s'utilise bien avec un lot de calculs séquentiels\n",
    "ou parallèles de petite taille (16 processeurs ou moins),\n",
    "**GNU Parallel n'est pas** vraiment l'outil **approprié pour**\n",
    "un lot de **longs calculs parallèles de plus grande taille**\n",
    "(plus de 16 processeurs par calcul) :\n",
    "* on veut éviter les longues tâches qui dépassent trois (3) jours et\n",
    "* on veut réduire le risque de subir une défaillance matérielle.\n",
    "\n",
    "Dans le cas où un même programme parallèle doit être exécuté avec\n",
    "différentes combinaisons de paramètres, il y a moyen de soumettre un seul\n",
    "[vecteur de tâches](https://docs.computecanada.ca/wiki/Job_arrays/fr)\n",
    "et de coder le script de tâche de telle sorte que les paramètres\n",
    "seront déterminés **en fonction d'un indice unique** du vecteur de tâches."
   ]
  },
  {
   "cell_type": "markdown",
   "metadata": {},
   "source": [
    "**Pour soumettre un vecteur de tâches** à l'ordonnanceur Slurm, à la ligne de commande `sbatch` ou dans l'entête `#SBATCH` du script de tâche, **on doit ajouter l'option** `--array=<indices>`.\n",
    "Voir [ici quelques exemples](https://docs.computecanada.ca/wiki/Job_arrays/fr).\n",
    "\n",
    "L'identifiant d'une tâche Slurm dans un vecteur de tâches contient :\n",
    "* L'identifiant du vecteur de tâches\n",
    "* Caractère de soulignement (`_`)\n",
    "* L'indice unique associé à la tâche\n",
    "\n",
    "**Par exemple :** `25249551_15`"
   ]
  },
  {
   "cell_type": "markdown",
   "metadata": {},
   "source": [
    "Dans le script de tâche, la **variable d'environnement**\n",
    "`$SLURM_ARRAY_TASK_ID` peut être utilisée pour retrouver la valeur\n",
    "actuelle de l'indice unique associé à la tâche en cours d'exécution.\n",
    "Il s'agit d'un **entier parmis** les `<indices>`.\n",
    "```Bash\n",
    "export SLURM_ARRAY_TASK_ID=71  # Pour émuler la variable\n",
    "```\n",
    "\n",
    "La variable `$SLURM_ARRAY_TASK_ID` peut être utilisée de différentes façons :\n",
    "```Bash\n",
    "echo nom_fichier.$SLURM_ARRAY_TASK_ID\n",
    "echo nom_dossier-$SLURM_ARRAY_TASK_ID\n",
    "\n",
    "PARAM=$SLURM_ARRAY_TASK_ID\n",
    "echo $PARAM\n",
    "\n",
    "PARAM_R=$((PARAM / 12))  # Division entière\n",
    "PARAM_C=$((PARAM % 12))  # Modulo (reste de division)\n",
    "echo $PARAM_R $PARAM_C\n",
    "\n",
    "echo $(sed -n \"${PARAM_R}p\" param.txt)\n",
    "```"
   ]
  },
  {
   "cell_type": "markdown",
   "metadata": {},
   "source": [
    "### Exercice - Vecteur de tâches\n",
    "Pour lancer le vecteur de tâches :\n",
    "```Bash\n",
    "cat scripts/blastn-array.sh\n",
    "sbatch scripts/blastn-array.sh\n",
    "\n",
    "squeue -u $USER\n",
    "```\n",
    "\n",
    "Après l'exécution des quatre tâches, on peut inspecter les résultats :\n",
    "```Bash\n",
    "ls slurm-*_*.out\n",
    "ls -l donnees/res_array/\n",
    "```"
   ]
  },
  {
   "cell_type": "markdown",
   "metadata": {},
   "source": [
    "## Le *Greedy Launcher Of Small Tasks*, ou GLOST\n",
    "Le *Greedy Launcher Of Small Tasks*, ou [GLOST](https://docs.computecanada.ca/wiki/GLOST/fr), fonctionne un peu **comme GNU Parallel, mais avec quelques différences** :\n",
    "* Fonctionne qu'avec des **tâches séquentielles (un processeur par tâche)**\n",
    "* L'ordonnancement des processus se fait via **[MPI](https://docs.computecanada.ca/wiki/MPI/fr)** avec une architecture de type **gestionnaire-travailleur**\n",
    "  * Le gestionnaire envoie à chaque travailleur une tâche séquentielle à exécuter\n",
    "  * Le travailleur signale au gestionnaire quand le travail est complété\n",
    "  * Le gestionnaire informe les travailleurs lorsqu'il n'y a plus de tâche (pour quitter)\n",
    "* On doit définir **une ligne de commande par tâche** :\n",
    "  * Toutes les lignes de commande sont **[listées dans un même fichier](https://docs.computecanada.ca/wiki/GLOST/fr#Liste_de_t.C3.A2ches_situ.C3.A9es_dans_le_m.C3.AAme_r.C3.A9pertoire)**\n",
    "  * Les sous-commandes peuvent être séparées par l'opérateur `&&`. Par exemple :\n",
    "\n",
    "```Bash\n",
    "echo -n 'Bonjour ' && echo le monde\n",
    "```"
   ]
  },
  {
   "cell_type": "markdown",
   "metadata": {},
   "source": [
    "### Exercice - Liste de tâches Blastn avec GLOST\n",
    "Pour générer la liste de tâches dans le fichier `$SCRATCH/cas-blastn.txt` :\n",
    "```Bash\n",
    "cat scripts/blastn-cas.sh\n",
    "bash scripts/blastn-cas.sh\n",
    "\n",
    "cat $SCRATCH/cas-blastn.txt\n",
    "```"
   ]
  },
  {
   "cell_type": "markdown",
   "metadata": {},
   "source": [
    "Pour lancer une tâche de 4 processeurs utilisant GLOST pour tester les $3*2*2$ combinaisons de paramètres :\n",
    "```Bash\n",
    "cat scripts/blastn-glost.sh\n",
    "sbatch scripts/blastn-glost.sh\n",
    "\n",
    "squeue -u $USER\n",
    "```\n",
    "\n",
    "On peut aller voir les processus en exécution :\n",
    "```Bash\n",
    "ssh <nom_noeud>\n",
    "top -u $USER  # q pour quitter\n",
    "exit\n",
    "```\n",
    "\n",
    "Les résultats seront dans le dossier `$SCRATCH/res_glost`\n",
    "```Bash\n",
    "ls -l $SCRATCH/res_glost\n",
    "```"
   ]
  },
  {
   "cell_type": "code",
   "execution_count": null,
   "metadata": {},
   "outputs": [],
   "source": []
  }
 ],
 "metadata": {
  "kernelspec": {
   "display_name": "Python 3 (ipykernel)",
   "language": "python",
   "name": "python3"
  },
  "language_info": {
   "codemirror_mode": {
    "name": "ipython",
    "version": 3
   },
   "file_extension": ".py",
   "mimetype": "text/x-python",
   "name": "python",
   "nbconvert_exporter": "python",
   "pygments_lexer": "ipython3",
   "version": "3.8.10"
  }
 },
 "nbformat": 4,
 "nbformat_minor": 4
}
