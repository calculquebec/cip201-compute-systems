{
 "cells": [
  {
   "cell_type": "markdown",
   "metadata": {},
   "source": [
    "# Lots de tâches\n",
    "Le calcul haute-performance consiste non seulement au calcul parallèle par tâche (***parallélisme des tâches***),\n",
    "mais aussi au calcul de données en parallèle dans plusieurs tâches et/ou processus en simultané (***parallélisme de données***).\n",
    "Ce chapitre vous donnera les outils nécessaires pour gérer un grand nombre de tâches\n",
    "lorsque le projet de recherche requiert plusieurs centaines de résultats."
   ]
  },
  {
   "cell_type": "markdown",
   "metadata": {},
   "source": [
    "## GNU Parallel\n",
    "La commande `parallel` de\n",
    "[GNU Parallel](https://docs.alliancecan.ca/wiki/GNU_Parallel/fr)\n",
    "permet d'utiliser pleinement les ressources locales d'un noeud de\n",
    "calcul, et ce, en gérant l'exécution d'une **longue liste de tâches\n",
    "de *petite* taille**.\n",
    "C'est un peu comme l'ordonnanceur Slurm, mais à plus petite échelle et\n",
    "en gérant des processus au lieu de scripts de tâche.\n",
    "\n",
    "![Fonctionnement de GNU Parallel](images/gnu-parallel.svg)\n",
    "\n",
    "* [Documentation officielle](https://www.gnu.org/software/parallel/parallel.html)\n",
    "* [Tutoriel](https://www.gnu.org/software/parallel/parallel_tutorial.html)"
   ]
  },
  {
   "cell_type": "markdown",
   "metadata": {},
   "source": [
    "### Pourquoi pas Slurm?\n",
    "OK, mais pourquoi ne pas tout simplement soumettre\n",
    "**des centaines de tâches à Slurm**?\n",
    "* À tout moment, Slurm **limite chaque usager à 1000 tâches**\n",
    "  au total dans `squeue` (*pending* + *running*)\n",
    "* Certains calculs sont tellement **courts (< 5 minutes)** que le\n",
    "  démarrage et la fin de la tâche compteraient pour un pourcentage\n",
    "  significatif du temps réel utilisé, ce qui diminue leur efficacité\n",
    "* Ensuite, si toutes vos tâches envoient des **notifications par\n",
    "  courriel**, imaginez recevoir des centaines de courriels!"
   ]
  },
  {
   "cell_type": "markdown",
   "metadata": {},
   "source": [
    "Les avantages de GNU Parallel à considérer :\n",
    "* Nous **évite d'utiliser une boucle** soumettant des centaines de\n",
    "  scripts similaires, ce qui, dans bien des cas, facilite\n",
    "  l'exécution de centaines de cas de calcul semblables\n",
    "* Le nombre de **processeurs disponibles limite** automatiquement le\n",
    "  nombre de cas de calcul exécutés en simultané\n",
    "  * Dans le cas de calculs parallèles, c'est possible de spécifier\n",
    "    le nombre de cas en simultané\n",
    "* GNU Parallel peut\n",
    "  [reprendre la séquence des cas de calcul](https://docs.alliancecan.ca/wiki/GNU_Parallel/fr#Suivi_des_commandes_ex.C3.A9cut.C3.A9es_ou_des_commandes_ayant_.C3.A9chou.C3.A9.3B_fonctionnalit.C3.A9s_de_red.C3.A9marrage)\n",
    "  en situation de fin hâtive de la tâche Slurm"
   ]
  },
  {
   "cell_type": "markdown",
   "metadata": {},
   "source": [
    "### Syntaxe de la commande GNU Parallel\n",
    "Les éléments de base de la commande `parallel` :\n",
    "```Bash\n",
    "parallel options gabarit_de_commande ::: liste de valeurs\n",
    "```\n",
    "\n",
    "Voir :\n",
    "```Bash\n",
    "man parallel  # q pour quitter\n",
    "```"
   ]
  },
  {
   "cell_type": "markdown",
   "metadata": {},
   "source": [
    "### Modes d'utilisation\n",
    "#### Une seule séquence de paramètres\n",
    "Le paramètre changeant est donné via une paire d'`{}` :\n",
    "```Bash\n",
    "parallel echo fichier{}.txt ::: 1 2 3 4\n",
    "# parallel --citation  # S'engager à citer les développeurs\n",
    "```\n",
    "\n",
    "On peut réécrire la première commande en utilisant l'expansion des\n",
    "accolades Bash `{a..b}` :\n",
    "```Bash\n",
    "parallel echo fichier{}.txt ::: {1..4}\n",
    "parallel echo fichier{}.txt ::: {01..10}\n",
    "```"
   ]
  },
  {
   "cell_type": "markdown",
   "metadata": {},
   "source": [
    "#### Combinaisons de paramètres\n",
    "**a)** Lorsqu'il y a **plusieurs séquences de paramètres à combiner**,\n",
    "on peut utiliser des paires d'accolades numérotées telles que\n",
    "`{1}`, `{2}`, etc. :\n",
    "```Bash\n",
    "parallel echo fichier{1}{2}.txt ::: {01..10} ::: a b\n",
    "```"
   ]
  },
  {
   "cell_type": "markdown",
   "metadata": {},
   "source": [
    "**b)** Dans le cas où on retrouve les **combinaisons de paramètres\n",
    "dans un fichier texte** :\n",
    "```Bash\n",
    "# parallel echo {} ::: 3 5 7 ::: 4 6 8 > param.txt\n",
    "cat scripts/prll-creer-param.sh\n",
    "bash scripts/prll-creer-param.sh\n",
    "cat param.txt\n",
    "```"
   ]
  },
  {
   "cell_type": "markdown",
   "metadata": {},
   "source": [
    "La commande `parallel` aura `-C ' '` pour spécifier le séparateur de\n",
    "paramètres dans `param.txt`, ainsi que l'argument `::::` pour\n",
    "spécifier ensuite ce nom de fichier :\n",
    "```Bash\n",
    "# parallel -C ' ' echo '{1}*{2} | bc > prod_{1}x{2}' :::: param.txt\n",
    "cat scripts/prll-exec-param.sh\n",
    "sbatch scripts/prll-exec-param.sh\n",
    "```"
   ]
  },
  {
   "cell_type": "markdown",
   "metadata": {},
   "source": [
    "**c)** Si on préfère valider la liste des commandes générées avant de\n",
    "soumettre une tâche Slurm, on peut générer une **liste de commandes\n",
    "dans un fichier texte** :\n",
    "```Bash\n",
    "# parallel -C ' ' echo 'echo {1}\"*\"{2} \"|\" bc \">\" prod_{1}x{2}' :::: param.txt > commandes.txt\n",
    "cat scripts/prll-creer-cmd.sh\n",
    "bash scripts/prll-creer-cmd.sh\n",
    "cat commandes.txt\n",
    "```"
   ]
  },
  {
   "cell_type": "markdown",
   "metadata": {},
   "source": [
    "Et dans la tâche Slurm :\n",
    "```Bash\n",
    "# parallel < commandes.txt\n",
    "cat scripts/prll-exec-cmd.sh\n",
    "sbatch scripts/prll-exec-cmd.sh\n",
    "```"
   ]
  },
  {
   "cell_type": "markdown",
   "metadata": {},
   "source": [
    "#### Nombre limité de cas en parallèles\n",
    "Le paramètre `--jobs` permet de forcer une limite sur le nombre de\n",
    "processus lancés à la fois. Par exemple, 8 cas avec 2 processus\n",
    "en simultané :\n",
    "```Bash\n",
    "parallel --jobs 2 'echo {} && sleep 3' ::: {1..8}\n",
    "```"
   ]
  },
  {
   "cell_type": "markdown",
   "metadata": {},
   "source": [
    "### Exercice - Aligner des séquences d'ADN\n",
    "Dans le dossier `donnees/`, vous devriez avoir plusieurs fichiers Fasta (`*.fa`)\n",
    "qui ont été créés au premier chapitre via le script de tâche\n",
    "`scripts/blastn-gen-seq.sh` et le Makefile `donnees/makefile`.\n",
    "**Si ce n'est pas le cas**, faites :\n",
    "```Bash\n",
    "sbatch scripts/blastn-gen-seq.sh\n",
    "```\n",
    "\n",
    "On devrait y retrouver :\n",
    "* pour chaque espèce fictive A, B, C et D,\n",
    "  un fichier de séquences d'ADN \"connues\"\n",
    "  * Ces fichiers sont convertis en bases de données Blast\n",
    "* pour 16 espèces \"inconnues\" K à Z, des séquences d'ADN à aligner\n",
    "  sur les séquences \"connues\" des espèces A, B, C et D"
   ]
  },
  {
   "cell_type": "markdown",
   "metadata": {},
   "source": [
    "On cherche donc à calculer l'alignement de toutes les\n",
    "combinaisons `{A,B,C,D}` x `{K,L,M,N,O,P,Q,R,S,T,U,V,W,X,Y,Z}`,\n",
    "ce qui donne 64 combinaisons.\n",
    "Le script de tâche suivant utilise GNU Parallel pour calculer les\n",
    "différents cas avec 4 processeurs :\n",
    "```Bash\n",
    "cat scripts/blastn-parallel.sh\n",
    "sbatch scripts/blastn-parallel.sh\n",
    "```\n",
    "\n",
    "Pour surveiller l'état de la tâche :\n",
    "```Bash\n",
    "squeue -u $USER\n",
    "ls donnees/res_prll/\n",
    "```\n",
    "À la fin de la tâche, il est bon d'analyser les ressources utilisées :\n",
    "```\n",
    "seff <jobid>\n",
    "```"
   ]
  },
  {
   "cell_type": "markdown",
   "metadata": {},
   "source": [
    "## Le *Greedy Launcher Of Small Tasks*, ou GLOST\n",
    "Le *Greedy Launcher Of Small Tasks*, ou\n",
    "[GLOST](https://docs.alliancecan.ca/wiki/GLOST/fr), fonctionne\n",
    "un peu **comme GNU Parallel, mais avec quelques différences** :\n",
    "* Fonctionne qu'avec des **calculs séquentiels (un processeur par cas)**\n",
    "* L'ordonnancement des processus se fait via\n",
    "  **[MPI](https://docs.alliancecan.ca/wiki/MPI/fr)**\n",
    "  avec une architecture de type **gestionnaire-travailleur**\n",
    "  sur un ou plusieurs noeuds de calcul\n",
    "  * Le gestionnaire envoie à chaque travailleur un cas à exécuter\n",
    "  * Le travailleur signale au gestionnaire quand le travail est complété\n",
    "  * Le gestionnaire informe les travailleurs lorsqu'il n'y a plus de cas\n",
    "    (pour quitter)\n",
    "\n",
    "![Fonctionnement GLOST](images/glost-communications.svg)\n",
    "\n",
    "* On doit donc définir **une ligne de commande par cas de calcul** :\n",
    "  * Toutes les lignes de commande sont **[listées dans un même fichier](https://docs.alliancecan.ca/wiki/GLOST/fr#Liste_de_t.C3.A2ches_situ.C3.A9es_dans_le_m.C3.AAme_r.C3.A9pertoire)**\n",
    "  * Les sous-commandes peuvent être séparées par des opérateurs `&&`. Par exemple :\n",
    "\n",
    "```Bash\n",
    "echo -n 'Bonjour ' && echo le monde\n",
    "```"
   ]
  },
  {
   "cell_type": "markdown",
   "metadata": {},
   "source": [
    "### Exercice - Liste de cas Blastn avec GLOST\n",
    "Générez la liste des cas dans le fichier `$SCRATCH/cas-blastn.txt` :\n",
    "```Bash\n",
    "cat scripts/blastn-cas.sh\n",
    "bash scripts/blastn-cas.sh\n",
    "\n",
    "less $SCRATCH/cas-blastn.txt\n",
    "wc -l $SCRATCH/cas-blastn.txt\n",
    "```"
   ]
  },
  {
   "cell_type": "markdown",
   "metadata": {},
   "source": [
    "Lancez une tâche de 4 processeurs utilisant GLOST pour tester les\n",
    "$8*4*10$ combinaisons de paramètres :\n",
    "```Bash\n",
    "cat scripts/blastn-glost.sh\n",
    "sbatch scripts/blastn-glost.sh\n",
    "\n",
    "squeue -u $USER\n",
    "```\n",
    "\n",
    "Allez voir les processus en exécution :\n",
    "```Bash\n",
    "ssh <nom_noeud>  # srun --jobid <No_Tache> --pty <commande>\n",
    "top -u $USER  # q pour quitter\n",
    "exit\n",
    "```\n",
    "\n",
    "Listez les résultats dans le dossier `$SCRATCH/res_glost`\n",
    "```Bash\n",
    "ls -l $SCRATCH/res_glost\n",
    "```"
   ]
  },
  {
   "cell_type": "markdown",
   "metadata": {},
   "source": [
    "## META-Farm - Le meilleur de GNU Parallel et GLOST\n",
    "[META-Farm](https://docs.alliancecan.ca/wiki/META-Farm/fr)\n",
    "est un autre outil très puissant qui reprend l'utilisation\n",
    "d'un fichier de cas à calculer.\n",
    "\n",
    "Alors que GLOST utilise une tâche parallèle MPI pour effectuer\n",
    "des calculs séquentiels, META-Farm utilise uniquement des tâches\n",
    "séquentielles pour effectuer zéro, un ou plusieurs calculs :\n",
    "* le mode SIMPLE implique un et un seul calcul par tâche et\n",
    "* le mode META permet de zéro à plusieurs calculs,\n",
    "  selon les cas restants.\n",
    "\n",
    "**Chaque tâche consulte la liste des cas et prend le prochain cas\n",
    "disponible.** Alors que le mode SIMPLE n'en prend qu'un seul, le mode\n",
    "META peut en prendre plusieurs. Une tâche se termine donc lorsqu'elle\n",
    "atteint sa limite de temps ou lorsqu'il ne reste plus de cas à\n",
    "calculer. Lorsque des cas ont échoué, il est possible de relancer\n",
    "le groupe de cas avec les cas restants.\n",
    "\n",
    "![META-Farm - Mode META](https://docs.alliancecan.ca/mediawiki/images/7/78/DWB_META.png)"
   ]
  },
  {
   "cell_type": "markdown",
   "metadata": {},
   "source": [
    "Pour utiliser META-Farm, il faut tout d'abord **créer\n",
    "un groupe de cas** dans un nouveau dossier de travail :\n",
    "\n",
    "```Bash\n",
    "module load meta-farm/1.0.2\n",
    "\n",
    "farm_init.run aligner-ADxKR\n",
    "cd aligner-ADxKR\n",
    "ls\n",
    "```"
   ]
  },
  {
   "cell_type": "markdown",
   "metadata": {},
   "source": [
    "Le fichier `table.dat` peut contenir une liste de combinaisons\n",
    "de paramètres ou bien **une liste de commandes**.\n",
    "La liste de commandes pour GLOST peut être recyclée :\n",
    "\n",
    "```Bash\n",
    "cp $SCRATCH/cas-blastn.txt table.dat\n",
    "sed -i 's/_glost/_meta/g' table.dat\n",
    "less table.dat\n",
    "```"
   ]
  },
  {
   "cell_type": "markdown",
   "metadata": {},
   "source": [
    "Pendant une tâche, chaque cas sera traité individuellement par le\n",
    "script [`single_case.sh`](https://docs.alliancecan.ca/wiki/META-Farm/fr#single_case.sh)\n",
    "et `$COMM` est la commande en cours.\n",
    "\n",
    "```Bash\n",
    "nano single_case.sh\n",
    "\n",
    "  #mkdir -p RUN$ID\n",
    "  cd ../donnees  # Aller dans le bon dossier\n",
    "\n",
    "  # ...\n",
    "\n",
    "  cd -  # Revenir où nous étions\n",
    "```\n",
    "\n",
    "Pour nos très courts cas de calcul, il faut réduire la variable\n",
    "`dt_failed` à 0 seconde :\n",
    "\n",
    "```Bash\n",
    "nano config.h\n",
    "\n",
    "  dt_failed=0\n",
    "```"
   ]
  },
  {
   "cell_type": "markdown",
   "metadata": {},
   "source": [
    "Le script de tâche doit s'appeler \n",
    "[`job_script.sh`](https://docs.alliancecan.ca/wiki/META-Farm/fr#job_script.sh) :\n",
    "\n",
    "```Bash\n",
    "cp ../scripts/blastn-meta.sh job_script.sh\n",
    "less job_script.sh\n",
    "```"
   ]
  },
  {
   "cell_type": "markdown",
   "metadata": {},
   "source": [
    "Et la soumission se fait via la commande [`submit.run`](https://docs.alliancecan.ca/wiki/META-Farm/fr#submit.run) :\n",
    "\n",
    "```Bash\n",
    "submit.run 4\n",
    "```\n",
    "\n",
    "Où `4` est le nombre de tâches Slurm."
   ]
  },
  {
   "cell_type": "markdown",
   "metadata": {},
   "source": [
    "## Vecteurs de tâches\n",
    "Alors que les précédents outils s'utilisent bien avec un lot de\n",
    "calculs séquentiels ou parallèles de petite taille (16 processeurs\n",
    "ou moins), **ils ne sont pas** vraiment **appropriés pour**\n",
    "un lot de **longs calculs parallèles de plus grande taille**\n",
    "(plus de 16 processeurs par calcul) :\n",
    "* on veut éviter les longues tâches qui dépassent trois (3) jours et\n",
    "* on veut réduire le risque de subir une défaillance matérielle.\n",
    "\n",
    "Dans le cas où un même programme parallèle doit être exécuté avec\n",
    "différentes combinaisons de paramètres, il y a moyen de soumettre un seul\n",
    "[vecteur de tâches](https://docs.alliancecan.ca/wiki/Job_arrays/fr)\n",
    "et de coder le script de tâche de telle sorte que les paramètres\n",
    "seront déterminés **en fonction d'un indice unique** du vecteur de tâches."
   ]
  },
  {
   "cell_type": "markdown",
   "metadata": {},
   "source": [
    "**Pour soumettre un vecteur de tâches** à l'ordonnanceur Slurm, que ce\n",
    "soit à la ligne de commande `sbatch` ou dans l'entête `#SBATCH`\n",
    "du script de tâche, **on doit ajouter l'option** `--array=<indices>`.\n",
    "Voir [ici quelques exemples](https://docs.alliancecan.ca/wiki/Job_arrays/fr).\n",
    "\n",
    "L'identifiant d'une tâche Slurm dans un vecteur de tâches contient :\n",
    "* L'identifiant du vecteur de tâches\n",
    "* Caractère de soulignement (`_`)\n",
    "* L'indice unique associé à la tâche\n",
    "\n",
    "**Par exemple :** `25249551_15`"
   ]
  },
  {
   "cell_type": "markdown",
   "metadata": {},
   "source": [
    "Dans le script de tâche, la **variable d'environnement**\n",
    "`$SLURM_ARRAY_TASK_ID` peut être utilisée pour retrouver la valeur\n",
    "actuelle de l'indice unique associé à la tâche en cours d'exécution.\n",
    "Il s'agit d'un **entier parmi** les `<indices>`.\n",
    "```Bash\n",
    "export SLURM_ARRAY_TASK_ID=71  # Pour émuler la variable\n",
    "```\n",
    "\n",
    "La variable `$SLURM_ARRAY_TASK_ID` peut être utilisée de différentes façons :\n",
    "```Bash\n",
    "echo nom_fichier.$SLURM_ARRAY_TASK_ID\n",
    "echo nom_dossier-$SLURM_ARRAY_TASK_ID\n",
    "\n",
    "PARAM=$SLURM_ARRAY_TASK_ID\n",
    "echo $PARAM\n",
    "\n",
    "PARAM_R=$((PARAM / 12))  # Division entière\n",
    "PARAM_C=$((PARAM % 12))  # Modulo (reste de division)\n",
    "echo $PARAM_R $PARAM_C\n",
    "\n",
    "head -n $PARAM_R param.txt | tail -1\n",
    "```"
   ]
  },
  {
   "cell_type": "markdown",
   "metadata": {},
   "source": [
    "### Exercice - Vecteur de tâches\n",
    "Lancez le vecteur de tâches :\n",
    "```Bash\n",
    "cat scripts/blastn-array.sh\n",
    "sbatch scripts/blastn-array.sh\n",
    "\n",
    "squeue -u $USER\n",
    "```\n",
    "\n",
    "Après l'exécution des quatre tâches, inspectez les résultats :\n",
    "```Bash\n",
    "ls slurm-*_*.out\n",
    "ls -l donnees/res_array/\n",
    "```\n",
    "\n",
    "* **Corrigez le script de tâche** pour que les 16 inconnues K à Z\n",
    "  soient traitées, avec une limite de **quatre** tâches à la fois.\n",
    "* Relancez le vecteur de tâches pour tester la correction.\n",
    "* Utilisez la commande `seff` pour étudier une des 16 tâches."
   ]
  },
  {
   "cell_type": "markdown",
   "metadata": {},
   "source": [
    "## Points à retenir\n",
    "* **GNU Parallel** pour lancer de multiples combinaisons de paramètres\n",
    "\n",
    "```Bash\n",
    "parallel 'gabarit_cmd({1})' ::: valeurs1\n",
    "parallel 'gabarit_cmd({1}, {2})' ::: valeurs1 ::: valeurs2\n",
    "parallel -C <sep> 'gabarit_cmd({1}, {2})' :::: paires_param.txt\n",
    "parallel --jobs 'N_cas_par_noeud' < liste_commandes.txt\n",
    "```\n",
    "\n",
    "* **GLOST** pour des calculs séquentiels seulement\n",
    "\n",
    "```Bash\n",
    "# commande1a && commande1b > fichier1.txt\n",
    "# commande2a && commande2b > fichier2.txt\n",
    "srun glost_launch liste_commandes.txt\n",
    "```\n",
    "\n",
    "* **META** [pour le meilleur de GNU Parallel et GLOST](https://docs.alliancecan.ca/wiki/META:_A_package_for_job_farming)\n",
    "\n",
    "* **Vecteurs de tâches** pour lancer une série de longues ou de larges tâches\n",
    "\n",
    "```Bash\n",
    "# $SLURM_ARRAY_TASK_ID aura une seule valeur dans ...\n",
    "sbatch --array=0-7      # [0, 7]\n",
    "sbatch --array=1,3,5,7  # {1,3,5,7}\n",
    "sbatch --array=1-7:3    # {1,4,7}\n",
    "sbatch --array=0-99%10  # [0, 99], mais 10 tâches à la fois\n",
    "```"
   ]
  },
  {
   "cell_type": "code",
   "execution_count": null,
   "metadata": {},
   "outputs": [],
   "source": []
  }
 ],
 "metadata": {
  "kernelspec": {
   "display_name": "Python 3 (ipykernel)",
   "language": "python",
   "name": "python3"
  },
  "language_info": {
   "codemirror_mode": {
    "name": "ipython",
    "version": 3
   },
   "file_extension": ".py",
   "mimetype": "text/x-python",
   "name": "python",
   "nbconvert_exporter": "python",
   "pygments_lexer": "ipython3",
   "version": "3.10.5"
  }
 },
 "nbformat": 4,
 "nbformat_minor": 4
}
