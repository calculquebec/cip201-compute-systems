{
 "cells": [
  {
   "cell_type": "markdown",
   "metadata": {},
   "source": [
    "# Maîtriser l’utilisation des serveurs de calcul\n",
    "## Les espaces de stockage\n",
    "Il y a plusieurs types de stockage à NOIRN :\n",
    "* Personnel (`/home`)\n",
    "* Temporaire local (`$SLURM_TMPDIR`)\n",
    "* Temporaire réseau (`/scratch`)\n",
    "* Projet partagé (`/project`)\n",
    "* *Nearline* de longue durée (`/nearline`)\n",
    "* [Dépôt fédéré de données de recherche](https://www.frdr-dfdr.ca/repo/) (DFDR)\n",
    "\n",
    "Or, vos données ont plusieurs aspects :\n",
    "* **Taille** : petits, gros, très gros fichiers\n",
    "* **Nombre** : peu nombreux ou en très grand nombre\n",
    "* **Transférabilité** : données regroupées et/ou compressées\n",
    "* **Vie** : pendant une tâche, entre des tâches, d'un projet à l'autre, à archiver\n",
    "* **Niveau d'accès** : données confidentielles, partagées, publiées\n",
    "\n",
    "Le but de ce chapitre est d'analyser différents scénarios concernant le stockage."
   ]
  },
  {
   "cell_type": "markdown",
   "metadata": {},
   "source": [
    "## Description de vos données\n",
    "* Sur Windows\n",
    "* Sur Mac OS\n",
    "* Sur Linux"
   ]
  },
  {
   "cell_type": "markdown",
   "metadata": {},
   "source": [
    "### Transférabilité\n",
    "* Regroupement\n",
    "* Compression"
   ]
  },
  {
   "cell_type": "markdown",
   "metadata": {},
   "source": [
    "### Plan de gestion des données\n",
    "* Vie des données\n",
    "* Niveaux d'accès"
   ]
  },
  {
   "cell_type": "markdown",
   "metadata": {},
   "source": [
    "## Les différents types de stockage\n",
    "* Stockage accessibles sur les noeuds de calcul\n",
    "* Stockage non-accessible sur les noeuds de calcul"
   ]
  },
  {
   "cell_type": "markdown",
   "metadata": {},
   "source": [
    "### Votre dossier personnel (`/home`)"
   ]
  },
  {
   "cell_type": "markdown",
   "metadata": {},
   "source": [
    "### Dossier temporaire local (`$SLURM_TMPDIR`)"
   ]
  },
  {
   "cell_type": "markdown",
   "metadata": {},
   "source": [
    "### Espace réseau pour données temporaires (`/scratch`)"
   ]
  },
  {
   "cell_type": "markdown",
   "metadata": {},
   "source": [
    "### Espace projet partagé (`/project`)\n",
    "* Configuration des ACLs"
   ]
  },
  {
   "cell_type": "markdown",
   "metadata": {},
   "source": [
    "### Stockage très longue durée (`/nearline`)"
   ]
  },
  {
   "cell_type": "markdown",
   "metadata": {},
   "source": [
    "### Dépot de données de recherche (DFDR)"
   ]
  },
  {
   "cell_type": "code",
   "execution_count": null,
   "metadata": {},
   "outputs": [],
   "source": []
  }
 ],
 "metadata": {
  "kernelspec": {
   "display_name": "Python 3",
   "language": "python",
   "name": "python3"
  },
  "language_info": {
   "codemirror_mode": {
    "name": "ipython",
    "version": 3
   },
   "file_extension": ".py",
   "mimetype": "text/x-python",
   "name": "python",
   "nbconvert_exporter": "python",
   "pygments_lexer": "ipython3",
   "version": "3.7.4"
  }
 },
 "nbformat": 4,
 "nbformat_minor": 2
}
