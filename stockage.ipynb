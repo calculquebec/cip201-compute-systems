{
 "cells": [
  {
   "cell_type": "markdown",
   "metadata": {},
   "source": [
    "# Maîtriser l’utilisation des serveurs de calcul\n",
    "## Les espaces de stockage\n",
    "Il y a plusieurs types de stockage à NOIRN :\n",
    "* Personnel (`/home`)\n",
    "* Temporaire local (`$SLURM_TMPDIR`)\n",
    "* Temporaire réseau (`/scratch`)\n",
    "* Projet partagé (`/project`)\n",
    "* *Nearline* de longue durée (`/nearline`)\n",
    "* [Dépôt fédéré de données de recherche](https://www.frdr-dfdr.ca/repo/) (DFDR)\n",
    "\n",
    "Or, vos données ont plusieurs aspects :\n",
    "* **Taille** : petits, gros, très gros fichiers\n",
    "* **Nombre** : peu nombreux ou en très grand nombre\n",
    "* **Transférabilité** : données regroupées et/ou compressées\n",
    "* **Vie** : pendant une tâche, entre des tâches, d'un projet à l'autre, à archiver\n",
    "* **Niveau d'accès** : données confidentielles, partagées, publiées\n",
    "\n",
    "Le but de ce chapitre est d'analyser différents scénarios concernant le stockage."
   ]
  },
  {
   "cell_type": "markdown",
   "metadata": {},
   "source": [
    "## Description de vos données\n",
    "Au chapitre précédent, nous avons vu comment obtenir le nombre de fichiers de nos données locales, de même que la taille totale.\n",
    "\n",
    "Sur une grappe de calcul, le système de fichiers parallel [*Lustre*](https://docs.computecanada.ca/wiki/Tuning_Lustre/fr) est surtout optimisé pour des fichiers de plus de 10 Mo, c'est-à-dire pour des accès à large bande-passante. Ainsi, à l'échelle des grappes de calcul :\n",
    "\n",
    "* 1 Ko - 100 Ko : très petit fichier\n",
    "* 1 Mo - 10 Mo : petit fichier\n",
    "* 100 Mo - 1 Go : taille raisonnable\n",
    "* 10 Go - 100 Go : gros fichier\n",
    "* 1 To - 10 To : très gros fichier"
   ]
  },
  {
   "cell_type": "markdown",
   "metadata": {},
   "source": [
    "À quantité totale égale d'octets, il est plus difficile pour *Lustre* de gérer un grand nombre de petits fichiers qu'un plus petit nombre de grands fichiers. Ainsi, du point de vue du système de stockage :\n",
    "\n",
    "* Par dossier :\n",
    "  * 1 à 100 fichiers par dossier : c'est raisonnable\n",
    "  * 1000 à 5k fichiers par dossier : des lenteurs se font sentir\n",
    "  * 10k fichiers et plus : il faut classer les fichiers dans des sous-dossiers\n",
    "* Par espace limité par un quota :\n",
    "  * 1 à 500k fichiers : sauvegarde facilement à jour\n",
    "  * 1M à 5M fichiers : sauvegarde potentiellement plus longue que 24h\n",
    "  * 10M fichiers et plus : sauvegarde plus longue que 24h"
   ]
  },
  {
   "cell_type": "markdown",
   "metadata": {},
   "source": [
    "### Transférabilité\n",
    "#### Regroupement dans un fichier archive\n",
    "Étant donné que le transfert ou la synchronisation de [plusieurs petits fichiers](https://docs.computecanada.ca/wiki/Handling_large_collections_of_files/fr) implique un accès fréquent aux métadonnées du système de stockage Lustre, il est donc préférable de [regrouper les fichiers](https://docs.computecanada.ca/wiki/Archiving_and_compressing_files/fr) d'un jeu de données avant tout transfert.\n",
    "Pour ce faire, il existe plusieurs formats décodables sur les différentes grappes :\n",
    "\n",
    "* WinZip ou Zip (`.zip`) - compressé\n",
    "* 7-Zip (`.7z`) - compressé\n",
    "* Tape ARchive ou [TAR](https://docs.computecanada.ca/wiki/A_tutorial_on_%27tar%27/fr) (`.tar`) - non compressé, sauf si utilisé avec Gzip ou autre\n",
    "* Disk ARchive ou [DAR](https://docs.computecanada.ca/wiki/Dar/fr) (`.dar`) - compression configurable"
   ]
  },
  {
   "cell_type": "markdown",
   "metadata": {},
   "source": [
    "#### Compression\n",
    "La [compression des fichiers](https://docs.computecanada.ca/wiki/Archiving_and_compressing_files/fr) permet :\n",
    "1. d'économiser de l'espace-disque et\n",
    "1. de réduire la quantité d'octets à transférer.\n",
    "\n",
    "Or, la compression a aussi un **coût en temps CPU** à chaque fois que nous voulons lire les données ou les écrire.\n",
    "* Ainsi, il vaut mieux utiliser la compression lorsque c'est *avantageux* en espace et/ou en temps.\n",
    "  * Par exemple : décompression des fichiers sur le noeud de calcul plutôt que de lire le fichier de *Lustre*.\n",
    "\n",
    "Concernant les fichiers binaires tels que FLAC, JPEG, PNG, etc., leur encodage inclut déjà une compression des données.\n",
    "* Selon le type de données que vous utilisez dans votre domaine de recherche, il se pourrait qu'elles soient déjà compressées. À vous de vérifier.\n",
    "* En pratique, on gagne peu d'espace à compresser davantage ces fichiers."
   ]
  },
  {
   "cell_type": "markdown",
   "metadata": {},
   "source": [
    "Sur les grappes de calcul, il y a deux types de compression :\n",
    "1. Compression explicite :\n",
    "  * Lorsque vous utilisez un outil de compression (`7z`, `bzip2`, `gzip`, `zip`, etc.)\n",
    "  * Lorsque l'encodage permet de compresser les données (`dar`, bibliothèque `zlib`, etc.)\n",
    "  * Lors d'un transfert avec `scp` ou `rsync`, il existe des options permettant de compresser automatiquement les données lors du transfert. Cela étant dit, le transfert risque d'être limité par la vitesse du processeur...\n",
    "1. Compression implicite :\n",
    "  * Lorsque le système de fichiers compresse automatiquement vos données avant de les écrire sur le système de stockage\n",
    "  * La commande `du` montre l'espace réellement utilisée sur le disque\n",
    "  * La commande `du --apparent-size` montre la taille normale du fichier"
   ]
  },
  {
   "cell_type": "markdown",
   "metadata": {},
   "source": [
    "#### Fichiers épars (sparse files)\n",
    "Restez à l'affût des fichiers épars dont la faible taille sur le disque n'est pas représentative de la taille normale du fichier :\n",
    "* Une certaine taille `T` est allouée pour le fichier. Par exemple : 1 To\n",
    "* Seulement `t` octets sont réellement écrits dans le fichier (où `t << T`). Par exemple : 1 Go\n",
    "* Ce type de fichiers est typiquement utilisé pour des volumes de stockage de machines virtuelles, ce qui économise de l'espace sur le serveur hôte\n",
    "* Problème : lors d'un transfert ou d'une sauvegarde (backup), ce sont les `T` octets qui sont lus, ce qui peut être catastrophique si `T` est vraiment très grand\n",
    "* Solution : les fichiers `.dar` permettent d'optimiser l'encapsulation de fichiers épars avant un transfert ou une copie des données"
   ]
  },
  {
   "cell_type": "markdown",
   "metadata": {},
   "source": [
    "#### Exercice\n",
    "Dans un terminal Jupyter, essayez les commandes :\n",
    "* `du -s ~`\n",
    "* `du -s --apparent-size ~`\n",
    "\n",
    "* Notez les différences, s'il y en a\n",
    "* Notez à quel point cette commande peut surcharger le système de stockage; le survol récursif des fichiers constitue un grand nombre d'accès aux métadonnées de *Lustre*\n",
    "\n",
    "En pratique, les grappes de calcul offrent des outils efficaces pour mesurer l'espace utilisé en fonction de l'espace alloué."
   ]
  },
  {
   "cell_type": "markdown",
   "metadata": {},
   "source": [
    "### Plan de gestion des données\n",
    "* Vie des données\n",
    "* Niveaux d'accès"
   ]
  },
  {
   "cell_type": "markdown",
   "metadata": {},
   "source": [
    "## Les différents types de stockage\n",
    "* Stockage accessibles sur les noeuds de calcul\n",
    "* Stockage non-accessible sur les noeuds de calcul"
   ]
  },
  {
   "cell_type": "markdown",
   "metadata": {},
   "source": [
    "### Votre dossier personnel (`/home`)"
   ]
  },
  {
   "cell_type": "markdown",
   "metadata": {},
   "source": [
    "### Dossier temporaire local (`$SLURM_TMPDIR`)"
   ]
  },
  {
   "cell_type": "markdown",
   "metadata": {},
   "source": [
    "### Espace réseau pour données temporaires (`/scratch`)"
   ]
  },
  {
   "cell_type": "markdown",
   "metadata": {},
   "source": [
    "### Espace projet partagé (`/project`)\n",
    "* Configuration des ACLs"
   ]
  },
  {
   "cell_type": "markdown",
   "metadata": {},
   "source": [
    "### Stockage très longue durée (`/nearline`)"
   ]
  },
  {
   "cell_type": "markdown",
   "metadata": {},
   "source": [
    "### Dépot de données de recherche (DFDR)"
   ]
  },
  {
   "cell_type": "markdown",
   "metadata": {},
   "source": [
    "## Gestion du stockage\n",
    "* `diskusage_report` / `quota`\n",
    "* Consommation de l'espace `/project` par utilisateur\n",
    "* `diskusage_explorer`\n",
    "* Accès aux données d'une personne ayant quitté le groupe"
   ]
  },
  {
   "cell_type": "code",
   "execution_count": null,
   "metadata": {},
   "outputs": [],
   "source": []
  }
 ],
 "metadata": {
  "kernelspec": {
   "display_name": "Python 3",
   "language": "python",
   "name": "python3"
  },
  "language_info": {
   "codemirror_mode": {
    "name": "ipython",
    "version": 3
   },
   "file_extension": ".py",
   "mimetype": "text/x-python",
   "name": "python",
   "nbconvert_exporter": "python",
   "pygments_lexer": "ipython3",
   "version": "3.7.4"
  }
 },
 "nbformat": 4,
 "nbformat_minor": 2
}
