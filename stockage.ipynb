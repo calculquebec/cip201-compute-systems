{
 "cells": [
  {
   "cell_type": "markdown",
   "metadata": {},
   "source": [
    "# Maîtriser l’utilisation des serveurs de calcul\n",
    "## Les espaces de stockage\n",
    "Il y a plusieurs types de stockage à l'Alliance de Recherche numérique du Canada :\n",
    "* Personnel (`/home`)\n",
    "* Temporaire local (`$SLURM_TMPDIR`)\n",
    "* Temporaire réseau (`/scratch`)\n",
    "* Projet partagé (`/project`)\n",
    "* *Nearline* de longue durée (`/nearline`)\n",
    "* [Dépôt fédéré de données de recherche](https://www.frdr-dfdr.ca/repo/) (DFDR)\n",
    "\n",
    "Or, vos données ont plusieurs aspects :\n",
    "* **Taille** : petits, gros, très gros fichiers\n",
    "* **Nombre** : peu nombreux ou en très grand nombre\n",
    "* **Transférabilité** : données regroupées et/ou compressées\n",
    "* **Vie** : pendant une tâche, entre des tâches, d'un projet à l'autre, à archiver\n",
    "* **Niveau d'accès** : données confidentielles, partagées, publiées\n",
    "\n",
    "Le but de ce chapitre est de pouvoir considérer tous les aspects nécessaires à la gestion des données actives sur les différents espaces de stockage disponibles."
   ]
  },
  {
   "cell_type": "markdown",
   "metadata": {},
   "source": [
    "## Description de vos données\n",
    "Au chapitre précédent, nous avons vu comment obtenir le nombre de fichiers de nos données locales, de même que la taille totale.\n",
    "\n",
    "Sur une grappe de calcul, un **système de fichiers parallel**\n",
    "[*Lustre*](https://docs.computecanada.ca/wiki/Tuning_Lustre/fr) ou *GPFS*\n",
    "est surtout optimisé pour des fichiers de plus de 10 Mo,\n",
    "c'est-à-dire pour des accès à large bande-passante. Ainsi, à l'échelle des\n",
    "[grappes de calcul](https://docs.computecanada.ca/wiki/B%C3%A9luga#Stockage) :\n",
    "\n",
    "* 1 Ko - 100 Ko : très petit fichier\n",
    "* 1 Mo - 10 Mo : petit fichier\n",
    "* 100 Mo - 1 Go : taille raisonnable\n",
    "* 10 Go - 100 Go : gros fichier\n",
    "* 1 To - 10 To : très gros fichier"
   ]
  },
  {
   "cell_type": "markdown",
   "metadata": {},
   "source": [
    "À quantité totale égale d'octets, il est plus difficile pour *Lustre* de gérer un grand nombre de petits fichiers qu'un plus petit nombre de grands fichiers. Ainsi, du point de vue du système de stockage :\n",
    "\n",
    "* Par dossier :\n",
    "  * 1 à 100 fichiers par dossier : c'est raisonnable\n",
    "  * 1000 à 5k fichiers par dossier : des lenteurs se font sentir\n",
    "  * 10k fichiers et plus : il faut classer les fichiers dans des sous-dossiers\n",
    "* Par espace [limité par un quota](https://docs.computecanada.ca/wiki/Storage_and_file_management/fr#Quotas_et_politiques) :\n",
    "  * 1 à 500k fichiers : sauvegarde facilement à jour\n",
    "  * 1M à 5M fichiers : sauvegarde potentiellement plus longue que 24h\n",
    "  * 10M fichiers et plus : sauvegarde plus longue que 24h"
   ]
  },
  {
   "cell_type": "markdown",
   "metadata": {},
   "source": [
    "### Transférabilité\n",
    "#### Regroupement dans un fichier archive\n",
    "Étant donné que le transfert ou la synchronisation de [plusieurs petits fichiers](https://docs.computecanada.ca/wiki/Handling_large_collections_of_files/fr) implique un accès fréquent aux métadonnées du système de stockage *Lustre*, il est donc préférable de [regrouper les fichiers](https://docs.computecanada.ca/wiki/Archiving_and_compressing_files/fr) d'un jeu de données avant tout transfert.\n",
    "Pour ce faire, il existe plusieurs formats décodables sur les différentes grappes :\n",
    "\n",
    "* WinZip ou Zip (`.zip`) - compressé\n",
    "```\n",
    "man zip  # q pour quitter\n",
    "```\n",
    "* 7-Zip (`.7z`) - compressé\n",
    "```\n",
    "man 7z  # q pour quitter\n",
    "```\n",
    "* Tape ARchive ou [TAR](https://docs.computecanada.ca/wiki/A_tutorial_on_%27tar%27/fr) (`.tar`) - non compressé, sauf si utilisé avec Gzip ou autre\n",
    "```\n",
    "man tar  # q pour quitter\n",
    "```\n",
    "* Disk ARchive ou [DAR](https://docs.computecanada.ca/wiki/Dar/fr) (`.dar`) - compression configurable\n",
    "```\n",
    "man dar  # q pour quitter\n",
    "```"
   ]
  },
  {
   "cell_type": "markdown",
   "metadata": {},
   "source": [
    "#### Compression\n",
    "La [compression des fichiers](https://docs.computecanada.ca/wiki/Archiving_and_compressing_files/fr) a un **coût en temps CPU** à chaque fois que nous voulons lire les données ou les écrire.\n",
    "* Ainsi, il vaut mieux utiliser la compression **lorsque c'est \"avantageux\"** en espace et/ou en temps.\n",
    "  * Par exemple : décompression des fichiers sur le noeud de calcul plutôt que de lire chaque fichier de *Lustre*.\n",
    "\n",
    "Concernant les fichiers binaires tels que FLAC, JPEG, PNG, etc., leur encodage **inclut déjà une compression** des données.\n",
    "* Selon le type de données que vous utilisez dans votre domaine de recherche, il se pourrait qu'elles soient déjà compressées. À vous de vérifier.\n",
    "* Habituellement, on gagne peu d'espace à compresser davantage ces fichiers."
   ]
  },
  {
   "cell_type": "markdown",
   "metadata": {},
   "source": [
    "#### Exercice - DAR\n",
    "Dans un terminal :\n",
    "```\n",
    "dar -w -c dossiers -g images -g scripts\n",
    "```\n",
    "* `-w` : pour éviter un avertissement d'écrasement d'archive existante\n",
    "* `-c` : pour créer l'archive `dossiers`\n",
    "* `-g` : pour spécifier un fichier ou dossier à la fois\n",
    "\n",
    "```\n",
    "dar -l dossiers\n",
    "```\n",
    "* `-l` : pour lister les fichiers dans l'archive DAR `dossiers`\n",
    "* Note : **ne pas** fournir le nom d'une *slice* avec l'extension `.1.dar`\n",
    "\n",
    "```\n",
    "dar -w -z -c dossiers -g images -g scripts\n",
    "```\n",
    "* `-z` : pour activer la compression\n",
    "* Voir le résultat avec `dar -l dossiers`\n",
    "\n",
    "```\n",
    "dar -w -z -Z '*.png' -c dossiers -g images -g scripts\n",
    "```\n",
    "* `-Z '*.png'` : pour exclure les fichiers PNG\n",
    "* Voir le résultat avec `dar -l dossiers`"
   ]
  },
  {
   "cell_type": "markdown",
   "metadata": {},
   "source": [
    "Sur les grappes de calcul, il y a deux (2) types de compression :\n",
    "1. Compression explicite :\n",
    "  * Lorsque vous utilisez un outil de compression (`7z`, `bzip2`, `gzip`, `zip`, etc.)\n",
    "  * Lorsque l'encodage permet de compresser les données (`dar`, bibliothèque `zlib`, etc.)\n",
    "  * Lors d'un transfert avec `rsync`, il existe des options permettant de compresser automatiquement les données lors du transfert. Cela étant dit, le transfert risque d'être limité par la vitesse du processeur...\n",
    "```\n",
    "man rsync  # Chercher: /compress + n, Quitter: q\n",
    "```\n",
    "1. Compression implicite :\n",
    "  * Lorsque le système de fichiers compresse automatiquement vos données avant de les écrire sur le système de stockage\n",
    "    * La commande `du` montre l'espace réellement utilisée sur le disque\n",
    "    * La commande `du --apparent-size` montre la taille normale du fichier\n",
    "  * Lorsque le format du fichier de données inclut une compression des données. Par exemple :\n",
    "    * [Hierarchical Data Format - HDF5](https://docs.computecanada.ca/wiki/HDF5/fr) - format standard pour données scientifiques\n",
    "    * [Apache Parquet](https://parquet.apache.org/documentation/latest/) - stockage compressé de données tabulaires\n",
    "      * Note: l'autre format, [Apache Feather](https://arrow.apache.org/docs/python/feather.html), ne compresse pas vraiment les données, sauf si on considère que c'est un format binaire prenant moins de place"
   ]
  },
  {
   "cell_type": "markdown",
   "metadata": {},
   "source": [
    "#### Exercice - Espace utilisé\n",
    "Dans un terminal Jupyter, essayez les commandes :\n",
    "* `du -s ~`\n",
    "* `du -s --apparent-size ~`\n",
    "* Notez les différences, s'il y en a\n",
    "* Notez à quel point cette commande peut surcharger le système de stockage; le survol récursif des fichiers constitue un grand nombre d'accès aux métadonnées de *Lustre*\n",
    "\n",
    "En pratique, les grappes de calcul offrent des outils efficaces pour mesurer l'espace utilisé en fonction de l'espace alloué.\n",
    "Nous verrons cela à la fin du chapitre."
   ]
  },
  {
   "cell_type": "markdown",
   "metadata": {},
   "source": [
    "#### Fichiers épars (sparse files)\n",
    "Restez à l'affût des fichiers épars dont la faible taille sur le disque n'est pas représentative de la taille normale du fichier :\n",
    "* Une certaine taille `T` est allouée pour le fichier. Par exemple : 1 To\n",
    "* Seulement `t` octets sont réellement écrits dans le fichier (où `t << T`). Par exemple : 1 Go\n",
    "* Ce type de fichiers est typiquement utilisé pour des volumes de stockage de machines virtuelles, ce qui économise de l'espace sur le serveur hôte\n",
    "* Problème : lors d'un transfert ou d'une sauvegarde (backup), ce sont les `T` octets qui sont lus, ce qui peut être catastrophique si `T` est vraiment très grand\n",
    "* **Solution** : les fichiers `.dar` permettent d'optimiser l'encapsulation de fichiers épars avant un transfert ou une copie des données"
   ]
  },
  {
   "cell_type": "markdown",
   "metadata": {},
   "source": [
    "### Plan de gestion des données actives\n",
    "Les données sur les grappes de calcul sont généralement présentes en attente d'être traitées, manipulées ou publiées, d'où la notion de *données actives*. Or, il y a une planification à faire et des questions à se poser.\n",
    "\n",
    "#### Vie des données\n",
    "* **Durée de vie variable** - avons-nous affaire à des données temporaires ou à des données persistantes?\n",
    "  * Utilisées (à répétition ou non) pendant une seule tâche de calcul?\n",
    "  * Utilisées entre deux tâches de calcul?\n",
    "  * Utilisées pour plusieurs calculs par plusieurs personnes?\n",
    "  * Peut-on importer à nouveau les données en cas de perte?\n",
    "  * Peut-on recalculer les données en cas de perte? Si oui, à quel coût?\n",
    "* **Fréquence d'accès** - combien de temps sépare les différents accès?\n",
    "  * Utilisation courante (à chaque jour, semaine ou mois)?\n",
    "  * Données à garder pour plus tard, par exemple pour reproduire les résultats?\n",
    "  * Données à publier sur des dépôts de données de recherche?\n",
    "\n",
    "Si aucune planification n'est faite, les données temporaires s'accumulent et prennent de la place dans l'espace alloué qui est de taille limitée. Si les données sont mal décrites, leur identification, leur compréhension et leur publication deviennent des tâches laborieuses pour les personnes qui en héritent.\n",
    "```\n",
    "cat .gitignore  # Fichiers à ignorer, car temporaires\n",
    "cat README.md   # Description du projet\n",
    "```"
   ]
  },
  {
   "cell_type": "markdown",
   "metadata": {},
   "source": [
    "#### Niveaux d'accès\n",
    "* Quel est le **niveau de confidentialité** de vos données?\n",
    "  * **Qui** devrait avoir accès à quelles données?\n",
    "  * **Où** pouvez-vous héberger vos données?\n",
    "* **Quand** : qui devrait avoir accès à vos données à votre départ?\n",
    "\n",
    "Référez-vous aux **politiques de votre université** concernant la gestion des données de recherche.\n",
    "Dans tous les cas, sans précaution, les données que vous laissez sur les grappes de calcul risquent de ne pas être accessibles aux membres d'un laboratoire qui poursuivent leur recherche.\n",
    "\n",
    "Dès que possible, mettez en place les accès nécessaires pour le [partage de vos données](https://docs.computecanada.ca/wiki/Sharing_data/fr)."
   ]
  },
  {
   "cell_type": "markdown",
   "metadata": {},
   "source": [
    "## Les différents types de stockage\n",
    "Stockage accessible selon le type de noeud :\n",
    "* Noeud de connexion (ou interactif)\n",
    "* Noeud de calcul (CPU ou GPU)\n",
    "\n",
    "|     Stockage    | Connexion |  Calcul |\n",
    "|-----------------|:---------:|:-------:|\n",
    "|         `/home` |    Oui    |   Oui*  |\n",
    "| `$SLURM_TMPDIR` |  **Non**  |   Oui   |\n",
    "|      `/scratch` |    Oui    |   Oui   |\n",
    "|      `/project` |    Oui    |   Oui   |\n",
    "|     `/nearline` |    Oui    | **Non** |\n",
    "`*` En lecture-seule sur Cedar\n",
    "\n",
    "À propos des [différents espaces de stockage](https://docs.computecanada.ca/wiki/Storage_and_file_management/fr#Types_de_stockage)."
   ]
  },
  {
   "cell_type": "markdown",
   "metadata": {},
   "source": [
    "### Votre dossier personnel (`/home`)\n",
    "```\n",
    "ls -a\n",
    "ls -la\n",
    "ls -ld $HOME\n",
    "```\n",
    "\n",
    "* **Point d'entrée** par défaut lors d'une connexion à une grappe de calcul\n",
    "* [Quota d'espace relativement petit](https://docs.computecanada.ca/wiki/Storage_and_file_management/fr#Quotas_et_politiques), mais accepte un nombre de fichiers relativement grand\n",
    "  * Idéal pour la [compilation et l'installation de logiciels](https://docs.computecanada.ca/wiki/Installing_software_in_your_home_directory/fr)"
   ]
  },
  {
   "cell_type": "markdown",
   "metadata": {},
   "source": [
    "### Dossier temporaire local (`$SLURM_TMPDIR`)\n",
    "```\n",
    "ls -ld $SLURM_TMPDIR\n",
    "salloc\n",
    "  ls -ld $SLURM_TMPDIR\n",
    "  df -h $SLURM_TMPDIR\n",
    "  exit\n",
    "```\n",
    "\n",
    "* Stockage **local très rapide**, mais limité à la durée de la tâche de calcul\n",
    "  * Faible latence à comparé *Lustre*\n",
    "  * Grande bande-passante, en particulier pour les petits fichiers\n",
    "  * **Données supprimées à la fin** de la tâche de calcul\n",
    "  * Si plusieurs noeuds travaillent sur un même calcul parallèle, **chaque noeud a son propre dossier** `$SLURM_TMPDIR`\n",
    "* Cas d'utilisation :\n",
    "  * **Importation** de plusieurs **petits fichiers** qui seront utilisés à répétition lors d'un calcul\n",
    "  * **Sauvegarde** de fichiers qui sont **constamment modifiés** - à exporter vers Lustre à la fin du calcul"
   ]
  },
  {
   "cell_type": "markdown",
   "metadata": {},
   "source": [
    "### Espace réseau pour données temporaires (`/scratch`)\n",
    "```\n",
    "df -h /scratch\n",
    "ls -ld $SCRATCH\n",
    "\n",
    "# Enlever l'accès en lecture\n",
    "chmod g-r $SCRATCH\n",
    "ls -ld $SCRATCH\n",
    "\n",
    "# Modifier le GID du répertoire\n",
    "id\n",
    "chgrp def-sponsor00 $SCRATCH\n",
    "ls -ld $SCRATCH\n",
    "```"
   ]
  },
  {
   "cell_type": "markdown",
   "metadata": {},
   "source": [
    "```\n",
    "# Création d'un dossier de résultats partagés\n",
    "mkdir -p $SCRATCH/partage/resultats\n",
    "ls -lR $SCRATCH\n",
    "\n",
    "# Ajouter les permissions r (et x, s'il y a lieu) récursivement\n",
    "chmod -R o+rX $SCRATCH/partage\n",
    "ls -lR $SCRATCH\n",
    "```"
   ]
  },
  {
   "cell_type": "markdown",
   "metadata": {},
   "source": [
    "```\n",
    "# Visiter le dossier partagé de quelqu'un d'autre\n",
    "cd /scratch/userXY/partage\n",
    "pwd\n",
    "ls -l\n",
    "cd $HOME\n",
    "```\n",
    "\n",
    "* Espace de stockage réseau de [grande capacité](https://docs.computecanada.ca/wiki/Storage_and_file_management/fr#Quotas_et_politiques) pour des **données temporaires**\n",
    "  * **Pas** sauvegardé\n",
    "  * [Purge mensuelle](https://docs.computecanada.ca/wiki/Scratch_purging_policy/fr) pour les données âgées de plus de 60 jours\n",
    "* Performance variable selon l'utilisation de l'ensemble des utilisateurs\n",
    "* Cas d'utilisation :\n",
    "  * Utilisation de données **pendant quelques jours** seulement\n",
    "  * Stocker temporairement des **résultats en grand nombre** de fichiers\n",
    "  * Stocket des résultats **intermédiaires** qui sont **trop gros** pour `/project`"
   ]
  },
  {
   "cell_type": "markdown",
   "metadata": {},
   "source": [
    "### Espace projet partagé (`/project`)\n",
    "```\n",
    "ls -ld /project\n",
    "ls -ld /project/def-sponsor00\n",
    "ls -l /project/def-sponsor00\n",
    "```\n",
    "\n",
    "* Espace de stockage réseau de [petite à grande capacité](https://docs.computecanada.ca/wiki/Storage_and_file_management/fr#Quotas_et_politiques) pour des **données de projet**\n",
    "  * Un espace projet par défaut par groupe de recherche (sauf sur Niagara)\n",
    "    * Petite augmentation d'espace projet **sur simple demande (jusqu'à 10 To)**\n",
    "    * Quota plus élevé si [allocation spéciale](https://www.computecanada.ca/page-daccueil-du-portail-de-recherche/acces-aux-ressources/concours-dallocation-des-ressources/ressources-pour-les-groupes-de-recherche-crgr/?lang=fr)\n",
    "  * Sauvegardé **quotidiennement**\n",
    "    * Nombre de fichiers relativement limité\n",
    "* Données de projet :\n",
    "  * Potentiellement **partagées** - [configuration des ACLs](https://docs.computecanada.ca/wiki/Sharing_data/fr)\n",
    "  * Durée de vie en fonction de la durée d'un projet\n",
    "  * Typiquement plus importantes que les données temporaires\n",
    "* Cas d'utilisation :\n",
    "  * Stockage de jeux de données **réutilisés sur plusieurs mois et/ou par plusieurs personnes**\n",
    "  * Stockage de **résultats finaux** coûteux à reproduire"
   ]
  },
  {
   "cell_type": "markdown",
   "metadata": {},
   "source": [
    "### Stockage très longue durée (`/nearline`)\n",
    "* Malgré une interface de stockage sur disque (on peut voir les fichiers avec la commande `ls`), les données les plus anciennes dans [`/nearline` sont probablement sur ruban](https://docs.computecanada.ca/wiki/Using_nearline_storage/fr)\n",
    "  * Voir les commandes pour [diagnostiquer l'état des fichiers](https://docs.computecanada.ca/wiki/Using_nearline_storage/fr#Transf.C3.A9rer_des_donn.C3.A9es_.C3.A0_partir_de_.2Fnearline) dans `/nearline`\n",
    "  * D'une part, la migration de données sur ruban réduit l'espace utilisé sur les disques - économie d'argent pour le stockage\n",
    "  * D'autre part, chaque lecture de fichier migré sur ruban créera **une requête bloquante** causant un temps de réponse de quelques minutes à quelques heures (si le système d'archivage est surchargé de requêtes)\n",
    "    * Voilà pourquoi il est impératif d'y sauvegarder un faible nombre de très grands fichiers\n",
    "    * **À éviter** : y copier de nombreux petits fichiers avant de les regrouper dans un fichier d'archive\n",
    "* Cas d'utilisation :\n",
    "  * Les commandes `7z`, `dar`, `tar` et `zip` devraient uniquement regrouper des fichiers provenant de `/project` ou de `/scratch`\n",
    "  * Stockage de données importantes **qui ne seront pas utilisées pendant plusieurs mois**"
   ]
  },
  {
   "cell_type": "markdown",
   "metadata": {},
   "source": [
    "### Exemples de cycles de vie des données\n",
    "#### Exemple de pipeline 1\n",
    "![Pipeline 1](images/data-flow-1.png)\n",
    "\n",
    "Description des différentes étapes :\n",
    "* Téléchargement des données dans `/scratch`\n",
    "  * Pour une utilisation de quelques jours à quelques semaines\n",
    "  * Nul besoin de les protéger davantage\n",
    "* Soumettre une série de tâches de calcul\n",
    "  * Une tâche par fichier dans `dossier` dans la partition `/scratch`\n",
    "* Le script de tâche est dans la partition `/home`\n",
    "  * Utilisation des variables `$FIC` et `$SLURM_TMPDIR` pour copier le fichier à traiter localement sur le noeud de calcul\n",
    "  * Se déplacer dans le dossier local\n",
    "  * Y configurer un environnement Python\n",
    "  * Exécuter le code Python présent dans `/home`, fournir le nom du fichier à traiter et rediriger toutes les sorties dans un fichier local\n",
    "  * Rapatrier le fichier de résultats dans un dossier dans `/scratch`\n",
    "* Post-traitement - traiter tous les fichiers de résultats afin de ne garder que l'essentiel dans `/project`"
   ]
  },
  {
   "cell_type": "markdown",
   "metadata": {},
   "source": [
    "#### Exemple de pipeline 2\n",
    "![Pipeline 2](images/data-flow-2.png)\n",
    "\n",
    "Description des différentes étapes :\n",
    "* Téléchargement des données dans `/project`\n",
    "  * Pour un partage des données\n",
    "  * Pour une réutilisation à moyen-long terme\n",
    "* Soumettre une série de tâches de calcul\n",
    "  * Une tâche par *cas* (un sous-dossier de données) dans `dossier` dans la partition `/project`\n",
    "* Le script de tâche est dans la partition `/home`\n",
    "  * Utilisation des variables `$CAS` et `$SLURM_SUBMIT_DIR` pour le chemin complet vers le *cas* à étudier (situé dans `/project`)\n",
    "  * Se déplacer dans le dossier local `$SLURM_TMPDIR` du noeud de calcul\n",
    "  * Exécution de scripts présents dans `/home`\n",
    "  * Toute la trace d'exécution est sauvegardée dans un fichier créé dans `$SLURM_TMPDIR`\n",
    "  * À chaque itération globale, tous les fichiers archives dans le sous-dossier du *cas* (présent dans `/project`) sont traités :\n",
    "    * Le traitement consiste à extraire localement les données groupées et compressées\n",
    "    * Les données extraites sont dans un dossier local `donnees`\n",
    "  * Rapatrier le fichier de résultats dans un dossier dans `/scratch`\n",
    "* Post-traitement - traiter tous les fichiers de résultats :\n",
    "  * Conversion en format CSV dans `/scratch`\n",
    "  * Regrouper les fichiers CSV dans la partition `/project` où il y a de la compression implicite"
   ]
  },
  {
   "cell_type": "markdown",
   "metadata": {},
   "source": [
    "#### Exercice - Exécution d'un pipeline\n",
    "* Étudier les scripts :\n",
    "  * `scripts/nbody-pipeline.sh`\n",
    "  * `scripts/nbody-traitement.sh`\n",
    "* Lancer le pipeline avec la commande `bash scripts/nbody-pipeline.sh`\n",
    "* Surveiller les tâches avec `squeue -u $USER`\n",
    "* Trouver les fichiers créés dans `/scratch/$USER/resultats`\n",
    "* Lancer le post-traitement avec la commande `bash scripts/nbody-traitement.sh`\n",
    "* Trouver le fichier TSV dans l'espace projet"
   ]
  },
  {
   "cell_type": "markdown",
   "metadata": {},
   "source": [
    "## Gestion du stockage\n",
    "Avec le temps, les données s'accumulent. Il devient alors nécessaire de surveiller l'espace utilisé, de même que le nombre de fichiers qui s'y trouvent.\n",
    "```\n",
    "df -h /project\n",
    "df -hi /project\n",
    "```\n",
    "\n",
    "* [La commande `diskusage_report`](https://docs.computecanada.ca/wiki/Storage_and_file_management/fr#Introduction) permet de générer un court rapport sur l'espace utilisé et le nombre de fichiers de chacun des espaces de stockage auxquels vous avez accès\n",
    "* À chaque jour, un rapport de consommation de l'espace `/project` par utilisateur est produit :\n",
    "  * Sur Béluga : dans `/project/.stats/<nom-allocation>`\n",
    "  * Sur Cedar : dans `/project/.stats/<nom-allocation>.json`\n",
    "  * Disponible sur demande pour Graham et Niagara\n",
    "* Sur Béluga, il existe aussi un outil plus avancé : [`diskusage_explorer`](https://docs.computecanada.ca/wiki/Diskusage_Explorer/fr)\n",
    "  * Utilise les données en format SQLite générées quotidiennement dans `/project/.duc_databases/`\n",
    "  * Permet d'avoir des statistiques de consommation du stockage par répertoire, ce qui évite d'utiliser la commande `du -sh *`"
   ]
  },
  {
   "cell_type": "markdown",
   "metadata": {},
   "source": [
    "En cas de données inaccessibles :\n",
    "* Une professeure ou un professeur peut demander à ce que les données soient supprimées\n",
    "* Par contre, pour obtenir l'accès aux données, il faut avoir le consentement de la personne qui les a isolées (probablement involontairement)\n",
    "  * En cas d'absence de réponse, c'est la politique de l'université du groupe de recherche qui permettra ou non d'obtenir l'accès aux données\n",
    "  \n",
    "Dans tous les cas, il vaut mieux prévenir, et ce, dès l'importation de données sur les grappes de calcul."
   ]
  },
  {
   "cell_type": "code",
   "execution_count": null,
   "metadata": {},
   "outputs": [],
   "source": []
  }
 ],
 "metadata": {
  "kernelspec": {
   "display_name": "Python 3",
   "language": "python",
   "name": "python3"
  },
  "language_info": {
   "codemirror_mode": {
    "name": "ipython",
    "version": 3
   },
   "file_extension": ".py",
   "mimetype": "text/x-python",
   "name": "python",
   "nbconvert_exporter": "python",
   "pygments_lexer": "ipython3",
   "version": "3.7.4"
  }
 },
 "nbformat": 4,
 "nbformat_minor": 2
}
