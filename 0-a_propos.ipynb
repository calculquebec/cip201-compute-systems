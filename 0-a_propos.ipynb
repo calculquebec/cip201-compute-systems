{
 "cells": [
  {
   "cell_type": "markdown",
   "metadata": {},
   "source": [
    "# À propos\n",
    "\n",
    "Cet atelier de formation de niveau intermédiaire est la suite de l'atelier [*Premiers pas sur les serveurs de calcul*](https://docs.computecanada.ca/wiki/%C3%89v%C3%A9nements_pass%C3%A9s). L'objectif principal est d'explorer un peu plus en profondeur certains aspects clés du calcul informatique de pointe.\n",
    "\n",
    "Note : les *notebooks* IPython du présent atelier et les données associées sont [publiés sur GitHub](https://github.com/calculquebec/cip201-serveurs-calcul)."
   ]
  },
  {
   "cell_type": "markdown",
   "metadata": {},
   "source": [
    "## Table des matières\n",
    "1. [Bien choisir les ressources](1-ressources.ipynb)\n",
    "    1. Rappel - le calcul haute performance\n",
    "    1. Analyse des calculs à petite échelle\n",
    "    1. Extrapoler les ressources nécessaires\n",
    "    1. Principales différences entre les grappes de calcul\n",
    "1. [Analyse des tâches](2-analyse-taches.ipynb)\n",
    "    1. Tâches en attente\n",
    "    1. Tâches actives\n",
    "    1. Tâches terminées\n",
    "1. [Lots de tâches - parallélisme de données](3-lots-taches.ipynb)\n",
    "    1. GNU Parallel\n",
    "    1. Vecteurs de tâches\n",
    "    1. Le *Greedy Launcher Of Small Tasks*, ou GLOST\n",
    "1. [Les espaces de stockage](4-stockage.ipynb)\n",
    "    1. Description de vos données\n",
    "        1. Transférabilité\n",
    "        1. Plan de gestion des données actives\n",
    "    1. Les différents types de stockage\n",
    "    1. Gestion du stockage"
   ]
  },
  {
   "cell_type": "markdown",
   "metadata": {},
   "source": [
    "### Références\n",
    "[Wiki de Calcul Canada](https://docs.computecanada.ca/wiki/Compute_Canada_Documentation/fr) :\n",
    "* [Ressources disponibles](https://docs.computecanada.ca/wiki/Getting_started/fr#Quelles_sont_les_ressources_disponibles.3F)\n",
    "  * [Stockage et gestion des fichiers](https://docs.computecanada.ca/wiki/Storage_and_file_management/fr)\n",
    "* [Exécuter des tâches](https://docs.computecanada.ca/wiki/Running_jobs/fr)\n",
    "  * [Suivi des tâches](https://docs.computecanada.ca/wiki/Running_jobs/fr#Suivi_des_t.C3.A2ches)\n",
    "* Lots de tâches :\n",
    "  * [GNU Parallel](https://docs.computecanada.ca/wiki/GNU_Parallel/fr)\n",
    "  * [Vecteurs de tâches](https://docs.computecanada.ca/wiki/Job_arrays/fr)\n",
    "  * [GLOST](https://docs.computecanada.ca/wiki/GLOST/fr)\n",
    "* [Service infonuagique de Calcul Canada](https://docs.computecanada.ca/wiki/Cloud/fr)\n",
    "  * [Ressources infonuagiques](https://docs.computecanada.ca/wiki/Cloud_resources/fr)\n",
    "\n",
    "Outils d'édition de codes Python ou autre :\n",
    "* Via [JupyterLab](https://docs.computecanada.ca/wiki/JupyterLab) sur les grappes de calcul\n",
    "* Via un [Jupyter Notebook](https://docs.computecanada.ca/wiki/JupyterNotebook/fr), lancé localement\n",
    "* L'éditeur [Spyder](https://www.spyder-ide.org)\n",
    "* [Visual Studio Code](https://code.visualstudio.com)\n",
    "\n",
    "Ateliers de formation et tutoriels :\n",
    "* Les prochains ateliers à [Calcul Québec](https://www.eventbrite.ca/o/calcul-quebec-8295332683)\n",
    "  et [Calcul Canada](https://www.computecanada.ca/research-portal/technical-support/training/)\n",
    "* Tutoriel [GNU Parallel](https://www.gnu.org/software/parallel/parallel_tutorial.html)\n",
    "* Tutoriels en ligne [Software Carpentry](https://software-carpentry.org/lessons/)\n",
    "  et [Data Carpentry](https://datacarpentry.org/lessons/)"
   ]
  },
  {
   "cell_type": "code",
   "execution_count": null,
   "metadata": {},
   "outputs": [],
   "source": []
  }
 ],
 "metadata": {
  "kernelspec": {
   "display_name": "Python 3 (ipykernel)",
   "language": "python",
   "name": "python3"
  },
  "language_info": {
   "codemirror_mode": {
    "name": "ipython",
    "version": 3
   },
   "file_extension": ".py",
   "mimetype": "text/x-python",
   "name": "python",
   "nbconvert_exporter": "python",
   "pygments_lexer": "ipython3",
   "version": "3.8.10"
  }
 },
 "nbformat": 4,
 "nbformat_minor": 4
}
