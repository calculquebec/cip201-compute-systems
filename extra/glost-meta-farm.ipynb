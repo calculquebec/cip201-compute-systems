{
 "cells": [
  {
   "cell_type": "markdown",
   "id": "961b760e-f7b7-4d06-9af6-6f7487f75e8e",
   "metadata": {},
   "source": [
    "## Le *Greedy Launcher Of Small Tasks*, ou GLOST\n",
    "Le *Greedy Launcher Of Small Tasks*, ou\n",
    "[GLOST](https://docs.alliancecan.ca/wiki/GLOST/fr), fonctionne\n",
    "un peu **comme GNU Parallel, mais avec quelques différences** :\n",
    "* Fonctionne qu'avec des **calculs séquentiels (un processeur par cas)**\n",
    "* L'ordonnancement des processus se fait via\n",
    "  **[MPI](https://docs.alliancecan.ca/wiki/MPI/fr)**\n",
    "  avec une architecture de type **gestionnaire-travailleur**\n",
    "  sur un ou plusieurs noeuds de calcul\n",
    "  * Le gestionnaire envoie à chaque travailleur un cas à exécuter\n",
    "  * Le travailleur signale au gestionnaire quand le travail est complété\n",
    "  * Le gestionnaire informe les travailleurs lorsqu'il n'y a plus de cas\n",
    "    (pour quitter)\n",
    "\n",
    "![Fonctionnement GLOST](../images/glost-communications.svg)\n",
    "\n",
    "* On doit donc définir **une ligne de commande par cas de calcul** :\n",
    "  * Toutes les lignes de commande sont **[listées dans un même fichier](https://docs.alliancecan.ca/wiki/GLOST/fr#Liste_de_t.C3.A2ches_situ.C3.A9es_dans_le_m.C3.AAme_r.C3.A9pertoire)**\n",
    "  * Les sous-commandes peuvent être séparées par des opérateurs `&&`. Par exemple :\n",
    "\n",
    "```Bash\n",
    "echo -n 'Bonjour ' && echo le monde\n",
    "```"
   ]
  },
  {
   "cell_type": "markdown",
   "id": "e1144143-99f6-4a27-a692-8021d29b6334",
   "metadata": {},
   "source": [
    "### Exercice - Liste de cas Blastn avec GLOST\n",
    "Générez la liste des cas dans le fichier `$SCRATCH/cas-blastn.txt` :\n",
    "```Bash\n",
    "cat scripts/blastn-cas.sh\n",
    "bash scripts/blastn-cas.sh\n",
    "\n",
    "less $SCRATCH/cas-blastn.txt\n",
    "wc -l $SCRATCH/cas-blastn.txt\n",
    "```"
   ]
  },
  {
   "cell_type": "markdown",
   "id": "b1b7504e-4707-4c1b-a5d0-e54098da91a4",
   "metadata": {},
   "source": [
    "Lancez une tâche de 4 processeurs utilisant GLOST pour tester les\n",
    "$8*4*10$ combinaisons de paramètres :\n",
    "```Bash\n",
    "cat scripts/blastn-glost.sh\n",
    "sbatch scripts/blastn-glost.sh\n",
    "\n",
    "squeue -u $USER\n",
    "```\n",
    "\n",
    "Allez voir les processus en exécution :\n",
    "```Bash\n",
    "ssh <nom_noeud>  # srun --jobid <No_Tache> --pty <commande>\n",
    "top -u $USER  # q pour quitter\n",
    "exit\n",
    "```\n",
    "\n",
    "Listez les résultats dans le dossier `$SCRATCH/res_glost`\n",
    "```Bash\n",
    "ls -l $SCRATCH/res_glost\n",
    "```"
   ]
  },
  {
   "cell_type": "markdown",
   "id": "dd01c806-2c6d-4930-be77-2959f1883150",
   "metadata": {},
   "source": [
    "## META-Farm - Le meilleur de GNU Parallel et GLOST\n",
    "[META-Farm](https://docs.alliancecan.ca/wiki/META-Farm/fr)\n",
    "est un autre outil très puissant qui reprend l'utilisation\n",
    "d'un fichier de cas à calculer.\n",
    "\n",
    "Alors que GLOST utilise une tâche parallèle MPI pour effectuer\n",
    "des calculs séquentiels, META-Farm utilise uniquement des tâches\n",
    "séquentielles pour effectuer zéro, un ou plusieurs calculs :\n",
    "* le mode SIMPLE implique un et un seul calcul par tâche et\n",
    "* le mode META permet de zéro à plusieurs calculs,\n",
    "  selon les cas restants.\n",
    "\n",
    "**Chaque tâche consulte la liste des cas et prend le prochain cas\n",
    "disponible.** Alors que le mode SIMPLE n'en prend qu'un seul, le mode\n",
    "META peut en prendre plusieurs. Une tâche se termine donc lorsqu'elle\n",
    "atteint sa limite de temps ou lorsqu'il ne reste plus de cas à\n",
    "calculer. Lorsque des cas ont échoué, il est possible de relancer\n",
    "le groupe de cas avec les cas restants.\n",
    "\n",
    "![META-Farm - Mode META](https://docs.alliancecan.ca/mediawiki/images/7/78/DWB_META.png)"
   ]
  },
  {
   "cell_type": "markdown",
   "id": "b227c2cb-c9cd-4d0d-986d-914a74156765",
   "metadata": {},
   "source": [
    "Pour utiliser META-Farm, il faut tout d'abord **créer\n",
    "un groupe de cas** dans un nouveau dossier de travail :\n",
    "\n",
    "```Bash\n",
    "module load meta-farm/1.0.2\n",
    "\n",
    "farm_init.run aligner-ADxKR\n",
    "cd aligner-ADxKR\n",
    "ls\n",
    "```"
   ]
  },
  {
   "cell_type": "markdown",
   "id": "4533b827-024c-40bf-8bc1-d3c74f8a1dd8",
   "metadata": {},
   "source": [
    "Le fichier `table.dat` peut contenir une liste de combinaisons\n",
    "de paramètres ou bien **une liste de commandes**.\n",
    "La liste de commandes pour GLOST peut être recyclée :\n",
    "\n",
    "```Bash\n",
    "cp $SCRATCH/cas-blastn.txt table.dat\n",
    "sed -i 's/_glost/_meta/g' table.dat\n",
    "less table.dat\n",
    "```"
   ]
  },
  {
   "cell_type": "markdown",
   "id": "fb585b85-4120-44d2-b360-ac5d38bde06b",
   "metadata": {},
   "source": [
    "Pendant une tâche, chaque cas sera traité individuellement par le\n",
    "script [`single_case.sh`](https://docs.alliancecan.ca/wiki/META-Farm/fr#single_case.sh)\n",
    "et `$COMM` est la commande en cours.\n",
    "\n",
    "```Bash\n",
    "nano single_case.sh\n",
    "\n",
    "  #mkdir -p RUN$ID\n",
    "  cd ../donnees  # Aller dans le bon dossier\n",
    "\n",
    "  # ...\n",
    "\n",
    "  cd -  # Revenir où nous étions\n",
    "```\n",
    "\n",
    "Pour nos très courts cas de calcul, il faut réduire la variable\n",
    "`dt_failed` à 0 seconde :\n",
    "\n",
    "```Bash\n",
    "nano config.h\n",
    "\n",
    "  dt_failed=0\n",
    "```"
   ]
  },
  {
   "cell_type": "markdown",
   "id": "5d7582aa-7b40-4c43-974a-4431ed13c204",
   "metadata": {},
   "source": [
    "Le script de tâche doit s'appeler \n",
    "[`job_script.sh`](https://docs.alliancecan.ca/wiki/META-Farm/fr#job_script.sh) :\n",
    "\n",
    "```Bash\n",
    "cp ../scripts/blastn-meta.sh job_script.sh\n",
    "less job_script.sh\n",
    "```"
   ]
  },
  {
   "cell_type": "markdown",
   "id": "abc3d3c9-2774-452c-80db-1383e5bc7795",
   "metadata": {},
   "source": [
    "Et la soumission se fait via la commande [`submit.run`](https://docs.alliancecan.ca/wiki/META-Farm/fr#submit.run) :\n",
    "\n",
    "```Bash\n",
    "submit.run 4\n",
    "```\n",
    "\n",
    "Où `4` est le nombre de tâches Slurm."
   ]
  },
  {
   "cell_type": "markdown",
   "id": "6fe41157-099e-435a-be00-cc40a1a6ca42",
   "metadata": {},
   "source": [
    "## Points à retenir\n",
    "* **GLOST** pour des calculs séquentiels seulement\n",
    "\n",
    "```Bash\n",
    "# commande1a && commande1b > fichier1.txt\n",
    "# commande2a && commande2b > fichier2.txt\n",
    "srun glost_launch liste_commandes.txt\n",
    "```\n",
    "\n",
    "* **META-Farm** [pour le meilleur de GNU Parallel et GLOST](https://docs.alliancecan.ca/wiki/META-Farm/fr)"
   ]
  },
  {
   "cell_type": "code",
   "execution_count": null,
   "id": "5843b051-4e0f-4462-93e2-336a28d515ba",
   "metadata": {},
   "outputs": [],
   "source": []
  }
 ],
 "metadata": {
  "kernelspec": {
   "display_name": "Python 3 (ipykernel)",
   "language": "python",
   "name": "python3"
  },
  "language_info": {
   "codemirror_mode": {
    "name": "ipython",
    "version": 3
   },
   "file_extension": ".py",
   "mimetype": "text/x-python",
   "name": "python",
   "nbconvert_exporter": "python",
   "pygments_lexer": "ipython3",
   "version": "3.10.5"
  }
 },
 "nbformat": 4,
 "nbformat_minor": 5
}
