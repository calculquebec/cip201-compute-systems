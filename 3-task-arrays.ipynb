{
 "cells": [
  {
   "cell_type": "markdown",
   "metadata": {},
   "source": [
    "# Task Arrays for Data Parallelism\n",
    "Le calcul haute-performance consiste non seulement au calcul parallèle par tâche (***parallélisme des tâches***),\n",
    "mais aussi au calcul de données en parallèle dans plusieurs tâches et/ou processus en simultané (***parallélisme de données***).\n",
    "Ce chapitre vous donnera les outils nécessaires pour gérer un grand nombre de tâches\n",
    "lorsque le projet de recherche requiert plusieurs centaines de résultats."
   ]
  },
  {
   "cell_type": "markdown",
   "metadata": {},
   "source": [
    "## GNU Parallel\n",
    "La commande `parallel` de\n",
    "[GNU Parallel](https://docs.alliancecan.ca/wiki/GNU_Parallel/fr)\n",
    "permet d'utiliser pleinement les ressources locales d'un noeud de\n",
    "calcul, et ce, en gérant l'exécution d'une **longue liste de tâches\n",
    "de *petite* taille**.\n",
    "C'est un peu comme l'ordonnanceur Slurm, mais à plus petite échelle et\n",
    "en gérant des processus au lieu de scripts de tâche.\n",
    "\n",
    "![Fonctionnement de GNU Parallel](images/gnu-parallel.svg)\n",
    "\n",
    "* [Documentation officielle](https://www.gnu.org/software/parallel/parallel.html)\n",
    "* [Tutoriel](https://www.gnu.org/software/parallel/parallel_tutorial.html)"
   ]
  },
  {
   "cell_type": "markdown",
   "metadata": {},
   "source": [
    "### Why Not Slurm?\n",
    "OK, mais pourquoi ne pas tout simplement soumettre\n",
    "**des centaines de tâches à Slurm**?\n",
    "* À tout moment, Slurm **limite chaque usager à 1000 tâches**\n",
    "  au total dans `squeue` (*pending* + *running*)\n",
    "* Certains calculs sont tellement **courts (< 5 minutes)** que le\n",
    "  démarrage et la fin de la tâche compteraient pour un pourcentage\n",
    "  significatif du temps réel utilisé, ce qui diminue leur efficacité"
   ]
  },
  {
   "cell_type": "markdown",
   "metadata": {},
   "source": [
    "Les avantages de GNU Parallel à considérer :\n",
    "* Nous **évite d'utiliser une boucle** soumettant des centaines de\n",
    "  scripts similaires, ce qui, dans bien des cas, facilite\n",
    "  l'exécution de centaines de cas de calcul semblables\n",
    "* Le nombre de **processeurs disponibles limite** automatiquement le\n",
    "  nombre de cas de calcul exécutés en simultané\n",
    "  * Dans le cas de calculs parallèles, c'est possible de spécifier\n",
    "    le nombre de cas en simultané\n",
    "* GNU Parallel peut\n",
    "  [reprendre la séquence des cas de calcul](https://docs.alliancecan.ca/wiki/GNU_Parallel/fr#Suivi_des_commandes_ex.C3.A9cut.C3.A9es_ou_des_commandes_ayant_.C3.A9chou.C3.A9.3B_fonctionnalit.C3.A9s_de_red.C3.A9marrage)\n",
    "  en situation de fin hâtive de la tâche Slurm"
   ]
  },
  {
   "cell_type": "markdown",
   "metadata": {},
   "source": [
    "### GNU Parallel Command Syntax\n",
    "The main basic elements of a `parallel` command are:\n",
    "```Bash\n",
    "parallel options command_template ::: list of values\n",
    "```\n",
    "\n",
    "See the manual page:\n",
    "```Bash\n",
    "man parallel  # Press Q to quit\n",
    "```"
   ]
  },
  {
   "cell_type": "markdown",
   "metadata": {},
   "source": [
    "### Use Cases\n",
    "#### One Sequence of Parameter Values\n",
    "The default placeholder for the changing parameter is `{}`:\n",
    "```Bash\n",
    "parallel echo file{}.txt ::: 1 2 3 4\n",
    "# parallel --citation  # Commit to citing developers\n",
    "```\n",
    "\n",
    "We can rewrite the above command by using the Bash expansion `{a..b}`:\n",
    "```Bash\n",
    "parallel echo file{}.txt ::: {1..4}\n",
    "parallel echo file{}.txt ::: {01..10}\n",
    "```"
   ]
  },
  {
   "cell_type": "markdown",
   "metadata": {},
   "source": [
    "#### Multiple Combinations of Parameter Values\n",
    "**a)** When you have **multiple sequences of parameters to combine**,\n",
    "you can use numbered placeholders, like `{1}` and `{2}`:\n",
    "```Bash\n",
    "parallel echo file{1}{2}.txt ::: {01..10} ::: a b\n",
    "```"
   ]
  },
  {
   "cell_type": "markdown",
   "metadata": {},
   "source": [
    "**b)** In the case where **all combinations\n",
    "of parameters are in a text file**:\n",
    "```Bash\n",
    "cat scripts/param.txt\n",
    "```"
   ]
  },
  {
   "cell_type": "markdown",
   "metadata": {},
   "source": [
    "The `parallel` command will have `-C ' '` to specify\n",
    "the separator between parameters in `scripts/param.txt`,\n",
    "and the `::::` argument to provide this filename:\n",
    "```Bash\n",
    "# parallel -C ' ' echo '$(({1}*{2}))' :::: scripts/param.txt\n",
    "cat scripts/prll-exec-param.sh\n",
    "sbatch scripts/prll-exec-param.sh\n",
    "```"
   ]
  },
  {
   "cell_type": "markdown",
   "metadata": {},
   "source": [
    "**c)** If you prefer to validate a **list of commands in a\n",
    "text file** prior to their execution on the compute node:\n",
    "```Bash\n",
    "cat scripts/cmd.txt\n",
    "```"
   ]
  },
  {
   "cell_type": "markdown",
   "metadata": {},
   "source": [
    "The job script will have a much simplified `parallel` command:\n",
    "```Bash\n",
    "# parallel < scripts/cmd.txt\n",
    "cat scripts/prll-exec-cmd.sh\n",
    "sbatch scripts/prll-exec-cmd.sh\n",
    "```"
   ]
  },
  {
   "cell_type": "markdown",
   "metadata": {},
   "source": [
    "#### Limiting the Number of Simultaneous Processes\n",
    "The flag `--jobs` allows us to limit the number of\n",
    "simultaneous running processes. For example, we can\n",
    "have 8 tasks done with 2 simultaneous processes:\n",
    "```Bash\n",
    "parallel --jobs 2 'echo {} && sleep 3' ::: {1..8}\n",
    "```"
   ]
  },
  {
   "cell_type": "markdown",
   "metadata": {},
   "source": [
    "### **Exercise** - Aligning DNA Sequences\n",
    "In the directory `data/`, you should already have multiple\n",
    "Fasta files (`*.fa`) that were created in the previous\n",
    "chapter with the job script `scripts/blastn-gen-seq.sh`.\n",
    "**If this is not the case**, run the following:\n",
    "```Bash\n",
    "sbatch scripts/blastn-gen-seq.sh\n",
    "```\n",
    "\n",
    "You should find:\n",
    "* for each fictive species A, B, C and D,\n",
    "  a file of \"known\" DNA sequences\n",
    "  * These files are converted into a Blast database\n",
    "* for 16 \"unknown\" species K through Z, DNA sequences\n",
    "  to align on \"known\" sequences of species A through D"
   ]
  },
  {
   "cell_type": "markdown",
   "metadata": {},
   "source": [
    "We then want to compute the alignement of all\n",
    "combinations `{A,B,C,D}` x `{K,L,M,N,O,P,Q,R,S,T,U,V,W,X,Y,Z}`,\n",
    "which makes 64 combinations to test.\n",
    "The following job script uses GNU Parallel in order\n",
    "to compute all combinations with 4 CPU cores:\n",
    "```Bash\n",
    "cat scripts/blastn-parallel.sh\n",
    "sbatch scripts/blastn-parallel.sh\n",
    "```\n",
    "\n",
    "To monitor the status of the compute job:\n",
    "```Bash\n",
    "squeue -u $USER\n",
    "ls data/res_prll/\n",
    "```\n",
    "At the end of the job, check used resources:\n",
    "```\n",
    "seff <job_id>\n",
    "```"
   ]
  },
  {
   "cell_type": "markdown",
   "metadata": {},
   "source": [
    "### Other Tools\n",
    "* GLOST\n",
    "  [pour des calculs séquentiels seulement](https://docs.alliancecan.ca/wiki/GLOST/fr)\n",
    "\n",
    "* META-Farm\n",
    "  [pour le meilleur de GNU Parallel et GLOST](https://docs.alliancecan.ca/wiki/META-Farm/fr)\n",
    "\n",
    "Alors que les précédents outils s'utilisent bien avec un lot de\n",
    "calculs séquentiels ou parallèles de petite taille (16 processeurs\n",
    "ou moins), **ils ne sont pas** vraiment **appropriés pour**\n",
    "un lot de **longs calculs parallèles de plus grande taille**\n",
    "(plus de 16 processeurs par calcul) :\n",
    "* on veut éviter les longues tâches qui dépassent trois (3) jours et\n",
    "* on veut réduire le risque de subir une défaillance matérielle.\n",
    "\n",
    "C'est pourquoi, dans certains cas, il vaut\n",
    "mieux utiliser les vecteurs de tâches."
   ]
  },
  {
   "cell_type": "markdown",
   "metadata": {},
   "source": [
    "## Job Arrays\n",
    "Dans le cas où un même programme doit être exécuté avec différentes\n",
    "combinaisons de paramètres, il y a moyen de soumettre un seul\n",
    "[vecteur de tâches](https://docs.alliancecan.ca/wiki/Job_arrays/fr)\n",
    "et de coder le script de tâche de telle sorte que les paramètres\n",
    "seront déterminés **en fonction d'un indice unique** du vecteur de tâches.\n",
    "\n",
    "![How Job Arrays Work](images/job-arrays.svg)"
   ]
  },
  {
   "cell_type": "markdown",
   "metadata": {},
   "source": [
    "**Pour soumettre un vecteur de tâches** à l'ordonnanceur Slurm, que ce\n",
    "soit à la ligne de commande `sbatch` ou dans l'entête `#SBATCH`\n",
    "du script de tâche, **on doit ajouter l'option** `--array=<indices>`.\n",
    "Voir [ici quelques exemples](https://docs.alliancecan.ca/wiki/Job_arrays/fr).\n",
    "\n",
    "L'identifiant d'une tâche Slurm dans un vecteur de tâches contient :\n",
    "* L'identifiant du vecteur de tâches\n",
    "* Caractère de soulignement (`_`)\n",
    "* L'indice unique associé à la tâche\n",
    "\n",
    "**Par exemple :** `25249551_15`"
   ]
  },
  {
   "cell_type": "markdown",
   "metadata": {},
   "source": [
    "Dans le script de tâche, la **variable d'environnement**\n",
    "`$SLURM_ARRAY_TASK_ID` peut être utilisée pour retrouver la valeur\n",
    "actuelle de l'indice unique associé à la tâche en cours d'exécution.\n",
    "Il s'agit d'un **entier parmi** les `<indices>`."
   ]
  },
  {
   "cell_type": "markdown",
   "metadata": {},
   "source": [
    "The variable `$SLURM_ARRAY_TASK_ID` can be used in many ways.\n",
    "The below examples use `$N`, but `$SLURM_ARRAY_TASK_ID`\n",
    "works the same in a job script:\n",
    "```Bash\n",
    "export N=71  # Only required for this example\n",
    "\n",
    "echo file.$N\n",
    "echo directory-$N\n",
    "```\n",
    "\n",
    "![From One Integer to 2D Coordinates](images/n2r_c.svg)\n",
    "```Bash\n",
    "PARAM_R=$((N / 12))  # Integer division\n",
    "PARAM_C=$((N % 12))  # Modulo (division remainder)\n",
    "echo $PARAM_R $PARAM_C\n",
    "\n",
    "head -n $((PARAM_R + 1)) scripts/param.txt | tail -1\n",
    "```"
   ]
  },
  {
   "cell_type": "markdown",
   "metadata": {},
   "source": [
    "### **Exercise** - Job Arrays\n",
    "Submit the job array:\n",
    "```Bash\n",
    "cat scripts/blastn-array.sh\n",
    "sbatch scripts/blastn-array.sh\n",
    "\n",
    "squeue -u $USER\n",
    "```\n",
    "\n",
    "Once all four jobs are done, inspect the results:\n",
    "```Bash\n",
    "ls slurm-*_*.out\n",
    "ls -l data/res_array/\n",
    "```\n",
    "\n",
    "* **Modify the job script** to process all 16 unknowns K through Z,\n",
    "  with a limit of **four** simultaneous processes per job\n",
    "* Submit this modified job array\n",
    "* Use the `seff` command to investigate one of the 16 jobs"
   ]
  },
  {
   "cell_type": "markdown",
   "metadata": {},
   "source": [
    "## Key Points\n",
    "* **GNU Parallel**\n",
    "  [to run multiple combinations of parameters](https://docs.alliancecan.ca/wiki/GNU_Parallel)\n",
    "\n",
    "```Bash\n",
    "parallel 'command_template({1})' ::: values1\n",
    "parallel 'command_template({1}, {2})' ::: values1 ::: values2\n",
    "parallel -C <sep> 'command_template({1}, {2})' :::: param_pairs.txt\n",
    "parallel --jobs 'N_processes_per_node' < command_list.txt\n",
    "```\n",
    "\n",
    "* **Job Arrays**\n",
    "  [to submit many long or large similar jobs](https://docs.alliancecan.ca/wiki/Job_arrays)\n",
    "\n",
    "```Bash\n",
    "# $SLURM_ARRAY_TASK_ID will have only one value of ...\n",
    "sbatch --array=0-7      # [0, 7]\n",
    "sbatch --array=1,3,5,7  # {1,3,5,7}\n",
    "sbatch --array=1-7:3    # {1,4,7}\n",
    "sbatch --array=0-99%10  # [0, 99], but maximum 10 simultaneous jobs\n",
    "```"
   ]
  },
  {
   "cell_type": "code",
   "execution_count": null,
   "metadata": {},
   "outputs": [],
   "source": []
  }
 ],
 "metadata": {
  "kernelspec": {
   "display_name": "Python 3 (ipykernel)",
   "language": "python",
   "name": "python3"
  },
  "language_info": {
   "codemirror_mode": {
    "name": "ipython",
    "version": 3
   },
   "file_extension": ".py",
   "mimetype": "text/x-python",
   "name": "python",
   "nbconvert_exporter": "python",
   "pygments_lexer": "ipython3",
   "version": "3.11.7"
  }
 },
 "nbformat": 4,
 "nbformat_minor": 4
}
