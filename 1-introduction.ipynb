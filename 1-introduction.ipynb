{
 "cells": [
  {
   "cell_type": "markdown",
   "id": "219bf4b2-b696-4f55-b6c1-dad671597f0a",
   "metadata": {},
   "source": [
    "# Introduction"
   ]
  },
  {
   "cell_type": "markdown",
   "id": "4665cade-7fe0-408c-bbe8-ba072ccd1525",
   "metadata": {},
   "source": [
    "## Rappel - le calcul haute performance\n",
    "* Lorsqu'il est question de lancer une **grande quantité de calculs**\n",
    "(séquentiels ou parallèles) ou de **traitements de données**,\n",
    "l'utilisation d'une grappe de calcul haute performance devient nécessaire.\n",
    "* Puisque les **ressources sont partagées** et en grande demande,\n",
    "chaque tâche doit être soumise à un ordonnanceur de tâches.\n",
    "* Il devient donc nécessaire **d'estimer à l'avance les ressources**\n",
    "qui seront réservées lors de l'exécution d'un calcul."
   ]
  },
  {
   "cell_type": "markdown",
   "id": "4abc59cf-0be3-47af-981d-6a5cc2c9af69",
   "metadata": {},
   "source": [
    "## Différents types de tâches\n",
    "Deux grandes catégories de tâches qui travaillent sur un même problème :"
   ]
  },
  {
   "cell_type": "markdown",
   "id": "b01ec442-c4b2-4541-960b-945556044307",
   "metadata": {},
   "source": [
    "| Type : | Séquentielles / | Parallèles //// |\n",
    "|-|:-:|:-:|\n",
    "| Description : | Une opération à la fois | Plusieurs opérations en simultané |\n",
    "| | Un processus | Plusieurs processus |\n",
    "| Via : | AVEC | ET/OU |\n",
    "| | un seul fil d'exécution (*thread*) | plusieurs fils d'exécution |\n",
    "| Ressources : | Un processeur | Plusieurs processeurs ou noeuds de calcul |"
   ]
  },
  {
   "cell_type": "markdown",
   "id": "1dcda7f9-53f5-4369-994e-411e3ced6f8d",
   "metadata": {},
   "source": [
    "Avec le calcul parallèle, il y a **deux modèles de mémoire** :\n",
    "* **Partagée** : un seul processus de plusieurs fils d'exécution\n",
    "* **Distribuée** : plusieurs processus sur un ou plusieurs noeuds\n",
    "\n",
    "Enfin, un sous-type parmi les tâches séquentielles :"
   ]
  },
  {
   "cell_type": "markdown",
   "id": "0ea512ca-38c0-4de7-a21c-2314ff11cfcd",
   "metadata": {},
   "source": [
    "| Type : | Calcul vectoriel // |\n",
    "|-|:-:|\n",
    "| Description : | Une même opération sur des vecteurs de données |\n",
    "| Ressources : | Un processeur moderne ou un accélérateur (GPU) |"
   ]
  },
  {
   "cell_type": "markdown",
   "id": "a1c65c07-d1bb-4950-8c83-98497aa6d4d4",
   "metadata": {},
   "source": [
    "### Parallélisme de données\n",
    "* Beaucoup de données à traiter de manière indépendante\n",
    "* **Plusieurs tâches séquentielles en simultané**\n",
    "  * Utilisation de **lots de tâches**\n",
    "  * Ou une tâche parallèle qui partitionne les données en différents problèmes à traiter sur des processeurs différents\n",
    "    * Par exemple, [Spark](https://docs.alliancecan.ca/wiki/Apache_Spark) - une solution pour traiter des méga-données en parallèle"
   ]
  },
  {
   "cell_type": "code",
   "execution_count": null,
   "id": "af28d9dc-f162-40f9-ad35-44caf8b65509",
   "metadata": {},
   "outputs": [],
   "source": []
  }
 ],
 "metadata": {
  "kernelspec": {
   "display_name": "Python 3 (ipykernel)",
   "language": "python",
   "name": "python3"
  },
  "language_info": {
   "codemirror_mode": {
    "name": "ipython",
    "version": 3
   },
   "file_extension": ".py",
   "mimetype": "text/x-python",
   "name": "python",
   "nbconvert_exporter": "python",
   "pygments_lexer": "ipython3",
   "version": "3.10.5"
  }
 },
 "nbformat": 4,
 "nbformat_minor": 5
}
