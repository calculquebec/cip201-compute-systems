{
 "cells": [
  {
   "cell_type": "markdown",
   "id": "219bf4b2-b696-4f55-b6c1-dad671597f0a",
   "metadata": {},
   "source": [
    "# Introduction"
   ]
  },
  {
   "cell_type": "markdown",
   "id": "4665cade-7fe0-408c-bbe8-ba072ccd1525",
   "metadata": {},
   "source": [
    "## Reminder - High Performance Computing\n",
    "* Initial problem: when we need to run a **very large number of\n",
    "  calculations** or when we need to **process large datasets**,\n",
    "  the use of a high performance computing cluster becomes necessary.\n",
    "* Because **resources are shared and in high demand**,\n",
    "  each compute job needs to be submitted to a job scheduler.\n",
    "* It is then necessary to **estimate in advance the\n",
    "  resources required** for the execution of a compute job."
   ]
  },
  {
   "cell_type": "markdown",
   "id": "4abc59cf-0be3-47af-981d-6a5cc2c9af69",
   "metadata": {},
   "source": [
    "## Different Kinds of Compute Tasks\n",
    "Two categories of compute tasks working on the same problem:\n",
    "![Séquentiel vs parallel](images/serial-vs-parallel.svg)"
   ]
  },
  {
   "cell_type": "markdown",
   "id": "440421e2-ff2d-4dab-99b3-7d322d41ec76",
   "metadata": {},
   "source": [
    "Within the set of serial tasks, we have the _vectorized computation_.\n",
    "* Description: **the same operation** applied to vectors of data\n",
    "* Resources: a modern processor or an **accelerator** (GPU)\n",
    "\n",
    "![Vectorized Computation](images/vectorized-computation.svg)"
   ]
  },
  {
   "cell_type": "markdown",
   "id": "a1c65c07-d1bb-4950-8c83-98497aa6d4d4",
   "metadata": {},
   "source": [
    "### Data Parallelism\n",
    "* A lot of data to process independently\n",
    "* **Multiple serial tasks running simultaneously**\n",
    "  * Probably using **task arrays**\n",
    "  * Or a parallel task that splits the large problem in chunks of\n",
    "    data to be processed independently on different processors\n",
    "\n",
    "![Data Parallelism](images/data-parallelism.svg)"
   ]
  },
  {
   "cell_type": "markdown",
   "id": "5849a3ec-7209-4267-895a-f9b959ed3bb9",
   "metadata": {},
   "source": [
    "## Questions to Think About\n",
    "* What **type of compute tasks** do you run?\n",
    "  * Serial or parallel?\n",
    "    * Perhaps vectorized?\n",
    "  * Processing lots of small files or a few large files?\n",
    "* What **resources** will be used?\n",
    "  * Which compute cluster should be chosen?\n",
    "  * What quantity of resource should be requested?\n",
    "* How to **plan the storage space usage** for your data?\n",
    "  * Do you have a data management plan for your active data?\n",
    "  * Who should be able to access what?\n",
    "  * Which storage spaces should be used?\n",
    "  * When should you archive some data?\n",
    "* Finally, **how to submit jobs optimally**?\n",
    "  * How to monitor and profile those jobs?"
   ]
  },
  {
   "cell_type": "code",
   "execution_count": null,
   "id": "af28d9dc-f162-40f9-ad35-44caf8b65509",
   "metadata": {},
   "outputs": [],
   "source": []
  }
 ],
 "metadata": {
  "kernelspec": {
   "display_name": "Python 3 (ipykernel)",
   "language": "python",
   "name": "python3"
  },
  "language_info": {
   "codemirror_mode": {
    "name": "ipython",
    "version": 3
   },
   "file_extension": ".py",
   "mimetype": "text/x-python",
   "name": "python",
   "nbconvert_exporter": "python",
   "pygments_lexer": "ipython3",
   "version": "3.11.7"
  }
 },
 "nbformat": 4,
 "nbformat_minor": 5
}
