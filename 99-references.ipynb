{
 "cells": [
  {
   "cell_type": "markdown",
   "id": "44b81c12-5322-427e-873c-d460f0c7a925",
   "metadata": {},
   "source": [
    "# Références"
   ]
  },
  {
   "cell_type": "markdown",
   "id": "a7924594-da5e-492a-b987-520e00ebb473",
   "metadata": {},
   "source": [
    "**[Wiki de l'Alliance de recherche numérique du Canada](https://docs.alliancecan.ca/wiki/Technical_documentation/fr)**\n",
    "* [Ressources disponibles](https://docs.alliancecan.ca/wiki/Getting_started/fr#Quelles_sont_les_ressources_disponibles.3F)\n",
    "  * [Stockage et gestion des fichiers](https://docs.alliancecan.ca/wiki/Storage_and_file_management/fr)\n",
    "* [Exécuter des tâches](https://docs.alliancecan.ca/wiki/Running_jobs/fr)\n",
    "  * [Chargement des modules](https://docs.computecanada.ca/wiki/Utiliser_des_modules)\n",
    "  * [Suivi des tâches](https://docs.alliancecan.ca/wiki/Running_jobs/fr#Suivi_des_t.C3.A2ches)\n",
    "* Lots de tâches :\n",
    "  * [GNU Parallel](https://docs.alliancecan.ca/wiki/GNU_Parallel/fr)\n",
    "  * [Vecteurs de tâches](https://docs.alliancecan.ca/wiki/Job_arrays/fr)\n",
    "  * [GLOST](https://docs.alliancecan.ca/wiki/GLOST/fr)\n",
    "  * [META: A package for job farming](https://docs.alliancecan.ca/wiki/META:_A_package_for_job_farming)\n",
    "* [Service infonuagique de l'Alliance](https://docs.alliancecan.ca/wiki/Cloud/fr)\n",
    "  * [Ressources infonuagiques](https://docs.alliancecan.ca/wiki/Cloud_resources/fr)"
   ]
  },
  {
   "cell_type": "markdown",
   "id": "bbfa1ee5-e8f7-4d22-a724-9e40388ec893",
   "metadata": {},
   "source": [
    "**[Documentation Slurm](https://slurm.schedmd.com/documentation.html)**\n",
    "* [sbatch](https://slurm.schedmd.com/sbatch.html)"
   ]
  },
  {
   "cell_type": "markdown",
   "id": "2690ba77-af04-4720-8310-b546ac26f5a6",
   "metadata": {},
   "source": [
    "**Autres liens externes**\n",
    "* Suivi des tâches\n",
    "  * [Gestionnaire des tâches Windows](https://fr.wikipedia.org/wiki/Gestionnaire_des_t%C3%A2ches_Windows)\n",
    "  * [Moniteur d’activité](https://support.apple.com/fr-ca/guide/activity-monitor/actmntr1001/mac)\n",
    "* [Shebang](https://fr.wikipedia.org/wiki/Shebang)"
   ]
  },
  {
   "cell_type": "markdown",
   "id": "6cc67739-e57f-4d0b-a19d-1644583ce3d2",
   "metadata": {},
   "source": [
    "**Outils d'édition de codes Python** ou autre :\n",
    "* Via [JupyterLab](https://docs.alliancecan.ca/wiki/JupyterLab) sur les grappes de calcul\n",
    "* Via un [Jupyter Notebook](https://docs.alliancecan.ca/wiki/JupyterNotebook/fr), lancé localement\n",
    "* L'éditeur [Spyder](https://www.spyder-ide.org)\n",
    "* [Visual Studio Code](https://code.visualstudio.com)"
   ]
  },
  {
   "cell_type": "markdown",
   "id": "ecbb1ab6-9360-4c5a-b3a3-585a128ecffd",
   "metadata": {},
   "source": [
    "**Ateliers de formation et tutoriels**\n",
    "* Les prochains ateliers à [Calcul Québec](https://www.eventbrite.ca/o/calcul-quebec-8295332683)\n",
    "  et à [l'Alliance](https://alliancecan.ca/fr/services/calcul-informatique-de-pointe/soutien-la-recherche/calendrier-de-formation)\n",
    "* Tutoriel [GNU Parallel](https://www.gnu.org/software/parallel/parallel_tutorial.html)\n",
    "* Tutoriels en ligne [Software Carpentry](https://software-carpentry.org/lessons/)\n",
    "  et [Data Carpentry](https://datacarpentry.org/lessons/)"
   ]
  },
  {
   "cell_type": "code",
   "execution_count": null,
   "id": "235a61db-f006-47a2-8bbb-6f58364e168d",
   "metadata": {},
   "outputs": [],
   "source": []
  }
 ],
 "metadata": {
  "kernelspec": {
   "display_name": "Python 3 (ipykernel)",
   "language": "python",
   "name": "python3"
  },
  "language_info": {
   "codemirror_mode": {
    "name": "ipython",
    "version": 3
   },
   "file_extension": ".py",
   "mimetype": "text/x-python",
   "name": "python",
   "nbconvert_exporter": "python",
   "pygments_lexer": "ipython3",
   "version": "3.10.5"
  }
 },
 "nbformat": 4,
 "nbformat_minor": 5
}
