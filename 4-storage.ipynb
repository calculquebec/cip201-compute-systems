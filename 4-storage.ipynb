{
 "cells": [
  {
   "cell_type": "markdown",
   "metadata": {},
   "source": [
    "# Storage Spaces\n",
    "There are different types of storage spaces on national clusters:\n",
    "* Personal (`/home`)\n",
    "* Temporary local (`$SLURM_TMPDIR`)\n",
    "* Temporary network (`/scratch`)\n",
    "* Shared project (`/project`)\n",
    "* *Nearline* - for long term storage (`/nearline`)\n",
    "\n",
    "Your data have the following attributes:\n",
    "* **Size**: small, large, very large files\n",
    "* **Count**: few files or a lot of files\n",
    "* **Transferable**: grouped and/or compressed data\n",
    "* **Life cycle**: in a job, between jobs,\n",
    "  from one project to the next, to be archived\n",
    "* **Access levels**: confidential, shared, published\n",
    "\n",
    "The goal of this chapter is to overview the basics of active data\n",
    "management on the available storage spaces on compute clusters."
   ]
  },
  {
   "cell_type": "markdown",
   "metadata": {},
   "source": [
    "## Different Types of Storage\n",
    "The following table shows which types of storage space are accessible\n",
    "from **login nodes** and from **compute nodes** (CPU or GPU):\n",
    "\n",
    "| Available Space | Login Nodes | Compute Nodes |\n",
    "|-----------------|:-----------:|:-------------:|\n",
    "|         `/home` |     Yes     |      Yes      |\n",
    "| `$SLURM_TMPDIR` |    **No**   |      Yes      |\n",
    "|      `/scratch` |     Yes     |      Yes      |\n",
    "|      `/project` |     Yes     |      Yes      |\n",
    "|     `/nearline` |     Yes     |     **No**    |\n",
    "\n",
    "About the different [types of storage](https://docs.alliancecan.ca/wiki/Storage_and_file_management#Storage_types)."
   ]
  },
  {
   "cell_type": "markdown",
   "metadata": {},
   "source": [
    "### `$HOME` - Your Personal Space\n",
    "```Bash\n",
    "cd  # $HOME by default\n",
    "ls -a\n",
    "ls -la\n",
    "ls -ld $HOME\n",
    "```"
   ]
  },
  {
   "cell_type": "markdown",
   "metadata": {},
   "source": [
    "* **Entry point** by default when you connect to a compute cluster\n",
    "* [Relatively small quota limit](https://docs.alliancecan.ca/wiki/Storage_and_file_management#Filesystem_quotas_and_policies), but accepts a relatively large number of files\n",
    "  * Ideal for [installing software in your home directory](https://docs.alliancecan.ca/wiki/Installing_software_in_your_home_directory)"
   ]
  },
  {
   "cell_type": "markdown",
   "metadata": {},
   "source": [
    "### `$SLURM_TMPDIR` - Temporary Local Space\n",
    "```Bash\n",
    "ls -ld $SLURM_TMPDIR\n",
    "salloc  # From login1\n",
    "\n",
    "ls -ld $SLURM_TMPDIR\n",
    "df -h $SLURM_TMPDIR\n",
    "exit\n",
    "```"
   ]
  },
  {
   "cell_type": "markdown",
   "metadata": {},
   "source": [
    "* [Very fast local storage](https://docs.alliancecan.ca/wiki/Using_node-local_storage),\n",
    "  but limited in size and to the duration of the compute job\n",
    "  * **Low latency** compared to *Lustre* (the network filesystem)\n",
    "  * Great bandwidth, even for small files\n",
    "  * **Data deleted at the end** of the compute job\n",
    "  * If multiple nodes are reserved for a single parallel job,\n",
    "    **each node has its own directory** `$SLURM_TMPDIR`\n",
    "* Use cases:\n",
    "  * **Importing** multiple **small files** which\n",
    "    will be used repeatedly during the calculation\n",
    "  * **Saving** files which will be **constantly modified** -\n",
    "    these files will have to be copied to `/project`\n",
    "    or `/scratch` before the end of the job"
   ]
  },
  {
   "cell_type": "markdown",
   "metadata": {},
   "source": [
    "### `$SCRATCH` - Temporary Network Space\n",
    "```Bash\n",
    "df -h /scratch\n",
    "ls -ld $SCRATCH\n",
    "```"
   ]
  },
  {
   "cell_type": "markdown",
   "metadata": {},
   "source": [
    "* Network storage space of\n",
    "  [great capacity](https://docs.alliancecan.ca/wiki/Storage_and_file_management#Filesystem_quotas_and_policies)\n",
    "  for **temporary data**\n",
    "  * **Not** backed up\n",
    "  * [Monthly purge](https://docs.alliancecan.ca/wiki/Scratch_purging_policy)\n",
    "    for the data older than 60 days\n",
    "* Variable performance according to the use by all users\n",
    "* Use cases:\n",
    "  * Using a dataset **for only a few days**\n",
    "  * Storing **results temporarily** if made of hundreds of files\n",
    "  * Storing **intermediate** results which\n",
    "    would be **too big** for `/project`"
   ]
  },
  {
   "cell_type": "markdown",
   "metadata": {},
   "source": [
    "### `/project` - Shared Project Space\n",
    "```Bash\n",
    "ls -ld /project\n",
    "ls -ld /project/def-sponsor00\n",
    "ls -l /project/def-sponsor00\n",
    "```"
   ]
  },
  {
   "cell_type": "markdown",
   "metadata": {},
   "source": [
    "* Network storage space of\n",
    "  [small or large capacity](https://docs.alliancecan.ca/wiki/Storage_and_file_management#Filesystem_quotas_and_policies)\n",
    "  for **project data**\n",
    "  * A default project space per research group (except on Niagara)\n",
    "    * The quota can be increased by a few TB **on demand by email**\n",
    "    * For a much larger project space, the PI needs to submit a\n",
    "      [RAC request](https://alliancecan.ca/en/services/advanced-research-computing/accessing-resources/resource-allocation-competition)\n",
    "  * Backed up **daily**\n",
    "    * The quota on the number of files is limited (500k by default)\n",
    "* Project data:\n",
    "  * Potentially **shared** -\n",
    "    [configuration of ACLs](https://docs.alliancecan.ca/wiki/Sharing_data)\n",
    "  * Last as long as the project lasts\n",
    "  * Typically more important than temporary data\n",
    "* Use cases:\n",
    "  * Storing datasets that are **reused over\n",
    "    multiple months or shared by many group members**\n",
    "  * Storing **final results** which would be too expensive to recreate"
   ]
  },
  {
   "cell_type": "markdown",
   "metadata": {},
   "source": [
    "### `/nearline` - Long Term Storage\n",
    "Storage interface on disk:\n",
    "* We can see the files with the `ls` command\n",
    "* The oldest data in\n",
    "  [`/nearline` is most likely moved to tape](https://docs.alliancecan.ca/wiki/Using_nearline_storage)\n",
    "  * There are command lines to\n",
    "    [check the status of your files](https://docs.alliancecan.ca/wiki/Using_nearline_storage#Transferring_data_from_Nearline)\n",
    "    in `/nearline`\n",
    "\n",
    "To considerate:\n",
    "* The migration of the data to tape reduces the space used on\n",
    "  disk, which saves some money when buying the storage system\n",
    "* Each read operation of a migrated file to tape will create\n",
    "  **a blocking request** which causes a response time of a few\n",
    "  minutes to hours (when the tape system is overloaded of requests)\n",
    "  * That is why it is necessary to save\n",
    "    a **small number of large files**\n",
    "  * **To avoid**: copying numerous small files on\n",
    "    Nearline before grouping them in archive files\n",
    "\n",
    "Use cases:\n",
    "  * Grouping files from `/project` or `/scratch`\n",
    "  * Storing important data **that will not be used for months**"
   ]
  },
  {
   "cell_type": "markdown",
   "metadata": {},
   "source": [
    "## Storage Management\n",
    "### Life Cycle of Active Data\n",
    "As time passes, the data tend to accumulate. It eventually becomes\n",
    "necessary to monitor the used space, as well as the number of files.\n",
    "```\n",
    "du -s ~\n",
    "find . | wc -l\n",
    "\n",
    "df -h /project\n",
    "df -hi /project\n",
    "```\n",
    "\n",
    "* **[The `diskusage_report` command](https://docs.alliancecan.ca/wiki/Storage_and_file_management#Overview)**\n",
    "  generates a short report of the space used and the number\n",
    "  of files inside each storage space you have access to\n",
    "* Every day, a per-user storage usage report is created in `/project`:\n",
    "  * On Béluga: in `/project/.stats/<allocation-name>`\n",
    "  * On Cedar and Narval: in `/project/.stats/<allocation-name>.json`\n",
    "  * **[The `diskusage_explorer` command](https://docs.alliancecan.ca/wiki/Diskusage_Explorer)**\n",
    "    shows a storage space usage summary and allows to\n",
    "    navigate to sub-directories for further analysis\n",
    "  * Detailed information is available on demand for Graham and Niagara\n",
    "\n",
    "Having a good active data management plan makes it easier\n",
    "to delete or archive specific files in the long term."
   ]
  },
  {
   "cell_type": "markdown",
   "metadata": {},
   "source": [
    "#### Example of the Life Cycle of Active Data\n",
    "![Pipeline 1](images/data-flow-1.svg)"
   ]
  },
  {
   "cell_type": "markdown",
   "metadata": {},
   "source": [
    "Description of each step:\n",
    "* A dataset is downloaded in `/scratch`\n",
    "  * To be used between a few days and a few weeks\n",
    "  * No need to backup the data (it is easily recoverable)\n",
    "* Submission of multiple compute jobs\n",
    "  * One job per file in `data` in the `/scratch` partition\n",
    "* The job script is located in the `/home` partition\n",
    "  * It uses variables `$FIC` and `$SLURM_TMPDIR` to copy\n",
    "    the data file to process locally on the compute node\n",
    "  * Move the session to the local directory\n",
    "  * Configure a Python environment\n",
    "  * Execute the Python code saved in `/home`, provide the name of\n",
    "    the file to process and redirect the output to a local file\n",
    "  * Copy the results file to a directory in `/scratch`\n",
    "* Post-process - process all results files and\n",
    "  keep only the necessary information in `/project`"
   ]
  },
  {
   "cell_type": "markdown",
   "metadata": {},
   "source": [
    "#### **Exercise** - Running a Small Pipeline\n",
    "* Check the code of these scripts:\n",
    "  * `scripts/blastn-pipeline.sh`\n",
    "  * `scripts/blastn-postprocess.sh`\n",
    "* Run the pipeline with the following command:\n",
    "\n",
    "```Bash\n",
    "bash scripts/blastn-pipeline.sh\n",
    "```\n",
    "\n",
    "* Monitor both jobs with `squeue -u $USER`\n",
    "* Find created files in:\n",
    "  * `$SCRATCH/data` and\n",
    "  * `$SCRATCH/data/res_prll`\n",
    "* Run the post-processing with the following command:\n",
    "\n",
    "```Bash\n",
    "bash scripts/blastn-postprocess.sh\n",
    "```\n",
    "* Find the TSV file in the project space"
   ]
  },
  {
   "cell_type": "markdown",
   "metadata": {},
   "source": [
    "### In Case of Inaccessible Data\n",
    "* A professor can request the deletion of the inaccessible data\n",
    "* To get access to the data, we need the consent of the user\n",
    "  that has blocked the access (most of the time not on purpose)\n",
    "  * In case of no response, the research group's institution\n",
    "    policy can allow or not the access to the data\n",
    "  \n",
    "In all cases, it is better to plan the data management\n",
    "in advance, even when importing data on compute clusters."
   ]
  },
  {
   "cell_type": "markdown",
   "metadata": {},
   "source": [
    "## Key Points\n",
    "* The *Lustre* file system is optimized for large files (+10 MB)\n",
    "  * Avoid saving too many files and directories in a directory\n",
    "    (maximum 1000 items)\n",
    "* For data transfers and the use of *Nearline*, it is\n",
    "  better to group data in archive files (like Zip, DAR, etc.)\n",
    "* In the project space, the group must\n",
    "  plan who should access to what and when\n",
    "* To optimize jobs, use the `$SLURM_TMPDIR`\n",
    "* The `diskusage_report` command returns an overview of used space\n",
    "* For critical data and codes:\n",
    "  * have a copy elsewhere, and\n",
    "  * use a version control system"
   ]
  },
  {
   "cell_type": "code",
   "execution_count": null,
   "metadata": {},
   "outputs": [],
   "source": []
  }
 ],
 "metadata": {
  "kernelspec": {
   "display_name": "Python 3 (ipykernel)",
   "language": "python",
   "name": "python3"
  },
  "language_info": {
   "codemirror_mode": {
    "name": "ipython",
    "version": 3
   },
   "file_extension": ".py",
   "mimetype": "text/x-python",
   "name": "python",
   "nbconvert_exporter": "python",
   "pygments_lexer": "ipython3",
   "version": "3.11.7"
  }
 },
 "nbformat": 4,
 "nbformat_minor": 4
}
