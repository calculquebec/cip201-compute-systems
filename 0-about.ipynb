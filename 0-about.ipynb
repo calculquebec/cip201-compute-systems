{
 "cells": [
  {
   "cell_type": "markdown",
   "metadata": {},
   "source": [
    "# Mastering the Alliance's Compute Systems\n",
    "\n",
    "## About this workshop\n",
    "\n",
    "Cet atelier de formation de niveau intermédiaire est la suite de\n",
    "l'atelier [*Premiers pas sur les serveurs de calcul*](https://docs.alliancecan.ca/wiki/%C3%89v%C3%A9nements_pass%C3%A9s).\n",
    "L'objectif principal est d'explorer un peu plus en profondeur certains\n",
    "aspects clés du calcul informatique de pointe.\n",
    "\n",
    "Note : les *notebooks* IPython du présent atelier et les données associées sont [publiés sur GitHub](https://github.com/calculquebec/cip201-serveurs-calcul)."
   ]
  },
  {
   "cell_type": "markdown",
   "metadata": {},
   "source": [
    "## Table of Contents\n",
    "1. [Introduction](1-introduction.ipynb)\n",
    "    1. Rappel - le calcul haute performance\n",
    "    1. Différents types de tâches\n",
    "    1. Des questions à se poser\n",
    "1. [Choose resources wisely](2-resources.ipynb)\n",
    "    1. Analyse des calculs localement\n",
    "    1. Analyse des tâches sur la grappe de calcul\n",
    "    1. Estimer les ressources nécessaires\n",
    "    1. Principales différences entre les grappes de calcul\n",
    "1. [Task Arrays for Data Parallelism](3-task-arrays.ipynb)\n",
    "    1. GNU Parallel\n",
    "    1. Vecteurs de tâches\n",
    "1. [Storage spaces](4-storage.ipynb)\n",
    "    1. Les différents types de stockage\n",
    "    1. Gestion du stockage"
   ]
  },
  {
   "cell_type": "markdown",
   "metadata": {},
   "source": [
    "### References\n",
    "See the [References](99-references.ipynb) page."
   ]
  },
  {
   "cell_type": "code",
   "execution_count": null,
   "metadata": {},
   "outputs": [],
   "source": []
  }
 ],
 "metadata": {
  "kernelspec": {
   "display_name": "Python 3 (ipykernel)",
   "language": "python",
   "name": "python3"
  },
  "language_info": {
   "codemirror_mode": {
    "name": "ipython",
    "version": 3
   },
   "file_extension": ".py",
   "mimetype": "text/x-python",
   "name": "python",
   "nbconvert_exporter": "python",
   "pygments_lexer": "ipython3",
   "version": "3.11.7"
  }
 },
 "nbformat": 4,
 "nbformat_minor": 4
}
