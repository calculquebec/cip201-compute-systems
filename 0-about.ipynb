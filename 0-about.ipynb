{
 "cells": [
  {
   "cell_type": "markdown",
   "metadata": {},
   "source": [
    "# Mastering the Alliance's Compute Systems\n",
    "\n",
    "## About this workshop\n",
    "\n",
    "This intermediate level workshop is the follow up\n",
    "of the _First Steps on Compute Clusters_ workshop.\n",
    "The main goal is to explore more in depth some\n",
    "key concepts of the advanced research computing.\n",
    "\n",
    "Note: the _notebooks_ and scripts are [published on GitHub](https://github.com/calculquebec/cip201-compute-systems)."
   ]
  },
  {
   "cell_type": "markdown",
   "metadata": {},
   "source": [
    "## Table of Contents\n",
    "1. [Introduction](1-introduction.ipynb)\n",
    "    1. Reminder - High Performance Computing\n",
    "    1. Different Kinds of Compute Tasks\n",
    "    1. Questions to Think About\n",
    "1. [Use Resources Wisely](2-resources.ipynb)\n",
    "    1. Analysing Compute Jobs on Your Computer\n",
    "    1. Analysing Compute Jobs on Clusters\n",
    "    1. Estimating Required Compute Resources\n",
    "    1. Comparison of Compute Clusters\n",
    "1. [Task Arrays for Data Parallelism](3-task-arrays.ipynb)\n",
    "    1. GNU Parallel\n",
    "    1. Job Arrays\n",
    "1. [Storage Spaces](4-storage.ipynb)\n",
    "    1. Different Types of Storage\n",
    "    1. Storage Management"
   ]
  },
  {
   "cell_type": "markdown",
   "metadata": {},
   "source": [
    "### References\n",
    "See the [References](99-references.ipynb) page."
   ]
  },
  {
   "cell_type": "code",
   "execution_count": null,
   "metadata": {},
   "outputs": [],
   "source": []
  }
 ],
 "metadata": {
  "kernelspec": {
   "display_name": "Python 3 (ipykernel)",
   "language": "python",
   "name": "python3"
  },
  "language_info": {
   "codemirror_mode": {
    "name": "ipython",
    "version": 3
   },
   "file_extension": ".py",
   "mimetype": "text/x-python",
   "name": "python",
   "nbconvert_exporter": "python",
   "pygments_lexer": "ipython3",
   "version": "3.11.7"
  }
 },
 "nbformat": 4,
 "nbformat_minor": 4
}
