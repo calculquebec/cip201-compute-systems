{
 "cells": [
  {
   "cell_type": "markdown",
   "metadata": {},
   "source": [
    "# Maîtriser l’utilisation des serveurs de calcul\n",
    "## Analyse des tâches\n",
    "Le but de ce chapitre est d'approfondir [l'analyse des tâches](https://docs.computecanada.ca/wiki/Running_jobs/fr#Suivi_des_t.C3.A2ches) en attente, en cours et les tâches terminées."
   ]
  },
  {
   "cell_type": "markdown",
   "metadata": {},
   "source": [
    "## Tâches en attente\n",
    "Pour afficher les tâches en attente, on utilise la commande [`squeue -t pending`](https://slurm.schedmd.com/squeue.html) :\n",
    "* Pour vos tâches : `squeue -t pending -u $USER`\n",
    "* Toutes les tâches : `squeue -t pending`\n",
    "* Toutes les tâches triées par priorité descendante :\n",
    "```\n",
    "squeue -t pending --sort=-p --format=\"%.16i %.9p %.8u %.16a %.18P %.10l %.4C %.7m\"\n",
    "```\n",
    "  * `%i` : identifiant numérique de la tâche\n",
    "  * `%p` : priorité de la tâche (entre 0.0 et 1.0)\n",
    "  * `%u` : nom d'utilisateur\n",
    "  * `%a` : compte de calcul utilisé\n",
    "  * `%P` : partition de la grappe\n",
    "  * `%l` : temps demandé\n",
    "  * `%C` : nombre de processeurs demandé\n",
    "  * `%m` : mémoire demandée"
   ]
  },
  {
   "cell_type": "markdown",
   "metadata": {},
   "source": [
    "Note : vos tâches sont généralement en compétition avec des [tâches de la même partition](https://docs.computecanada.ca/wiki/Job_scheduling_policies/fr#Pourcentages_des_n.C5.93uds_disponibles).\n",
    "Ainsi, une tâche CPU n'a aucun impact sur le temps d'attente d'une tâche GPU.\n",
    "Vous pouvez utiliser la commande suivante pour obtenir le détail de votre tâche, incluant la partition à laquelle elle est assignée :\n",
    "```\n",
    "scontrol show job -dd <jobid>\n",
    "```"
   ]
  },
  {
   "cell_type": "markdown",
   "metadata": {},
   "source": [
    "Une chose qu'il faut comprendre de la [politique d'ordonnancement](https://docs.computecanada.ca/wiki/Job_scheduling_policies/fr) :\n",
    "* **La priorité de votre tâche dépend majoritairement de l'utilisation récente** de votre groupe de recherche\n",
    "  * Pour le reste, la priorité dépend aussi du temps d'attente, mais dans une très faible proportion\n",
    "* L'information concernant l'utilisation groupe est donnée par la commande [`sshare`](https://docs.computecanada.ca/wiki/Job_scheduling_policies/fr#Priorisation_selon_la_juste_part) :\n",
    "```\n",
    "sshare -l -A def-prof1_cpu -u prof1,grad2,postdoc3\n",
    "```\n",
    "  * Plus le `LevelFS` du groupe est élevé, plus la priorité est élevée\n",
    "  * L'utilisation est considérée normale si `LevelFS` est autour de 1.0\n",
    "  * Si `LevelFS` est proche de 0.0, la priorité du groupe sera basse\n",
    "* L'utilisation récente perd de son importance avec le temps qui passe.\n",
    "Ainsi, son importance est progressivement réduite avec un ratio réduisant l'impact de 50% à chaque 7 jours\n",
    "  * Par conséquent, le `LevelFS` et la priorité augmentent à nouveau lorsque le groupe reste en attente"
   ]
  },
  {
   "cell_type": "markdown",
   "metadata": {},
   "source": [
    "## Tâches actives\n",
    "Pour afficher les tâches actives, on utilise la commande [`squeue -t running`](https://slurm.schedmd.com/squeue.html) :\n",
    "* Pour vos tâches : `squeue -t running -u $USER`\n",
    "* Toutes les tâches : `squeue -t running`\n",
    "* Toutes les tâches actives triées selon le temps qui leur reste :\n",
    "```\n",
    "squeue -t running --sort=+M --format=\"%.14i %.18P %.10M %.4C %.7m %R\"\n",
    "```\n",
    "  * `%M` : temps de calcul écoulé\n",
    "  * `%R` : liste des noeuds alloués"
   ]
  },
  {
   "cell_type": "markdown",
   "metadata": {},
   "source": [
    "Pendant que vos tâches sont actives, vous pouvez vous connecter aux noeuds de calcul correspondants afin de valider que l'exécution se passe bien :\n",
    "* Connexion avec : `ssh noeud`\n",
    "* Inspection avec `top`, `htop`, `nvtop` et/ou `nvidia-smi` :\n",
    "  * Est-ce que vos processus s'exécutent avec un pourcentage de 100%?\n",
    "  * Est-ce que vos processus parallèles s'exécutent avec un pourcentage de `n` * 100%, où `n` est le nombre de processeurs par tâche Slurm?\n",
    "  * Est-ce que les GPUs sont utilisés à leur plein potentiel?\n",
    "    * Note : il est préférable de regarder la consommation en Watts plutôt que le pourcentage affiché\n",
    "  * Est-ce que le noeud de calcul semble pleinement utilisé?\n",
    "\n",
    "Toutes ces informations devraient vous permettre d'ajuster votre script de soumission et d'optimiser l'exécution parallèle de votre programme."
   ]
  },
  {
   "cell_type": "markdown",
   "metadata": {},
   "source": [
    "## Tâches terminées\n",
    "Lorsqu'une [tâche est complétée](https://docs.computecanada.ca/wiki/Running_jobs/fr#T.C3.A2ches_termin.C3.A9es), la commande la plus simple pour obtenir des informations sur cette tâche est la commande :\n",
    "```\n",
    "seff <jobid>\n",
    "```\n",
    "Autrement, c'est aussi possible d'utiliser la commande Slurm `sacct` :\n",
    "```\n",
    "sacct -j <jobid> --format=JobID,JobName,MaxRSS,Elapsed\n",
    "```\n",
    "Encore une fois, ces informations permettent d'ajuster vos scripts et de mieux déterminer vos besoins en ressources."
   ]
  },
  {
   "cell_type": "markdown",
   "metadata": {},
   "source": [
    "Ultimement, l'utilisation totale du groupe est disponible sur CCDB :\n",
    "* https://ccdb.computecanada.ca/me/group_usage\n",
    "\n",
    "En tenant compte de l'utilisation passée, il devient possible d'estimer ses besoins pour le [Concours d'allocation de ressources](https://www.computecanada.ca/page-daccueil-du-portail-de-recherche/acces-aux-ressources/concours-dallocation-des-ressources/?lang=fr)."
   ]
  },
  {
   "cell_type": "markdown",
   "metadata": {},
   "source": [
    "#### Exercice - Analyse d'exécution d'un pipeline\n",
    "* Lancer à nouveau le pipeline avec la commande `bash scripts/pipeline_nbody.sh`\n",
    "  * Au besoin, relancer le pipeline si vos tâches se sont exécutées trop rapidement\n",
    "* Surveiller vos tâches :\n",
    "  * `squeue -t pending -u $USER`\n",
    "  * `squeue -t running -u $USER`\n",
    "* Surveiller toutes les tâches :\n",
    "  * `squeue -t pending`\n",
    "  * `squeue -t running`\n",
    "* Trier les tâches selon un critère :\n",
    "  * `squeue -t pending --sort=-p --format=\"%.16i %.9p %.8u %.16a %.18P %.10l %.4C %.7m\"`\n",
    "  * `squeue -t running --sort=+M --format=\"%.14i %.18P %.10M %.4C %.7m %R\"`\n",
    "\n",
    "* Trouver vos tâches récentes avec :\n",
    "  * `sacct`\n",
    "* Analyser quelques tâches complétées avec :\n",
    "  * `seff <jobid>`\n",
    "  * `sacct -j <jobid> --format=JobID,JobName,MaxRSS,Elapsed`"
   ]
  },
  {
   "cell_type": "code",
   "execution_count": null,
   "metadata": {},
   "outputs": [],
   "source": []
  }
 ],
 "metadata": {
  "kernelspec": {
   "display_name": "Python 3",
   "language": "python",
   "name": "python3"
  },
  "language_info": {
   "codemirror_mode": {
    "name": "ipython",
    "version": 3
   },
   "file_extension": ".py",
   "mimetype": "text/x-python",
   "name": "python",
   "nbconvert_exporter": "python",
   "pygments_lexer": "ipython3",
   "version": "3.7.4"
  }
 },
 "nbformat": 4,
 "nbformat_minor": 2
}
