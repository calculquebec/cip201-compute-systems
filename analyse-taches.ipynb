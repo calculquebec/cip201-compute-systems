{
 "cells": [
  {
   "cell_type": "markdown",
   "metadata": {},
   "source": [
    "# Maîtriser l’utilisation des serveurs de calcul\n",
    "## Analyse des tâches\n",
    "Le but de ce chapitre est d'approfondir l'analyse des tâches en attente, en cours et les tâches terminées."
   ]
  },
  {
   "cell_type": "markdown",
   "metadata": {},
   "source": [
    "## Tâches en attente\n",
    "* `squeue`\n",
    "* `sshare`"
   ]
  },
  {
   "cell_type": "markdown",
   "metadata": {},
   "source": [
    "## Tâches en cours\n",
    "* `squeue`\n",
    "* `ssh node`, `top`, `htop`, `nvtop`\n",
    "* `scontrol show`"
   ]
  },
  {
   "cell_type": "markdown",
   "metadata": {},
   "source": [
    "## Tâches terminées\n",
    "* `seff`\n",
    "* `sacct`\n",
    "* Utilisation sur CCDB\n",
    "* Estimer ses besoins pour le CAR"
   ]
  },
  {
   "cell_type": "code",
   "execution_count": null,
   "metadata": {},
   "outputs": [],
   "source": []
  }
 ],
 "metadata": {
  "kernelspec": {
   "display_name": "Python 3",
   "language": "python",
   "name": "python3"
  },
  "language_info": {
   "codemirror_mode": {
    "name": "ipython",
    "version": 3
   },
   "file_extension": ".py",
   "mimetype": "text/x-python",
   "name": "python",
   "nbconvert_exporter": "python",
   "pygments_lexer": "ipython3",
   "version": "3.7.4"
  }
 },
 "nbformat": 4,
 "nbformat_minor": 2
}
