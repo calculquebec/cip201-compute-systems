{
 "cells": [
  {
   "cell_type": "markdown",
   "metadata": {},
   "source": [
    "# Maîtriser l’utilisation des serveurs de calcul\n",
    "## Bien choisir les ressources\n",
    "Il y a plusieurs ressources disponibles à Calcul Canada :\n",
    "* Humaines\n",
    "  * NOIRN, Calcul Canada, Calcul Québec, analyste local?\n",
    "* Infonuagique\n",
    "  * Arbutus, Béluga, Cedar, Graham?\n",
    "* Calcul haute performance\n",
    "  * Béluga, Cedar, Graham, Niagara?\n",
    "* Stockage\n",
    "  * Temporaire, projet, *nearline*, gestion des données de recherche?\n",
    "\n",
    "Le principal but de ce chapitre est de vous permettre d'analyser vos besoins en ressources de calcul haut-performance, et ce, dans le but de choisir les ressources nécessaires pour votre projet."
   ]
  },
  {
   "cell_type": "markdown",
   "metadata": {},
   "source": [
    "## Ressources humaines (rappel)\n",
    "Voici un rappel de qui fait quoi et des ressources humaines auxquelles vous avez access :\n",
    "* **[NOIRN](https://engagedri.ca/fr)** : la nouvelle organisation de l’infrastructure de recherche numérique (NOIRN) du Canada est un organisme national à but non lucratif qui a pour vision d’harmoniser et d’améliorer l’accès aux outils et aux services numériques à destination des chercheurs canadiens. En somme, c'est le regroupement de [Canarie](https://www.canarie.ca/fr/) (réseau), [Calcul Canada](https://www.computecanada.ca/about/?lang=fr) (calcul) et [Portage](https://portagenetwork.ca/fr/) (gestion des données).\n",
    "* **[Calcul Canada](https://www.computecanada.ca/about/?lang=fr)** : de concert avec les organisations régionales que sont [ACENET](https://www.ace-net.ca/who-we-are/acenet/), [Calcul Québec](https://www.calculquebec.ca/a-propos/qui-sommes-nous/), [Compute Ontario](https://www.computeontario.ca/) et [WestGrid](https://www.westgrid.ca/about_westgrid/what_we_do), Calcul Canada favorise une accélération de l’innovation scientifique en déployant des systèmes de calcul informatique de pointe (CIP), des installations de stockage et des solutions logicielles.\n",
    "* **[Calcul Québec](https://www.calculquebec.ca/a-propos/qui-sommes-nous/)** : la mission de Calcul Québec est de procurer au milieu universitaire ainsi qu’à la communauté de la recherche des environnements informatiques de pointe ainsi que des expertises, afin de contribuer à l’avancement des connaissances dans toutes les branches du savoir et à la formation de personnel hautement qualifié capable d’exploiter efficacement les systèmes informatiques modernes.\n",
    "* **Employés locaux** : analystes (soutien technique, documentation, formation), administrateurs (soutien technique avec accès privilégié)."
   ]
  },
  {
   "cell_type": "markdown",
   "metadata": {},
   "source": [
    "### Soutien technique\n",
    "Pour l'instant, [le soutien technique](https://docs.computecanada.ca/wiki/Technical_support/fr) est offert à l'échelle nationale via Calcul Canada, mais un employé local ou un expert est responsable de répondre à la demande :\n",
    "* globus@calculcanada.ca -- pour des questions sur les services de transfert de fichiers Globus\n",
    "* cloud@calculcanada.ca -- pour des questions sur comment utiliser nos ressources infonuagiques\n",
    "* accounts@calculcanada.ca -- pour des questions sur les comptes de Calcul Canada\n",
    "* renewals@calculcanada.ca -- pour des questions sur le renouvellement des comptes de Calcul Canada\n",
    "* **support@calculcanada.ca** -- pour toute autre question"
   ]
  },
  {
   "cell_type": "markdown",
   "metadata": {},
   "source": [
    "## Ressources infonuagiques (survol rapide)\n",
    "Ces ressources sont idéales pour des **portails Web** et pour des applications qui ne peuvent techniquement pas fonctionner dans le cadre des ressources de calculs haute-performance.\n",
    "\n",
    "Alors que l'infonuagique consiste à créer des **serveurs virtuels**, il est donc question de :\n",
    "* Processeurs virtuels\n",
    "* Mémoire allouée\n",
    "* Volumes de stockage\n",
    "* Adresses IP publiques\n",
    "* Administration par l'équipe du groupe de recherche\n",
    "\n",
    "Ces différentes ressources informatiques sont offertes à [différents sites à Calcul Canada](https://docs.computecanada.ca/wiki/Cloud_resources/fr) :\n",
    "* Arbutus (C-B)\n",
    "* Béluga (Québec)\n",
    "* Cedar (C-B)\n",
    "* Graham (Ontario)\n",
    "\n",
    "La documentation concernant les services infonuagiques débute à la page : https://docs.computecanada.ca/wiki/Cloud/fr"
   ]
  },
  {
   "cell_type": "markdown",
   "metadata": {},
   "source": [
    "## Calcul haute performance\n",
    "* Lorsqu'il est question de lancer une grande quantité de calculs (séquentiels ou parallèles) ou de traitements de données, l'utilisation d'une grappe de calcul haute performance devient nécessaire.\n",
    "* Puisque les ressources sont partagées et en grande demande, chaque tâche doit être soumise à un ordonnanceur de tâches.\n",
    "* Il devient donc nécessaire d'estimer à l'avance les ressources qui seront réservées lors de l'exécution d'un calcul."
   ]
  },
  {
   "cell_type": "markdown",
   "metadata": {},
   "source": [
    "### Rappel d'un script de tâche"
   ]
  },
  {
   "cell_type": "markdown",
   "metadata": {},
   "source": [
    "### Gestionnaire des tâches locales\n",
    "* Sous Windows\n",
    "* Sous Mac OS\n",
    "* Sous Linux\n",
    "* Utilisation CPU, mémoire RSS, mémoire virtuelle"
   ]
  },
  {
   "cell_type": "markdown",
   "metadata": {},
   "source": [
    "### Vérifier l'utilisation du GPU local\n",
    "* Outils `nvidia-smi` et `nvtop`\n",
    "* Comparer la vitesse CPU vs GPU"
   ]
  },
  {
   "cell_type": "markdown",
   "metadata": {},
   "source": [
    "### Prévoir les ressources de calcul\n",
    "* Taille des données, nombre de fichiers à traiter\n",
    "* Stockage en mémoire selon les types de base\n",
    "* Ordre des calculs\n",
    "* Mesurer le parallélisme local"
   ]
  },
  {
   "cell_type": "markdown",
   "metadata": {},
   "source": [
    "## Principales différences entre les grappes de calcul\n",
    "* Béluga\n",
    "* Cedar\n",
    "* Graham\n",
    "* Niagara"
   ]
  },
  {
   "cell_type": "code",
   "execution_count": null,
   "metadata": {},
   "outputs": [],
   "source": []
  }
 ],
 "metadata": {
  "kernelspec": {
   "display_name": "Python 3",
   "language": "python",
   "name": "python3"
  },
  "language_info": {
   "codemirror_mode": {
    "name": "ipython",
    "version": 3
   },
   "file_extension": ".py",
   "mimetype": "text/x-python",
   "name": "python",
   "nbconvert_exporter": "python",
   "pygments_lexer": "ipython3",
   "version": "3.7.4"
  }
 },
 "nbformat": 4,
 "nbformat_minor": 2
}
