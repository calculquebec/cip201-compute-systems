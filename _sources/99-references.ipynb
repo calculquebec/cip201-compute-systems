{
 "cells": [
  {
   "cell_type": "markdown",
   "id": "44b81c12-5322-427e-873c-d460f0c7a925",
   "metadata": {},
   "source": [
    "# References"
   ]
  },
  {
   "cell_type": "markdown",
   "id": "a76f376d-550c-487e-a198-46c49fead72d",
   "metadata": {},
   "source": [
    "**[Digital Research Alliance of Canada documentation](https://docs.alliancecan.ca/wiki/Technical_documentation)**\n",
    "* [Available systems](https://docs.alliancecan.ca/wiki/Getting_started#What_systems_are_available?)\n",
    "  * National clusters:\n",
    "    * [Béluga](https://docs.alliancecan.ca/wiki/B%C3%A9luga/en) (CPU/GPU)\n",
    "      * [Storage](https://docs.alliancecan.ca/wiki/B%C3%A9luga/en#Storage)\n",
    "    * [Cedar](https://docs.alliancecan.ca/wiki/Cedar) (CPU/GPU)\n",
    "    * [Graham](https://docs.alliancecan.ca/wiki/Graham) (CPU/GPU)\n",
    "    * [Mist](https://docs.scinet.utoronto.ca/index.php/Mist) (Power9/GPU)\n",
    "    * [Narval](https://docs.alliancecan.ca/wiki/Narval/en) (CPU/GPU)\n",
    "    * [Niagara](https://docs.alliancecan.ca/wiki/Niagara) (CPU)\n",
    "  * [Storage and file management](https://docs.alliancecan.ca/wiki/Storage_and_file_management)\n",
    "    * [Archiving and compressing files](https://docs.alliancecan.ca/wiki/Archiving_and_compressing_files)\n",
    "      * [Disk ARchive or DAR](https://docs.alliancecan.ca/wiki/Dar)\n",
    "      * [Tape ARchive or TAR](https://docs.alliancecan.ca/wiki/A_tutorial_on_%27tar%27)\n",
    "    * [Filesystem quotas and policies](https://docs.alliancecan.ca/wiki/Storage_and_file_management#Filesystem_quotas_and_policies)\n",
    "      * [`diskusage_report` command](https://docs.alliancecan.ca/wiki/Storage_and_file_management#Overview)\n",
    "      * [`/scratch` space](https://docs.alliancecan.ca/wiki/Scratch_purging_policy) - automatic purge\n",
    "      * [`/project` space](https://docs.alliancecan.ca/wiki/Diskusage_Explorer) -\n",
    "        the `diskusage_explorer` command\n",
    "      * [`/nearline` space](https://docs.alliancecan.ca/wiki/Using_nearline_storage#Transferring_data_from_Nearline) -\n",
    "        status of your files\n",
    "      * Frequently asked questions: *[Disk quota exceeded](https://docs.alliancecan.ca/wiki/Frequently_Asked_Questions#Disk_quota_exceeded_error_on_/project_filesystems)*\n",
    "    * [Handling large collections of files](https://docs.alliancecan.ca/wiki/Handling_large_collections_of_files)\n",
    "    * [Hierarchical Data Format - HDF5](https://docs.alliancecan.ca/wiki/HDF5)\n",
    "    * [*Lustre*](https://docs.alliancecan.ca/wiki/Tuning_Lustre), a parallel file system\n",
    "    * [Sharing data](https://docs.alliancecan.ca/wiki/Sharing_data)\n",
    "    * [Storage types](https://docs.alliancecan.ca/wiki/Storage_and_file_management#Storage_types)\n",
    "      * [Node-local storage space](https://docs.alliancecan.ca/wiki/Using_node-local_storage) - `$SLURM_TMPDIR`\n",
    "      * [`/project` space](https://docs.alliancecan.ca/wiki/Project_layout) -\n",
    "        mid-term storage\n",
    "      * [`/nearline` space](https://docs.alliancecan.ca/wiki/Using_nearline_storage) -\n",
    "        long-term storage\n",
    "    * Transferring data:\n",
    "      * [`rsync` command](https://docs.alliancecan.ca/wiki/Transferring_data#Rsync)"
   ]
  },
  {
   "cell_type": "markdown",
   "id": "27353133-9529-456d-b31d-970a1b13c29a",
   "metadata": {},
   "source": [
    "* Connection by [SSH](https://docs.alliancecan.ca/wiki/SSH)\n",
    "  * [SSH host keys](https://docs.alliancecan.ca/wiki/SSH_host_keys)\n",
    "  * [Using SSH keys in Linux](https://docs.alliancecan.ca/wiki/Using_SSH_keys_in_Linux)\n",
    "  * [Multifactor authentication](https://docs.alliancecan.ca/wiki/Multifactor_authentication)"
   ]
  },
  {
   "cell_type": "markdown",
   "id": "c7ad7487-49fc-486f-954c-b824b522e691",
   "metadata": {},
   "source": [
    "* [Running jobs](https://docs.alliancecan.ca/wiki/Running_jobs)\n",
    "  * [With GPUs](https://docs.alliancecan.ca/wiki/Using_GPUs_with_Slurm)\n",
    "  * [Using modules](https://docs.alliancecan.ca/wiki/Utiliser_des_modules/en)\n",
    "  * [Installing software in your home directory](https://docs.alliancecan.ca/wiki/Installing_software_in_your_home_directory)\n",
    "  * [Job scheduling policies](https://docs.alliancecan.ca/wiki/Job_scheduling_policies)\n",
    "    * [Percentage of the nodes you have access to](https://docs.alliancecan.ca/wiki/Job_scheduling_policies#Percentage_of_the_nodes_you_have_access_to)\n",
    "  * [Monitoring jobs](https://docs.alliancecan.ca/wiki/Running_jobs#Monitoring_jobs)\n",
    "    * [`seff` command](https://docs.alliancecan.ca/wiki/Running_jobs#Completed_jobs):\n",
    "      to investigate a completed job\n",
    "  * [Debugging and profiling](https://docs.alliancecan.ca/wiki/Debugging_and_profiling)\n",
    "    * With [JupyterHub](https://docs.alliancecan.ca/wiki/JupyterHub)\n",
    "    * [Scalability](https://docs.alliancecan.ca/wiki/Scalability)"
   ]
  },
  {
   "cell_type": "markdown",
   "id": "860c998a-9d54-431a-a7ec-dd2727b4316c",
   "metadata": {},
   "source": [
    "* Task arrays:\n",
    "  * [GNU Parallel](https://docs.alliancecan.ca/wiki/GNU_Parallel)\n",
    "    * [Restart Capabilities](https://docs.alliancecan.ca/wiki/GNU_Parallel#Keeping_Track_of_Completed_and_Failed_Commands,_and_Restart_Capabilities)\n",
    "  * [Job arrays](https://docs.alliancecan.ca/wiki/Job_arrays)\n",
    "  * [GLOST](https://docs.alliancecan.ca/wiki/GLOST)\n",
    "    * [List of jobs to run in one directory](https://docs.alliancecan.ca/wiki/GLOST#List_of_jobs_to_run_in_one_directory)\n",
    "  * [META-Farm](https://docs.alliancecan.ca/wiki/META-Farm)"
   ]
  },
  {
   "cell_type": "markdown",
   "id": "ce02d682-b9b4-4c7f-a830-60726200777d",
   "metadata": {},
   "source": [
    "**[Digital Research Alliance of Canada](https://alliancecan.ca/en)**\n",
    "* [CCDB](https://ccdb.computecanada.ca/me/group_usage)\n",
    "* [Resource Allocation Competition](https://alliancecan.ca/en/services/advanced-research-computing/accessing-resources/resource-allocation-competition)\n",
    "* [Federated Research Data Repository](https://www.frdr-dfdr.ca/repo/) (FRDR)\n",
    "* [Cloud service](https://docs.alliancecan.ca/wiki/Cloud)\n",
    "  * [Cloud resources](https://docs.alliancecan.ca/wiki/Cloud_resources)"
   ]
  },
  {
   "cell_type": "markdown",
   "id": "bbfa1ee5-e8f7-4d22-a724-9e40388ec893",
   "metadata": {},
   "source": [
    "**[Slurm documentation](https://slurm.schedmd.com/documentation.html)**\n",
    "* [`sbatch` command](https://slurm.schedmd.com/sbatch.html):\n",
    "  to submit a job to the scheduler\n",
    "* [`squeue` command](https://slurm.schedmd.com/squeue.html):\n",
    "  to monitor the status of jobs managed by the scheduler\n",
    "* [`sacct` command](https://slurm.schedmd.com/sacct.html):\n",
    "  to get information about completed jobs\n",
    "* [`sshare` command](https://docs.alliancecan.ca/wiki/Job_scheduling_policies#Priority_and_fair-share):\n",
    "  to check the status of the compute account (allocation)\n",
    "* [`scontrol show job`](https://slurm.schedmd.com/scontrol.html):\n",
    "  to get all specifications of a job, like the cluster partition\n",
    "* [`scontrol show hostname`](https://slurm.schedmd.com/scontrol.html):\n",
    "  to get the list of reserved nodes from a job script"
   ]
  },
  {
   "cell_type": "markdown",
   "id": "5cd0615e-d219-4553-8faa-82ccf9842a4c",
   "metadata": {},
   "source": [
    "**Autres liens externes**\n",
    "* Suivi des tâches\n",
    "  * [Gestionnaire des tâches Windows](https://fr.wikipedia.org/wiki/Gestionnaire_des_t%C3%A2ches_Windows)\n",
    "  * [Moniteur d’activité de macOS](https://support.apple.com/fr-ca/guide/activity-monitor/actmntr1001/mac)\n",
    "  * [Commande `htop`](https://man7.org/linux/man-pages/man1/htop.1.html)\n",
    "  * [Commande `top`](https://man7.org/linux/man-pages/man1/top.1.html)\n",
    "    * [Mémoire RSS](https://fr.wikipedia.org/wiki/Resident_set_size)\n",
    "  * [Commande `nvidia-smi`](https://developer.nvidia.com/nvidia-system-management-interface)\n",
    "  * [Commande `nvtop`](https://github.com/Syllo/nvtop)"
   ]
  },
  {
   "cell_type": "markdown",
   "id": "d633afae-f934-4e01-8c77-3dd20def5d31",
   "metadata": {},
   "source": [
    "* Analyse des algorithmes\n",
    "  * [Analyse de la complexité des algorithmes](https://fr.wikipedia.org/wiki/Analyse_de_la_complexit%C3%A9_des_algorithmes)\n",
    "  * [Algorithmes de tri](https://fr.wikipedia.org/wiki/Algorithme_de_tri#Comparaison_des_algorithmes)\n",
    "  * [Loi d'Amdahl](https://fr.wikipedia.org/wiki/Loi_d%27Amdahl)"
   ]
  },
  {
   "cell_type": "markdown",
   "id": "8e0e1d2f-adc6-4987-a454-907f9980f1a9",
   "metadata": {},
   "source": [
    "* [Apache Parquet](https://parquet.apache.org/docs/)\n",
    "* [Apache Feather](https://arrow.apache.org/docs/python/feather.html)\n",
    "* [GNU Parallel - Documentation officielle](https://www.gnu.org/software/parallel/parallel.html)\n",
    "* [Shebang](https://fr.wikipedia.org/wiki/Shebang)\n",
    "* [Windows Subsystem for Linux](https://learn.microsoft.com/en-us/windows/wsl/install)\n",
    "  (WSL)"
   ]
  },
  {
   "cell_type": "markdown",
   "id": "6cc67739-e57f-4d0b-a19d-1644583ce3d2",
   "metadata": {},
   "source": [
    "**Outils d'édition de codes Python** ou autre :\n",
    "* Via [JupyterLab](https://docs.alliancecan.ca/wiki/JupyterLab) sur les grappes de calcul\n",
    "* Via un [Jupyter Notebook](https://docs.alliancecan.ca/wiki/JupyterNotebook/fr), lancé localement\n",
    "* L'éditeur [Spyder](https://www.spyder-ide.org)\n",
    "* [Visual Studio Code](https://code.visualstudio.com)"
   ]
  },
  {
   "cell_type": "markdown",
   "id": "ecbb1ab6-9360-4c5a-b3a3-585a128ecffd",
   "metadata": {},
   "source": [
    "**Ateliers de formation et tutoriels**\n",
    "* Webinaire [Authentification multifacteur pour la communauté de recherche](https://www.youtube.com/watch?v=ciycOUbchl8)\n",
    "* Tutoriel [GNU Parallel](https://www.gnu.org/software/parallel/parallel_tutorial.html)\n",
    "* Les prochains ateliers à [Calcul Québec](https://www.eventbrite.ca/o/calcul-quebec-8295332683)\n",
    "  et à [l'Alliance](https://alliancecan.ca/fr/services/calcul-informatique-de-pointe/soutien-la-recherche/calendrier-de-formation)\n",
    "* Tutoriels en ligne [Software Carpentry](https://software-carpentry.org/lessons/)\n",
    "  et [Data Carpentry](https://datacarpentry.org/lessons/)"
   ]
  },
  {
   "cell_type": "code",
   "execution_count": null,
   "id": "235a61db-f006-47a2-8bbb-6f58364e168d",
   "metadata": {},
   "outputs": [],
   "source": []
  }
 ],
 "metadata": {
  "kernelspec": {
   "display_name": "Python 3 (ipykernel)",
   "language": "python",
   "name": "python3"
  },
  "language_info": {
   "codemirror_mode": {
    "name": "ipython",
    "version": 3
   },
   "file_extension": ".py",
   "mimetype": "text/x-python",
   "name": "python",
   "nbconvert_exporter": "python",
   "pygments_lexer": "ipython3",
   "version": "3.11.7"
  }
 },
 "nbformat": 4,
 "nbformat_minor": 5
}
