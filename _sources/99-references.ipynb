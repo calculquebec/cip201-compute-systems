{
 "cells": [
  {
   "cell_type": "markdown",
   "id": "44b81c12-5322-427e-873c-d460f0c7a925",
   "metadata": {},
   "source": [
    "# Références"
   ]
  },
  {
   "cell_type": "markdown",
   "id": "a76f376d-550c-487e-a198-46c49fead72d",
   "metadata": {},
   "source": [
    "**[Wiki de l'Alliance de recherche numérique du Canada](https://docs.alliancecan.ca/wiki/Technical_documentation/fr)**\n",
    "* [Ressources disponibles](https://docs.alliancecan.ca/wiki/Getting_started/fr#Quelles_sont_les_ressources_disponibles.3F)\n",
    "  * [Utiliser des clés SSH sous Linux](https://docs.alliancecan.ca/wiki/Using_SSH_keys_in_Linux/fr)\n",
    "  * [Stockage et gestion des fichiers](https://docs.alliancecan.ca/wiki/Storage_and_file_management/fr)\n",
    "  * Grappes :\n",
    "    * [Béluga](https://docs.alliancecan.ca/wiki/B%C3%A9luga) (CPU/GPU)\n",
    "    * [Cedar](https://docs.alliancecan.ca/wiki/Cedar/fr) (CPU/GPU)\n",
    "    * [Graham](https://docs.alliancecan.ca/wiki/Graham/fr) (CPU/GPU)\n",
    "    * [Mist](https://docs.scinet.utoronto.ca/index.php/Mist) (Power9/GPU)\n",
    "    * [Narval](https://docs.alliancecan.ca/wiki/Narval) (CPU/GPU)\n",
    "    * [Niagara](https://docs.alliancecan.ca/wiki/Niagara/fr) (CPU)"
   ]
  },
  {
   "cell_type": "markdown",
   "id": "c7ad7487-49fc-486f-954c-b824b522e691",
   "metadata": {},
   "source": [
    "* [Exécuter des tâches](https://docs.alliancecan.ca/wiki/Running_jobs/fr)\n",
    "  * [Chargement des modules](https://docs.alliancecan.ca/wiki/Utiliser_des_modules)\n",
    "  * [Politique d'ordonnancement des tâches](https://docs.alliancecan.ca/wiki/Job_scheduling_policies/fr)\n",
    "    * [Partitionnement des grappes](https://docs.alliancecan.ca/wiki/Job_scheduling_policies/fr#Pourcentages_des_n.C5.93uds_disponibles)\n",
    "  * [Tâches exécutées avec GPU](https://docs.alliancecan.ca/wiki/Using_GPUs_with_Slurm/fr)\n",
    "  * [Suivi des tâches](https://docs.alliancecan.ca/wiki/Running_jobs/fr#Suivi_des_t.C3.A2ches)\n",
    "    * [Commande `seff`](https://docs.alliancecan.ca/wiki/Running_jobs/fr#T.C3.A2ches_termin.C3.A9es)"
   ]
  },
  {
   "cell_type": "markdown",
   "id": "860c998a-9d54-431a-a7ec-dd2727b4316c",
   "metadata": {},
   "source": [
    "* Lots de tâches :\n",
    "  * [GNU Parallel](https://docs.alliancecan.ca/wiki/GNU_Parallel/fr)\n",
    "  * [Vecteurs de tâches](https://docs.alliancecan.ca/wiki/Job_arrays/fr)\n",
    "  * [GLOST](https://docs.alliancecan.ca/wiki/GLOST/fr)\n",
    "  * [META: A package for job farming](https://docs.alliancecan.ca/wiki/META:_A_package_for_job_farming)"
   ]
  },
  {
   "cell_type": "markdown",
   "id": "ce02d682-b9b4-4c7f-a830-60726200777d",
   "metadata": {},
   "source": [
    "* [Service infonuagique de l'Alliance](https://docs.alliancecan.ca/wiki/Cloud/fr)\n",
    "  * [Ressources infonuagiques](https://docs.alliancecan.ca/wiki/Cloud_resources/fr)"
   ]
  },
  {
   "cell_type": "markdown",
   "id": "bbfa1ee5-e8f7-4d22-a724-9e40388ec893",
   "metadata": {},
   "source": [
    "**[Documentation Slurm](https://slurm.schedmd.com/documentation.html)**\n",
    "* [Commande `sbatch`](https://slurm.schedmd.com/sbatch.html)\n",
    "  : pour soumettre une tâche\n",
    "* [Commande `squeue`](https://slurm.schedmd.com/squeue.html)\n",
    "  : pour voir l'état des tâches gérées par l'ordonnanceur\n",
    "* [Commande `sacct`](https://slurm.schedmd.com/sacct.html)\n",
    "  : pour obtenir de l'information sur les tâches passées\n",
    "* [Commande `sshare`](https://docs.alliancecan.ca/wiki/Job_scheduling_policies/fr#Priorisation_selon_la_juste_part)\n",
    "  : pour l'état de l'utilisation du compte de calcul"
   ]
  },
  {
   "cell_type": "markdown",
   "id": "5cd0615e-d219-4553-8faa-82ccf9842a4c",
   "metadata": {},
   "source": [
    "**Autres liens externes**\n",
    "* Suivi des tâches\n",
    "  * [Gestionnaire des tâches Windows](https://fr.wikipedia.org/wiki/Gestionnaire_des_t%C3%A2ches_Windows)\n",
    "  * [Moniteur d’activité de macOS](https://support.apple.com/fr-ca/guide/activity-monitor/actmntr1001/mac)\n",
    "  * [Commande `top`](https://man7.org/linux/man-pages/man1/top.1.html)\n",
    "  * [Commande `htop`](https://man7.org/linux/man-pages/man1/htop.1.html)\n",
    "  * [Commande `nvidia-smi`](https://developer.nvidia.com/nvidia-system-management-interface)\n",
    "  * [Commande `nvtop`](https://github.com/Syllo/nvtop)"
   ]
  },
  {
   "cell_type": "markdown",
   "id": "d633afae-f934-4e01-8c77-3dd20def5d31",
   "metadata": {},
   "source": [
    "* Analyse des algorithmes\n",
    "  * [Analyse de la complexité des algorithmes](https://fr.wikipedia.org/wiki/Analyse_de_la_complexit%C3%A9_des_algorithmes)\n",
    "  * [Algorithmes de tri](https://fr.wikipedia.org/wiki/Algorithme_de_tri#Comparaison_des_algorithmes)\n",
    "  * [Loi d'Amdahl](https://fr.wikipedia.org/wiki/Loi_d%27Amdahl)"
   ]
  },
  {
   "cell_type": "markdown",
   "id": "8e0e1d2f-adc6-4987-a454-907f9980f1a9",
   "metadata": {},
   "source": [
    "* [Shebang](https://fr.wikipedia.org/wiki/Shebang)"
   ]
  },
  {
   "cell_type": "markdown",
   "id": "6cc67739-e57f-4d0b-a19d-1644583ce3d2",
   "metadata": {},
   "source": [
    "**Outils d'édition de codes Python** ou autre :\n",
    "* Via [JupyterLab](https://docs.alliancecan.ca/wiki/JupyterLab) sur les grappes de calcul\n",
    "* Via un [Jupyter Notebook](https://docs.alliancecan.ca/wiki/JupyterNotebook/fr), lancé localement\n",
    "* L'éditeur [Spyder](https://www.spyder-ide.org)\n",
    "* [Visual Studio Code](https://code.visualstudio.com)"
   ]
  },
  {
   "cell_type": "markdown",
   "id": "ecbb1ab6-9360-4c5a-b3a3-585a128ecffd",
   "metadata": {},
   "source": [
    "**Ateliers de formation et tutoriels**\n",
    "* Les prochains ateliers à [Calcul Québec](https://www.eventbrite.ca/o/calcul-quebec-8295332683)\n",
    "  et à [l'Alliance](https://alliancecan.ca/fr/services/calcul-informatique-de-pointe/soutien-la-recherche/calendrier-de-formation)\n",
    "* Tutoriel [GNU Parallel](https://www.gnu.org/software/parallel/parallel_tutorial.html)\n",
    "* Tutoriels en ligne [Software Carpentry](https://software-carpentry.org/lessons/)\n",
    "  et [Data Carpentry](https://datacarpentry.org/lessons/)"
   ]
  },
  {
   "cell_type": "code",
   "execution_count": null,
   "id": "235a61db-f006-47a2-8bbb-6f58364e168d",
   "metadata": {},
   "outputs": [],
   "source": []
  }
 ],
 "metadata": {
  "kernelspec": {
   "display_name": "Python 3 (ipykernel)",
   "language": "python",
   "name": "python3"
  },
  "language_info": {
   "codemirror_mode": {
    "name": "ipython",
    "version": 3
   },
   "file_extension": ".py",
   "mimetype": "text/x-python",
   "name": "python",
   "nbconvert_exporter": "python",
   "pygments_lexer": "ipython3",
   "version": "3.10.5"
  }
 },
 "nbformat": 4,
 "nbformat_minor": 5
}
