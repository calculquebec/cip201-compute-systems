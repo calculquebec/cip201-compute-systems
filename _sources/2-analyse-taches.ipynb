{
 "cells": [
  {
   "cell_type": "markdown",
   "metadata": {},
   "source": [
    "# Analyse des tâches\n",
    "Le but de ce chapitre est d'approfondir [l'analyse des tâches](https://docs.computecanada.ca/wiki/Running_jobs/fr#Suivi_des_t.C3.A2ches) en attente, en cours et les tâches terminées.\n",
    "\n",
    "Remplissons la liste de tâches gérées par l'ordonnanceur :\n",
    "\n",
    "```Bash\n",
    "cat scripts/sleep-300s.sh\n",
    "sbatch scripts/sleep-300s.sh  # Répéter au besoin\n",
    "```"
   ]
  },
  {
   "cell_type": "markdown",
   "metadata": {},
   "source": [
    "## Tâches en attente\n",
    "Pour afficher les tâches en attente, on utilise la commande :\n",
    "* [`squeue -t pending`](https://slurm.schedmd.com/squeue.html) pour toutes les tâches en attente\n",
    "* `squeue -t pending -u $USER` pour seulement **vos** tâches en attente"
   ]
  },
  {
   "cell_type": "markdown",
   "metadata": {},
   "source": [
    "La commande suivante affiche les tâches en attente triées par priorité descendante :\n",
    "```Bash\n",
    "squeue -t pending --sort=-p --format=\"%.16i %.9p %.8u %.16a %.18P %.10l %.4C %.7m\"\n",
    "```\n",
    "* À propos des différentes colonnes :\n",
    "  * `%i` : identifiant numérique de la tâche\n",
    "  * `%p` : priorité de la tâche (entre 0.0 et 1.0)\n",
    "  * `%u` : nom d'utilisateur\n",
    "  * `%a` : compte de calcul utilisé\n",
    "  * `%P` : [partition de la grappe](https://docs.computecanada.ca/wiki/Job_scheduling_policies/fr#Pourcentages_des_n.C5.93uds_disponibles)\n",
    "  * `%l` : temps demandé\n",
    "  * `%C` : nombre de processeurs demandé\n",
    "  * `%m` : mémoire demandée"
   ]
  },
  {
   "cell_type": "markdown",
   "metadata": {},
   "source": [
    "Dans tous les cas, l'utilisation de `squeue` crée une certaine charge\n",
    "sur l'ordonnanceur (à cause du grand nombre de tâches à traiter),\n",
    "alors il vaut mieux **se limiter à un appel par minute** sur les grappes nationales.\n",
    "* Si jamais il vous venait l'idée d'utiliser la commande `watch`, **ne le faites pas!**"
   ]
  },
  {
   "cell_type": "markdown",
   "metadata": {},
   "source": [
    "### Partition et autres spécifications d'une tâche\n",
    "Une chose à savoir : vos tâches sont généralement en compétition avec des [tâches de la même partition](https://docs.computecanada.ca/wiki/Job_scheduling_policies/fr#Pourcentages_des_n.C5.93uds_disponibles).\n",
    "Ainsi, **une tâche CPU n'a aucun impact sur le temps d'attente d'une tâche GPU**.\n",
    "Vous pouvez utiliser la commande suivante pour obtenir le détail de votre tâche, incluant la partition à laquelle elle est assignée :\n",
    "```Bash\n",
    "scontrol show job -dd <jobid>\n",
    "```"
   ]
  },
  {
   "cell_type": "markdown",
   "metadata": {},
   "source": [
    "### Politique d'ordonnancement\n",
    "Ce qu'il faut aussi comprendre de la [politique d'ordonnancement](https://docs.computecanada.ca/wiki/Job_scheduling_policies/fr) :\n",
    "* **La priorité de votre tâche dépend majoritairement de l'utilisation récente** de votre groupe de recherche\n",
    "* Pour le reste, la priorité dépend aussi du temps d'attente, mais dans une très faible proportion"
   ]
  },
  {
   "cell_type": "markdown",
   "metadata": {},
   "source": [
    "L'information concernant **l'utilisation récente du groupe** est donnée par la commande [`sshare`](https://docs.computecanada.ca/wiki/Job_scheduling_policies/fr#Priorisation_selon_la_juste_part) :\n",
    "```Bash\n",
    "sshare -l -A def-prof1_cpu -u prof1,grad2,postdoc3\n",
    "sshare -l  # Tous les comptes\n",
    "```\n",
    "* À propos des différentes colonnes :\n",
    "  * Plus le `LevelFS` du groupe est élevé, plus la priorité est élevée\n",
    "  * L'utilisation est considérée normale si `LevelFS` est autour de 1.0\n",
    "  * Si `LevelFS` est proche de 0.0, la priorité du groupe sera basse\n",
    "* L'utilisation récente perd de son importance avec le temps qui passe.\n",
    "  * Son **importance est progressivement réduite** avec un ratio réduisant l'impact de 50% à chaque 7 jours\n",
    "  * Par conséquent, le `LevelFS` et la priorité augmentent à nouveau lorsque le groupe reste en attente"
   ]
  },
  {
   "cell_type": "markdown",
   "metadata": {},
   "source": [
    "## Tâches actives\n",
    "Pour afficher les tâches actives, on utilise la commande :\n",
    "* [`squeue -t running`](https://slurm.schedmd.com/squeue.html) pour toutes les tâches actives\n",
    "* `squeue -t running -u $USER` pour seulement **vos** tâches actives"
   ]
  },
  {
   "cell_type": "markdown",
   "metadata": {},
   "source": [
    "La commande suivante affiche les tâches actives triées selon le temps qui leur reste :\n",
    "```Bash\n",
    "squeue -t running --sort=+M --format=\"%.14i %.18P %.10M %.4C %.7m %R\"\n",
    "```\n",
    "* À propos des différentes colonnes :\n",
    "  * `%i` : identifiant numérique de la tâche\n",
    "  * `%P` : partition de la grappe\n",
    "  * `%M` : temps de calcul écoulé\n",
    "  * `%C` : nombre de processeurs demandé\n",
    "  * `%m` : mémoire demandée\n",
    "  * `%R` : liste des noeuds alloués"
   ]
  },
  {
   "cell_type": "markdown",
   "metadata": {},
   "source": [
    "### Valider le comportement d'une tâche active\n",
    "Pendant que vos tâches sont actives, vous pouvez vous connecter par SSH aux noeuds de calcul correspondants afin de valider que l'exécution se passe bien :\n",
    "```Bash\n",
    "sbatch scripts/inv-mat.sh\n",
    "```\n",
    "\n",
    "* Identifier le ou les noeud(s) avec : `squeue -u $USER`\n",
    "* Connexion avec : `ssh <nom_noeud>`\n",
    "* Inspection avec `top`, `htop`, `nvtop` et/ou `nvidia-smi` :\n",
    "  * Est-ce que vos processus s'exécutent avec un **pourcentage de 100%?**\n",
    "  * Est-ce que vos processus parallèles s'exécutent avec un **pourcentage de $n$ * 100%**, où $n$ est le nombre de processeurs par tâche Slurm?\n",
    "  * Est-ce que les **accélérateurs** sont utilisés à leur plein potentiel?\n",
    "    * Note : il est préférable de regarder la **consommation en Watts** plutôt que le pourcentage affiché\n",
    "  * Est-ce que le **noeud de calcul** semble pleinement utilisé (tous les processeurs, la mémoire et/ou les accélérateurs)?\n",
    "\n",
    "Toutes ces informations devraient vous permettre d'ajuster vos scripts de soumission et d'optimiser l'exécution parallèle de vos différents calculs."
   ]
  },
  {
   "cell_type": "markdown",
   "metadata": {},
   "source": [
    "## Tâches terminées\n",
    "Lorsqu'une [tâche est complétée](https://docs.computecanada.ca/wiki/Running_jobs/fr#T.C3.A2ches_termin.C3.A9es), la commande la plus simple pour obtenir des informations sur cette tâche est la commande :\n",
    "```Bash\n",
    "seff <jobid>\n",
    "```\n",
    "Autrement, c'est aussi possible d'utiliser la commande Slurm\n",
    "[`sacct`](https://slurm.schedmd.com/sacct.html) :\n",
    "```Bash\n",
    "sacct -j <jobid> --format=JobID,JobName,MaxRSS,Elapsed\n",
    "```\n",
    "Encore une fois, ces informations permettent d'ajuster vos scripts et de mieux déterminer vos besoins en ressources."
   ]
  },
  {
   "cell_type": "markdown",
   "metadata": {},
   "source": [
    "Ultimement, l'utilisation totale du groupe est disponible sur CCDB :\n",
    "* https://ccdb.computecanada.ca/me/group_usage\n",
    "\n",
    "En tenant compte de l'utilisation passée, il devient possible d'estimer ses besoins pour le [Concours d'allocation de ressources](https://www.computecanada.ca/page-daccueil-du-portail-de-recherche/acces-aux-ressources/concours-dallocation-des-ressources/?lang=fr)."
   ]
  },
  {
   "cell_type": "markdown",
   "metadata": {},
   "source": [
    "## Points à retenir\n",
    "* Lister nos **tâches en attente** : `squeue -t pending -u $USER`\n",
    "  * Le détail d'une tâche : `scontrol show job -dd <jobid>`\n",
    "  * L'utilisation récente : `sshare -l -A def-prof1_cpu -u $USER`\n",
    "* Lister nos **tâches actives** : `squeue -t running -u $USER`\n",
    "  * Possibilité d'aller inspecter les tâches directement sur les noeuds de calcul\n",
    "* Lister nos **tâches terminées** : `sacct`\n",
    "  * Pour une tâche précise : `seff <jobid>`\n",
    "  * Ou bien : `sacct -j <jobid> --format=JobID,JobName,MaxRSS,Elapsed`"
   ]
  },
  {
   "cell_type": "code",
   "execution_count": null,
   "metadata": {},
   "outputs": [],
   "source": []
  }
 ],
 "metadata": {
  "kernelspec": {
   "display_name": "Python 3 (ipykernel)",
   "language": "python",
   "name": "python3"
  },
  "language_info": {
   "codemirror_mode": {
    "name": "ipython",
    "version": 3
   },
   "file_extension": ".py",
   "mimetype": "text/x-python",
   "name": "python",
   "nbconvert_exporter": "python",
   "pygments_lexer": "ipython3",
   "version": "3.8.10"
  }
 },
 "nbformat": 4,
 "nbformat_minor": 4
}
