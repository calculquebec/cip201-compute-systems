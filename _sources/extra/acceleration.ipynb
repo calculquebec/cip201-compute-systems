{
 "cells": [
  {
   "cell_type": "markdown",
   "id": "14b68eb4-8d9f-4705-90eb-429931efea09",
   "metadata": {},
   "source": [
    "# Analyse d'accélération\n",
    "## Comparer la vitesse CPU vs GPU\n",
    "Avant d'utiliser massivement les GPUs d'une grappe de calcul, il faut tout d'abord que l'application ou l'algorithme puisse démontrer une \"bonne performance\" en utilisant plusieurs processeurs en parallèle.\n",
    "\n",
    "Quelques définitions :\n",
    "* **Temps écoulé** = temps d'exécution total que l'on perçoit et non le temps CPU\n",
    "* **Accélération** = (temps avec un processeur) / (temps avec parallélisme)\n",
    "* **Efficacité** = (Accélération) / (nombre de processeurs)\n",
    "\n",
    "Le coût d'un noeud GPU étant cinq fois supérieur à celui d'un noeud\n",
    "régulier, l'utilisation d'un seul GPU doit permettre une accélération\n",
    "d'au moins cinq fois (5x) la vitesse de huit (8) à douze (12) processeurs.\n",
    "* **Accélération** = (temps avec 8 à 12 processeurs) / (temps avec un accélérateur)"
   ]
  },
  {
   "cell_type": "markdown",
   "id": "53dad853-7c16-44da-9f25-f853e72c994f",
   "metadata": {},
   "source": [
    "#### Exercice - Calcul d'accélération et d'efficacité\n",
    "En supposant les résultats suivants pour un programme parallèle lancé sur $n$ processeurs :\n",
    "\n",
    "| $n$ proc. |temp (s)|\n",
    "|:---------:|:------:|\n",
    "|     1     |  9.876 |\n",
    "|     4     |  5.220 |\n",
    "| 8 (1 gpu) |  0.035 |\n",
    "\n",
    "Étant donné le script [`scripts/calc-acc-eff.sh`](https://github.com/calculquebec/cip201-serveurs-calcul/blob/main/scripts/calc-acc-eff.sh) :\n",
    "```Bash\n",
    "bash scripts/calc-acc-eff.sh 1:9.876 4:5.220\n",
    "bash scripts/calc-acc-eff.sh 1:9.876 8:0.035\n",
    "```"
   ]
  },
  {
   "cell_type": "markdown",
   "id": "c7eb5f40-a916-49d6-9e94-0a44f5e80268",
   "metadata": {},
   "source": [
    "## Extrapoler les ressources nécessaires\n",
    "### Efficacité cible du calcul parallèle\n",
    "* Une efficacité de 80%, voire 90%, devrait être un seuil minimal pour les tâches parallèles. Or, il existe un **nombre maximal de processeurs** à utiliser pour respecter ce seuil :\n",
    "  * Voir la figure dans la page [loi d'Amdahl](https://fr.wikipedia.org/wiki/Loi_d%27Amdahl)\n",
    "  * Voir aussi la section suivante\n",
    "* On vise aussi une consommation en mémoire-vive de l'ordre de 80% de ce qui est demandé à l'ordonnanceur Slurm\n",
    "\n",
    "Rappel - vous pouvez obtenir ces pourcentages via les commandes `sacct -X` (surtout pour obtenir les numéros de tâches) et `seff`. Les valeurs à considérer sont :\n",
    "* `CPU Utilized` et `CPU Efficiency`\n",
    "* `Memory Utilized` et `Memory Efficiency`"
   ]
  },
  {
   "cell_type": "markdown",
   "id": "01f0c433-1e9c-4ff3-84dd-2606990ce7e5",
   "metadata": {},
   "source": [
    "## Loi d'Amdahl\n",
    "Voici quelques définitions :\n",
    "* $T_s$: temps requis pour une exécution avec un seul processeur (donc 100% séquentiel)\n",
    "* $P$ : fraction de $T_s$ correspondant à des opérations **parallèles**, donc **divisible** par $n$ processeurs.\n",
    "* $S$ : fraction de $T_s$ correspondant à des opérations **séquentielles**, donc **non-divisible** par $n$ processeurs.\n",
    " * Exemples d'opérations séquentielles : lecture-écriture d'un fichier, communications, synchronisation, etc.\n",
    "* Dans ce modèle, $P + S = 1$, donc $S = 1 - P$\n",
    "\n",
    "$$T_p(n) = T_s * \\left(S + \\frac{P}{n}\\right) = T_s * \\left(1 - P + \\frac{P}{n}\\right)$$"
   ]
  },
  {
   "cell_type": "markdown",
   "id": "0c66a1da-f82e-4cba-b67d-126268db0ef0",
   "metadata": {},
   "source": [
    "De là, on peut redéfinir l'accélération $A(n)$ selon $n$ processeurs et isoler $P$ pour éventuellement le calculer :\n",
    "\n",
    "$$A(n) = \\frac{T_p(1)}{T_p(n)} = \\frac{T_s * \\left(1 - P + \\frac{P}{1}\\right)}{T_s * \\left(1 - P + \\frac{P}{n}\\right)} = \\frac{1 - P + P}{1 - P + \\frac{P}{n}} = \\frac{1}{1 - P + \\frac{P}{n}}$$\n",
    "\n",
    "$$\\frac{1}{A(n)} = 1 - P + \\frac{P}{n} = 1 - P * \\left(1 - \\frac{1}{n}\\right) \\implies P * \\left(1 - \\frac{1}{n}\\right) = 1 - \\frac{1}{A(n)}$$\n",
    "\n",
    "$$P = \\frac{1 - \\frac{1}{A(n)}}{1 - \\frac{1}{n}}$$"
   ]
  },
  {
   "cell_type": "markdown",
   "id": "6594d6d3-9264-4143-b405-9741579179c7",
   "metadata": {},
   "source": [
    "Pour finalement imposer une efficacité $E(n)$ minimale $e$ afin de calculer le $n$ maximal :\n",
    "\n",
    "$$E(n) = \\frac{A(n)}{n} \\geq e \\implies A(n) \\geq e * n \\implies \\frac{1}{1 - P + \\frac{P}{n}} \\geq e * n$$\n",
    "\n",
    "$$1 \\geq e * n * \\left(1 - P + \\frac{P}{n} \\right) = e * (1 - P) * n + e * P$$\n",
    "\n",
    "$$1 - e * P \\geq (e - e * P) * n \\implies \\frac{1 - e * P}{e - e * P} \\geq n$$\n",
    "\n",
    "$$n \\leq \\frac{\\frac{1}{e} - P}{1 - P}$$"
   ]
  },
  {
   "cell_type": "markdown",
   "id": "26abb81f-ed6d-46c2-b2b1-45e6b0ad4a3b",
   "metadata": {},
   "source": [
    "De là, c'est possible de calculer $n$ lorsque $e = 0.8$, par exemple."
   ]
  },
  {
   "cell_type": "markdown",
   "id": "41790d2f-a159-4416-9f7c-3966d9b8e88b",
   "metadata": {},
   "source": [
    "## Exercice - Taille maximale d'une tâche parallèle\n",
    "Explorer le script [`scripts/extra/calc-n-max.sh`](https://github.com/calculquebec/utilisation-serveurs-calcul/blob/main/scripts/extra/calc-n-max.sh)\n",
    "```Bash\n",
    "cat scripts/extra/calc-n-max.sh\n",
    "```\n",
    "\n",
    "**Important** - ce script est conçu pour recevoir le résultat redirigé du script\n",
    "[`scripts/calc-acc-eff.sh`](https://github.com/calculquebec/utilisation-serveurs-calcul/blob/main/scripts/calc-acc-eff.sh) dans son canal STDIN\n",
    "* En cas de blocage du terminal, faites Ctrl+C\n",
    "\n",
    "Pour calculer le `n_max` pour une efficacité de 80% :\n",
    "```Bash\n",
    "bash scripts/calc-acc-eff.sh 1:61.8 4:16.8 | bash scripts/extra/calc-n-max.sh\n",
    "```\n",
    "\n",
    "On note que le calcul de `n_max` peut donner une valeur qu'il faut arrondir à la baisse, car l'efficacité diminue en fonction du nombre de processeurs :\n",
    "```\n",
    "Metrique,Valeur\n",
    "P,0.970874\n",
    "n_max,9.58333\n",
    "n_max_entier,9\n",
    "```"
   ]
  },
  {
   "cell_type": "code",
   "execution_count": null,
   "id": "54a9d222-3f19-4c95-8695-c0ce52f194d2",
   "metadata": {},
   "outputs": [],
   "source": []
  }
 ],
 "metadata": {
  "kernelspec": {
   "display_name": "Python 3 (ipykernel)",
   "language": "python",
   "name": "python3"
  },
  "language_info": {
   "codemirror_mode": {
    "name": "ipython",
    "version": 3
   },
   "file_extension": ".py",
   "mimetype": "text/x-python",
   "name": "python",
   "nbconvert_exporter": "python",
   "pygments_lexer": "ipython3",
   "version": "3.10.5"
  }
 },
 "nbformat": 4,
 "nbformat_minor": 5
}
