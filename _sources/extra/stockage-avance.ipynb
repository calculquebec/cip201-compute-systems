{
 "cells": [
  {
   "cell_type": "markdown",
   "id": "5ccb0c3e-b507-47b6-b1a2-7b57faf504d2",
   "metadata": {},
   "source": [
    "# Notions avancées du stockage"
   ]
  },
  {
   "cell_type": "markdown",
   "id": "1da5752a-3a34-4231-ac27-6e9f0f66c61b",
   "metadata": {},
   "source": [
    "## Fichiers épars (sparse files)\n",
    "Restez à l'affût des fichiers épars dont la faible taille sur le disque n'est pas représentative de la taille normale du fichier :\n",
    "* Une certaine taille `T` est allouée pour le fichier.\n",
    "  Par exemple : 1 To\n",
    "* Seulement `t` octets sont réellement écrits dans le fichier\n",
    "  (où `t << T`). Par exemple : 1 Go\n",
    "* Ce type de fichiers est typiquement utilisé pour des volumes de\n",
    "  stockage de machines virtuelles, ce qui économise de l'espace sur le\n",
    "  serveur hôte\n",
    "* Problème : lors d'un transfert ou d'une sauvegarde (*backup*),\n",
    "  ce sont les `T` octets qui sont lus, ce qui peut être catastrophique\n",
    "  si `T` est vraiment très grand\n",
    "* **Solution** : les fichiers `.dar` permettent d'optimiser\n",
    "  l'encapsulation de fichiers épars avant un transfert ou une copie"
   ]
  },
  {
   "cell_type": "markdown",
   "id": "d8f1be12-b426-4905-871c-fcea7409c9e8",
   "metadata": {},
   "source": [
    "## Plan de gestion des données actives\n",
    "Les données sur les grappes de calcul sont généralement présentes en attente d'être traitées, manipulées ou publiées, d'où la notion de *données actives*. Or, il y a une planification à faire et des questions à se poser."
   ]
  },
  {
   "cell_type": "markdown",
   "id": "e0a9479d-2f68-45fc-b684-ab3010f4d961",
   "metadata": {},
   "source": [
    "### Vie des données\n",
    "* **Durée de vie variable** - avons-nous affaire à des données temporaires ou à des données persistantes?\n",
    "  * Utilisées (à répétition ou non) pendant une seule tâche de calcul?\n",
    "  * Utilisées entre deux tâches de calcul?\n",
    "  * Utilisées pour plusieurs calculs par plusieurs personnes?\n",
    "  * Peut-on importer à nouveau les données en cas de perte?\n",
    "  * Peut-on recalculer les données en cas de perte? Si oui, à quel coût?\n",
    "* **Fréquence d'accès** - combien de temps sépare les différents accès?\n",
    "  * Utilisation courante (à chaque jour, semaine ou mois)?\n",
    "  * Données à garder pour plus tard, par exemple pour reproduire les résultats?\n",
    "  * Données à publier sur des dépôts de données de recherche?\n",
    "* **Urgence d'accès** - à propos de données critiques ou importantes :\n",
    "  * Combien y a-t-il de copies?\n",
    "  * Doivent-elles être accessibles en tout temps?"
   ]
  },
  {
   "cell_type": "markdown",
   "id": "f374e353-ae58-45a6-a099-d84eea8fca9d",
   "metadata": {},
   "source": [
    "Si aucune planification n'est faite, les données temporaires s'accumulent et prennent de la place dans l'espace alloué qui est de taille limitée. Si les données sont mal décrites, leur identification, leur compréhension et leur publication deviennent des tâches laborieuses pour les personnes qui en héritent.\n",
    "```Bash\n",
    "cat .gitignore  # Fichiers à ignorer, car temporaires\n",
    "cat README.md   # Description du projet\n",
    "```"
   ]
  },
  {
   "cell_type": "markdown",
   "id": "25c26a80-7c05-4688-81c8-b0cf606a2a0f",
   "metadata": {},
   "source": [
    "### Niveaux d'accès\n",
    "* Quel est le **niveau de confidentialité** de vos données?\n",
    "  * **Qui** devrait avoir accès à quelles données?\n",
    "  * **Où** pouvez-vous héberger vos données?\n",
    "  * **Quand** : qui devrait avoir accès à vos données à votre départ?\n",
    "    Et à partir de quand peut-on publier les données?\n",
    "\n",
    "Référez-vous aux **politiques de votre université** concernant la gestion\n",
    "des données de recherche.\n",
    "Sans précaution, les données que vous laissez sur les grappes de\n",
    "calcul risquent de ne pas être accessibles aux membres d'un\n",
    "laboratoire qui poursuivent leur recherche.\n",
    "\n",
    "Dès que possible, mettez en place les accès nécessaires pour le\n",
    "[partage de vos données](https://docs.alliancecan.ca/wiki/Sharing_data/fr)."
   ]
  },
  {
   "cell_type": "code",
   "execution_count": null,
   "id": "61588825-5786-48d6-be79-044384a6ffa2",
   "metadata": {},
   "outputs": [],
   "source": []
  }
 ],
 "metadata": {
  "kernelspec": {
   "display_name": "Python 3 (ipykernel)",
   "language": "python",
   "name": "python3"
  },
  "language_info": {
   "codemirror_mode": {
    "name": "ipython",
    "version": 3
   },
   "file_extension": ".py",
   "mimetype": "text/x-python",
   "name": "python",
   "nbconvert_exporter": "python",
   "pygments_lexer": "ipython3",
   "version": "3.10.5"
  }
 },
 "nbformat": 4,
 "nbformat_minor": 5
}
