{
 "cells": [
  {
   "cell_type": "markdown",
   "id": "5ccb0c3e-b507-47b6-b1a2-7b57faf504d2",
   "metadata": {},
   "source": [
    "# Notions avancées du stockage"
   ]
  },
  {
   "cell_type": "markdown",
   "id": "0ce9e9b2-eab5-4748-b5fb-6ec3f2d88117",
   "metadata": {},
   "source": [
    "## Caractéristiques de vos données\n",
    "### Taille\n",
    "Au second chapitre, nous avons vu comment obtenir le nombre de\n",
    "fichiers de nos données locales, de même que la taille totale.\n",
    "\n",
    "Sur une grappe de calcul, un **système de fichiers parallel**\n",
    "[*Lustre*](https://docs.alliancecan.ca/wiki/Tuning_Lustre/fr) ou *GPFS*\n",
    "est surtout optimisé pour des fichiers de plus de 10 Mo,\n",
    "c'est-à-dire pour des accès à large bande-passante. Ainsi, à l'échelle des\n",
    "[grappes de calcul](https://docs.alliancecan.ca/wiki/B%C3%A9luga#Stockage) :\n",
    "\n",
    "* 1 Ko - 100 Ko : très petit fichier\n",
    "* 1 Mo - 10 Mo : petit fichier\n",
    "* **100 Mo - 1 Go : taille idéale**\n",
    "* 10 Go - 100 Go : gros fichier\n",
    "* 1 To - 10 To : très gros fichier"
   ]
  },
  {
   "cell_type": "markdown",
   "id": "28aff829-10d7-4a22-a66a-7e61d16e9b17",
   "metadata": {},
   "source": [
    "### Nombre\n",
    "À quantité totale égale d'octets, il est plus **difficile pour *Lustre*\n",
    "de gérer un grand nombre** de petits fichiers qu'un plus petit nombre\n",
    "de grands fichiers. Ainsi, du point de vue du système de stockage :\n",
    "\n",
    "* Par dossier :\n",
    "  * **1 à 100 fichiers par dossier : c'est raisonnable**\n",
    "  * 300 à 3k fichiers par dossier : une lourdeur se fait sentir\n",
    "  * 10k fichiers et plus : il faut classer les fichiers dans des sous-dossiers\n",
    "* Par espace [limité par un quota](https://docs.alliancecan.ca/wiki/Storage_and_file_management/fr#Quotas_et_politiques) :\n",
    "  * **1 à 500k fichiers : sauvegarde facilement à jour**\n",
    "  * 1M à 5M fichiers : sauvegarde potentiellement plus longue que 24h\n",
    "  * 10M fichiers et plus : sauvegarde plus longue que 24h"
   ]
  },
  {
   "cell_type": "markdown",
   "id": "8d343e89-c158-4bd2-aa72-c2e2bd50c65f",
   "metadata": {},
   "source": [
    "### Transférabilité\n",
    "#### Regroupement dans un fichier archive\n",
    "Étant donné que le transfert ou la synchronisation de\n",
    "[plusieurs petits fichiers](https://docs.alliancecan.ca/wiki/Handling_large_collections_of_files/fr)\n",
    "implique un accès fréquent aux métadonnées du système de stockage\n",
    "*Lustre*, il est donc préférable de\n",
    "[regrouper les fichiers](https://docs.alliancecan.ca/wiki/Archiving_and_compressing_files/fr)\n",
    "d'un jeu de données avant tout transfert. Pour ce faire, il existe\n",
    "plusieurs formats décodables sur les différentes grappes :\n",
    "\n",
    "* **WinZip** ou **Zip** (`.zip`) - compressé\n",
    "* **7-Zip** (`.7z`) - compressé\n",
    "* **Tape ARchive** ou [**TAR**](https://docs.alliancecan.ca/wiki/A_tutorial_on_%27tar%27/fr) (`.tar`) - non compressé, sauf si utilisé avec Gzip ou autre\n",
    "* **Disk ARchive** ou [**DAR**](https://docs.alliancecan.ca/wiki/Dar/fr) (`.dar`) - compression configurable"
   ]
  },
  {
   "cell_type": "markdown",
   "id": "99100141-8bf7-435a-92cc-06f7cc157ead",
   "metadata": {},
   "source": [
    "**Démonstration** - Création d'une archive DAR\n",
    "\n",
    "Dans un terminal :\n",
    "\n",
    "```Bash\n",
    "dar -w -c arch -g donnees -g images\n",
    "```\n",
    "* `-w` : pour taire un avertissement d'écrasement d'archive existante\n",
    "* `-c` : pour créer l'archive `arch`\n",
    "* `-g` : pour spécifier un fichier ou dossier à la fois\n",
    "\n",
    "```Bash\n",
    "ls arch*\n",
    "dar -l arch\n",
    "```\n",
    "* `-l` : pour lister les fichiers dans l'archive DAR `arch`\n",
    "* Note : **ne pas** fournir le nom d'une découpe avec l'extension `.1.dar`\n",
    "\n",
    "```Bash\n",
    "dar -w -z -c arch -g donnees -g images\n",
    "```\n",
    "* `-z` : pour activer la compression pour tous les fichiers\n",
    "* Voir le résultat avec `dar -l arch`\n",
    "\n",
    "```Bash\n",
    "dar -w -z -Z '*.png' -c arch -g donnees -g images\n",
    "```\n",
    "* `-Z '*.png'` : pour exclure les fichiers PNG\n",
    "* Voir le résultat avec `dar -l arch`"
   ]
  },
  {
   "cell_type": "markdown",
   "id": "bc336137-4c2f-4d29-afd8-44859250d24f",
   "metadata": {},
   "source": [
    "#### Compression des fichiers\n",
    "La [compression des fichiers](https://docs.alliancecan.ca/wiki/Archiving_and_compressing_files/fr)\n",
    "a un **coût en temps CPU** à chaque fois que nous voulons lire ou écrire\n",
    "les données. Ainsi, il vaut mieux utiliser la compression **lorsque\n",
    "c'est \"avantageux\"** en espace et/ou en temps. Par exemple :\n",
    "* **Décompresser de nombreux fichiers sur le noeud de calcul**\n",
    "  plutôt que de lire chaque petit fichier de *Lustre*.\n",
    "\n",
    "Lorsque le **système de fichiers compresse automatiquement**\n",
    "vos données avant de les écrire sur le système de stockage :\n",
    "  * La commande `du` montre l'espace réellement utilisée sur le disque\n",
    "  * La commande `du --apparent-size` montre la taille normale du fichier"
   ]
  },
  {
   "cell_type": "markdown",
   "id": "7e31af55-1fd0-48b8-afef-b111df841041",
   "metadata": {},
   "source": [
    "**Démonstration** - Espace utilisé\n",
    "\n",
    "Dans un terminal :\n",
    "```Bash\n",
    "du -s ~\n",
    "du -s --apparent-size ~\n",
    "```\n",
    "\n",
    "* Noter les différences, s'il y en a\n",
    "* Cette commande peut surcharger le système de stockage;\n",
    "  le survol récursif des fichiers constitue un grand nombre\n",
    "  d'accès aux métadonnées de *Lustre*\n",
    "\n",
    "En pratique, les grappes de calcul offrent des\n",
    "[outils efficaces](https://docs.alliancecan.ca/wiki/Diskusage_Explorer)\n",
    "pour mesurer l'espace utilisé en fonction de l'espace alloué."
   ]
  },
  {
   "cell_type": "markdown",
   "id": "1da5752a-3a34-4231-ac27-6e9f0f66c61b",
   "metadata": {},
   "source": [
    "## Fichiers épars (sparse files)\n",
    "Restez à l'affût des fichiers épars dont la faible taille sur le disque n'est pas représentative de la taille normale du fichier :\n",
    "* Une certaine taille `T` est allouée pour le fichier.\n",
    "  Par exemple : 1 To\n",
    "* Seulement `t` octets sont réellement écrits dans le fichier\n",
    "  (où `t << T`). Par exemple : 1 Go\n",
    "* Ce type de fichiers est typiquement utilisé pour des volumes de\n",
    "  stockage de machines virtuelles, ce qui économise de l'espace sur le\n",
    "  serveur hôte\n",
    "* Problème : lors d'un transfert ou d'une sauvegarde (*backup*),\n",
    "  ce sont les `T` octets qui sont lus, ce qui peut être catastrophique\n",
    "  si `T` est vraiment très grand\n",
    "* **Solution** : les fichiers `.dar` permettent d'optimiser\n",
    "  l'encapsulation de fichiers épars avant un transfert ou une copie"
   ]
  },
  {
   "cell_type": "markdown",
   "id": "d8f1be12-b426-4905-871c-fcea7409c9e8",
   "metadata": {},
   "source": [
    "## Plan de gestion des données actives\n",
    "Les données sur les grappes de calcul sont généralement présentes en attente d'être traitées, manipulées ou publiées, d'où la notion de *données actives*. Or, il y a une planification à faire et des questions à se poser."
   ]
  },
  {
   "cell_type": "markdown",
   "id": "e0a9479d-2f68-45fc-b684-ab3010f4d961",
   "metadata": {},
   "source": [
    "### Vie des données\n",
    "* **Durée de vie variable** - avons-nous affaire à des données temporaires ou à des données persistantes?\n",
    "  * Utilisées (à répétition ou non) pendant une seule tâche de calcul?\n",
    "  * Utilisées entre deux tâches de calcul?\n",
    "  * Utilisées pour plusieurs calculs par plusieurs personnes?\n",
    "  * Peut-on importer à nouveau les données en cas de perte?\n",
    "  * Peut-on recalculer les données en cas de perte? Si oui, à quel coût?\n",
    "* **Fréquence d'accès** - combien de temps sépare les différents accès?\n",
    "  * Utilisation courante (à chaque jour, semaine ou mois)?\n",
    "  * Données à garder pour plus tard, par exemple pour reproduire les résultats?\n",
    "  * Données à publier sur des dépôts de données de recherche?\n",
    "* **Urgence d'accès** - à propos de données critiques ou importantes :\n",
    "  * Combien y a-t-il de copies?\n",
    "  * Doivent-elles être accessibles en tout temps?"
   ]
  },
  {
   "cell_type": "markdown",
   "id": "f374e353-ae58-45a6-a099-d84eea8fca9d",
   "metadata": {},
   "source": [
    "Si aucune planification n'est faite, les données temporaires s'accumulent et prennent de la place dans l'espace alloué qui est de taille limitée. Si les données sont mal décrites, leur identification, leur compréhension et leur publication deviennent des tâches laborieuses pour les personnes qui en héritent.\n",
    "```Bash\n",
    "cat .gitignore  # Fichiers à ignorer, car temporaires\n",
    "cat README.md   # Description du projet\n",
    "```"
   ]
  },
  {
   "cell_type": "markdown",
   "id": "25c26a80-7c05-4688-81c8-b0cf606a2a0f",
   "metadata": {},
   "source": [
    "### Niveaux d'accès\n",
    "* Quel est le **niveau de confidentialité** de vos données?\n",
    "  * **Qui** devrait avoir accès à quelles données?\n",
    "  * **Où** pouvez-vous héberger vos données?\n",
    "  * **Quand** : qui devrait avoir accès à vos données à votre départ?\n",
    "    Et à partir de quand peut-on publier les données?\n",
    "\n",
    "Référez-vous aux **politiques de votre université** concernant la gestion\n",
    "des données de recherche.\n",
    "Sans précaution, les données que vous laissez sur les grappes de\n",
    "calcul risquent de ne pas être accessibles aux membres d'un\n",
    "laboratoire qui poursuivent leur recherche.\n",
    "\n",
    "Dès que possible, mettez en place les accès nécessaires pour le\n",
    "[partage de vos données](https://docs.alliancecan.ca/wiki/Sharing_data/fr)."
   ]
  },
  {
   "cell_type": "markdown",
   "id": "7ec29468-aa80-4123-a020-17798fe4d74c",
   "metadata": {},
   "source": [
    "### Exemple de partage de dossier:\n",
    "```Bash\n",
    "# Enlever l'accès en lecture\n",
    "chmod g-r $SCRATCH\n",
    "ls -ld $SCRATCH\n",
    "\n",
    "# Modifier le GID du répertoire\n",
    "id\n",
    "chgrp def-sponsor00 $SCRATCH\n",
    "ls -ld $SCRATCH\n",
    "\n",
    "# Création d'un dossier de résultats partagés\n",
    "mkdir -p $SCRATCH/partage/resultats\n",
    "ls -lR $SCRATCH\n",
    "\n",
    "# Ajouter les permissions r (et x, s'il y a lieu) récursivement\n",
    "chmod -R o+rX $SCRATCH/partage\n",
    "ls -lR $SCRATCH\n",
    "\n",
    "# Visiter le dossier partagé de quelqu'un d'autre\n",
    "cd /scratch/userXY/partage\n",
    "pwd\n",
    "ls -l\n",
    "cd\n",
    "```"
   ]
  },
  {
   "cell_type": "code",
   "execution_count": null,
   "id": "61588825-5786-48d6-be79-044384a6ffa2",
   "metadata": {},
   "outputs": [],
   "source": []
  }
 ],
 "metadata": {
  "kernelspec": {
   "display_name": "Python 3 (ipykernel)",
   "language": "python",
   "name": "python3"
  },
  "language_info": {
   "codemirror_mode": {
    "name": "ipython",
    "version": 3
   },
   "file_extension": ".py",
   "mimetype": "text/x-python",
   "name": "python",
   "nbconvert_exporter": "python",
   "pygments_lexer": "ipython3",
   "version": "3.11.7"
  }
 },
 "nbformat": 4,
 "nbformat_minor": 5
}
