{
 "cells": [
  {
   "cell_type": "markdown",
   "metadata": {},
   "source": [
    "# Lots de tâches\n",
    "Le calcul haute-performance consiste non seulement au calcul parallèle par tâche (***parallélisme des tâches***),\n",
    "mais aussi au calcul de données en parallèle dans plusieurs tâches et/ou processus en simultané (***parallélisme de données***).\n",
    "Ce chapitre vous donnera les outils nécessaires pour gérer un grand nombre de tâches\n",
    "lorsque le projet de recherche requiert plusieurs centaines de résultats."
   ]
  },
  {
   "cell_type": "markdown",
   "metadata": {},
   "source": [
    "## GNU Parallel\n",
    "La commande `parallel` de [GNU Parallel](https://docs.computecanada.ca/wiki/GNU_Parallel/fr) permet d'utiliser pleinement les ressources locales d'un noeud de calcul, et ce, en gérant l'exécution d'une **longue liste de tâches de *petite* taille**.\n",
    "C'est un peu comme l'ordonnanceur Slurm, mais à plus petite échelle et en gérant des processus au lieu de scripts de tâche.\n",
    "* [Documentation officielle](https://www.gnu.org/software/parallel/parallel.html)\n",
    "* [Tutoriel](https://www.gnu.org/software/parallel/parallel_tutorial.html)"
   ]
  },
  {
   "cell_type": "markdown",
   "metadata": {},
   "source": [
    "### Pourquoi pas Slurm?\n",
    "OK, mais pourquoi ne pas tout simplement soumettre **des centaines de tâches à Slurm**?\n",
    "* À tout moment, Slurm **limite chaque usager à 1000 tâches** au total dans `squeue` (*pending* + *running*)\n",
    "* Certains calculs sont tellement **courts (< 5 minutes)** que le démarrage et la fin de la tâche Slurm compteraient pour un pourcentage significatif du temps réel utilisé\n",
    "  * On veut donc réduire les pertes de temps\n",
    "* GNU Parallel nous **évite d'utiliser une boucle** soumettant des centaines de scripts similaires, ce qui, dans bien des cas, facilite l'exécution de centaines de tâches de calcul semblables\n",
    "* Enfin, si toutes vos tâches envoient des **notifications par courriel**, imaginez recevoir ces centaines de courriels!"
   ]
  },
  {
   "cell_type": "markdown",
   "metadata": {},
   "source": [
    "Les autres avantages à considérer :\n",
    "* Par défaut, le nombre de **processeurs disponibles limite** le nombre de tâches de calcul exécutées en simultané\n",
    "  * Dans le cas de calculs parallèles, c'est possible de limiter davantage le nombre de processus\n",
    "* GNU Parallel peut [reprendre la séquence des tâches de calcul](https://docs.computecanada.ca/wiki/GNU_Parallel/fr#Suivi_des_commandes_ex.C3.A9cut.C3.A9es_ou_des_commandes_ayant_.C3.A9chou.C3.A9.3B_fonctionnalit.C3.A9s_de_red.C3.A9marrage) en cas de fin hâtive de la tâche Slurm"
   ]
  },
  {
   "cell_type": "markdown",
   "metadata": {},
   "source": [
    "### Syntaxe de la commande GNU Parallel\n",
    "Les éléments de base de la commande `parallel` : options, gabarit de commande, liste de valeurs. Voir :\n",
    "```Bash\n",
    "man parallel\n",
    "```"
   ]
  },
  {
   "cell_type": "markdown",
   "metadata": {},
   "source": [
    "### Cas d'utilisation\n",
    "#### Séquence de paramètre\n",
    "Le paramètre changeant est donné via une paire d'`{}` :\n",
    "```Bash\n",
    "parallel echo fichier{}.txt ::: 1 2 3 4\n",
    "parallel --citation  # Il faut citer les développeurs\n",
    "```"
   ]
  },
  {
   "cell_type": "markdown",
   "metadata": {},
   "source": [
    "Utilisation d'une séquence générée par la commande `seq` :\n",
    "```Bash\n",
    "seq 1 20\n",
    "seq -w 1 20\n",
    "echo $(seq -w 1 20)\n",
    "parallel echo fichier{}.txt ::: $(seq -w 1 20)\n",
    "```"
   ]
  },
  {
   "cell_type": "markdown",
   "metadata": {},
   "source": [
    "#### Combinaisons de paramètres\n",
    "Les paramètres changeants peuvent être donnés via une paire d'`{}`, ou plus précisément par des paire d'`{}` numérotées telles que `{1}`, `{2}`, etc. :\n",
    "```Bash\n",
    "parallel echo fichier{}.txt ::: $(seq -w 1 10) ::: a b\n",
    "parallel echo fichier{1}{2}.txt ::: $(seq -w 1 10) ::: a b\n",
    "```"
   ]
  },
  {
   "cell_type": "markdown",
   "metadata": {},
   "source": [
    "Dans le cas où on retrouve les **combinaisons de paramètres dans un fichier texte** :\n",
    "```Bash\n",
    "# parallel echo {} ::: 3 5 7 ::: 4 6 8 > param.txt\n",
    "bash scripts/prll-creer-param.sh\n",
    "```"
   ]
  },
  {
   "cell_type": "markdown",
   "metadata": {},
   "source": [
    "Par la suite, dans le script de tâche Slurm :\n",
    "```Bash\n",
    "# parallel -C ' ' echo '{1}*{2} | bc > prod_{1}x{2}' :::: param.txt\n",
    "sbatch scripts/prll-exec-param.sh\n",
    "```"
   ]
  },
  {
   "cell_type": "markdown",
   "metadata": {},
   "source": [
    "Si on préfère valider la liste des commandes générées avant de soumettre\n",
    "une tâche Slurm, on peut générer une **liste de commandes dans un fichier texte** :\n",
    "```Bash\n",
    "# parallel -C ' ' echo 'echo {1}\"*\"{2} \"|\" bc \">\" prod_{1}x{2}' :::: param.txt > commandes.txt\n",
    "bash scripts/prll-creer-cmd.sh\n",
    "```"
   ]
  },
  {
   "cell_type": "markdown",
   "metadata": {},
   "source": [
    "Et dans la tâche Slurm :\n",
    "```Bash\n",
    "# parallel < commandes.txt\n",
    "sbatch scripts/prll-exec-cmd.sh\n",
    "```"
   ]
  },
  {
   "cell_type": "markdown",
   "metadata": {},
   "source": [
    "#### Limiter le nombre de tâches parallèles\n",
    "Le paramètre `--jobs` permet de forcer une limite sur le nombre de processus lancés à la fois. Par exemple, 8 exécutions avec 2 processus en simultané :\n",
    "```Bash\n",
    "parallel --jobs 2 'echo {} && sleep 3' ::: $(seq -w 1 8)\n",
    "```\n",
    "\n",
    "Si jamais un noeud n'est pas suffisant pour répondre au besoin de centaines de tâches parallèles, GNU Parallel peut distribuer des tâches sur plusieurs noeuds\n",
    "```Bash\n",
    "# parallel \\\n",
    "#    --jobs $SLURM_NTASKS_PER_NODE \\\n",
    "#    --sshloginfile noeuds.txt \\\n",
    "#   'echo -n {}: && hostname' ::: $(seq 1 $SLURM_NTASKS)\n",
    "sbatch scripts/prll-multi-noeud.sh\n",
    "```"
   ]
  },
  {
   "cell_type": "markdown",
   "metadata": {},
   "source": [
    "### Exercice - Paramètres de Benchmark5D\n",
    "Dans cet exercice, il est question d'une recherche de paramètres optimaux pour un code \"quelconque\".\n",
    "Ce code utilise $O(n^3)$ valeurs numériques pour $O(n^5)$ opérations à double précision.\n",
    "En vous épargnant les détails du programme, les différents paramètres à tester permettent d'analyser son comportement à l'exécution.\n",
    "En bref, de petites valeurs de `p*` et/ou `b*` forcent le programme à calculer le plus localement possible dans la mémoire-vive, ce qui devrait donner une meilleure performance.\n",
    "\n",
    "Pour installer le programme Benchmark5D :\n",
    "```\n",
    "bash scripts/installer/b5D.sh\n",
    "```\n",
    "\n",
    "Pour lancer une tâche de 4 processeurs utilisant GNU Parallel pour tester 3*4 combinaisons de paramètres :\n",
    "```\n",
    "cat scripts/b5D-parallel.sh\n",
    "sbatch scripts/b5D-parallel.sh\n",
    "```\n",
    "\n",
    "Pour le suivi de la tâche :\n",
    "```\n",
    "squeue -u $USER\n",
    "```\n",
    "Les résultats seront dans un fichier `slurm-<jobid>.out`\n",
    "```\n",
    "cat slurm-<jobid>.out\n",
    "```\n",
    "À la fin de la tâche, on peut analyser les ressources utilisées :\n",
    "```\n",
    "seff <jobid>\n",
    "```"
   ]
  },
  {
   "cell_type": "markdown",
   "metadata": {},
   "source": [
    "## Vecteurs de tâches\n",
    "Alors que GNU Parallel s'utilise bien avec des calculs séquentiels et parallèles de petite taille (<=16 processeurs),\n",
    "GNU Parallel **n'est pas vraiment l'outil approprié** pour un lot de longs **calculs parallèles de plus grande taille** (>16 processeurs par calcul).\n",
    "Dans le cas où un même programme parallèle doit être exécuté avec différentes combinaisons de paramètres,\n",
    "il y a moyen de soumettre un seul [vecteur de tâches](https://docs.computecanada.ca/wiki/Job_arrays/fr) et de coder le script de tâche de telle sorte que les paramètres seront déterminés en **fonction d'un indice unique** du vecteur de tâches."
   ]
  },
  {
   "cell_type": "markdown",
   "metadata": {},
   "source": [
    "Pour soumettre un vecteur de tâches à l'ordonnanceur Slurm, à la ligne de commande `sbatch` ou dans l'entête `#SBATCH` du script de tâche, on **doit ajouter l'option** `--array=<indices>`.\n",
    "Voir [ici quelques exemples](https://docs.computecanada.ca/wiki/Job_arrays/fr).\n",
    "\n",
    "L'identifiant d'une tâche Slurm dans un vecteur de tâches contient :\n",
    "* L'identifiant du vecteur de tâches\n",
    "* Caractère de soulignement (`_`)\n",
    "* L'indice unique associé à la tâche\n",
    "\n",
    "**Par exemple :** `25249551_15`"
   ]
  },
  {
   "cell_type": "markdown",
   "metadata": {},
   "source": [
    "Dans le script de tâche, la **variable d'environnement** `$SLURM_ARRAY_TASK_ID` peut être utilisée pour retrouver la valeur actuelle de l'indice unique associé à la tâche en cours d'exécution, soit **un entier parmis** les `<indices>`.\n",
    "```\n",
    "export SLURM_ARRAY_TASK_ID=42  # Émule la variable créée par Slurm\n",
    "```\n",
    "\n",
    "La variable `$SLURM_ARRAY_TASK_ID` peut être utilisée de différentes façons :\n",
    "```\n",
    "echo nom_fichier.$SLURM_ARRAY_TASK_ID\n",
    "echo nom_dossier-$SLURM_ARRAY_TASK_ID\n",
    "\n",
    "PARAM=$SLURM_ARRAY_TASK_ID\n",
    "echo $PARAM\n",
    "\n",
    "PARAM_R=$((PARAM / 12))  # Division entière\n",
    "PARAM_C=$((PARAM % 12))  # Modulo (reste de division)\n",
    "echo $PARAM_R $PARAM_C\n",
    "\n",
    "echo $(sed -n \"${PARAM_C}p\" param.txt)\n",
    "```"
   ]
  },
  {
   "cell_type": "markdown",
   "metadata": {},
   "source": [
    "### Exercice - Vecteur de tâches\n",
    "Pour lancer le vecteur de tâches :\n",
    "```\n",
    "cat scripts/sleep-array.sh\n",
    "sbatch scripts/sleep-array.sh\n",
    "\n",
    "squeue -u $USER\n",
    "```\n",
    "\n",
    "Après l'exécution des trois tâches, on peut inspecter les résultats :\n",
    "```\n",
    "ls slurm-*_*.out\n",
    "cat slurm-*_*.out\n",
    "```"
   ]
  },
  {
   "cell_type": "markdown",
   "metadata": {},
   "source": [
    "## Le *Greedy Launcher Of Small Tasks*, ou GLOST\n",
    "Le *Greedy Launcher Of Small Tasks*, ou [GLOST](https://docs.computecanada.ca/wiki/GLOST/fr), fonctionne un peu **comme GNU Parallel, mais avec quelques différences** :\n",
    "* Fonctionne qu'avec des **tâches séquentielles (un processeur par tâche)**\n",
    "* L'ordonnancement des processus se fait via **[MPI](https://docs.computecanada.ca/wiki/MPI/fr)** avec une architecture de type **gestionnaire-travailleur**\n",
    "  * Le gestionnaire envoie à chaque travailleur une tâche séquentielle à exécuter\n",
    "  * Le travailleur signale au gestionnaire quand le travail est complété\n",
    "  * Le gestionnaire informe les travailleurs lorsqu'il n'y a plus de tâche (pour quitter)\n",
    "* On doit définir **une ligne de commande par tâche** :\n",
    "  * Toutes les lignes de commande sont **[listées dans un même fichier](https://docs.computecanada.ca/wiki/GLOST/fr#Liste_de_t.C3.A2ches_situ.C3.A9es_dans_le_m.C3.AAme_r.C3.A9pertoire)**\n",
    "  * Les sous-commandes peuvent être séparées par l'opérateur `&&`. Par exemple :\n",
    "```\n",
    "echo -n 'Bonjour ' && echo le monde\n",
    "```"
   ]
  },
  {
   "cell_type": "markdown",
   "metadata": {},
   "source": [
    "### Exercice - Liste de tâches Benchmark5D avec GLOST\n",
    "Pour générer la liste de tâches dans le fichier `$SCRATCH/cas-b5D.txt` :\n",
    "```\n",
    "cat scripts/b5D-gen-cas.sh\n",
    "bash scripts/b5D-gen-cas.sh\n",
    "cat $SCRATCH/cas-b5D.txt\n",
    "```\n",
    "\n",
    "Pour lancer une tâche de 4 processeurs utilisant GLOST pour tester 3*4 combinaisons de paramètres :\n",
    "```\n",
    "cat scripts/b5D-glost.sh\n",
    "sbatch scripts/b5D-glost.sh\n",
    "squeue -u $USER\n",
    "```\n",
    "\n",
    "* Les résultats seront dans un fichier `slurm-<jobid>.out`\n",
    "```\n",
    "cat slurm-<jobid>.out\n",
    "```\n",
    "* À la fin de la tâche, on peut analyser les ressources utilisées :\n",
    "```\n",
    "seff <jobid>\n",
    "```"
   ]
  },
  {
   "cell_type": "code",
   "execution_count": null,
   "metadata": {},
   "outputs": [],
   "source": []
  }
 ],
 "metadata": {
  "kernelspec": {
   "display_name": "Python 3 (ipykernel)",
   "language": "python",
   "name": "python3"
  },
  "language_info": {
   "codemirror_mode": {
    "name": "ipython",
    "version": 3
   },
   "file_extension": ".py",
   "mimetype": "text/x-python",
   "name": "python",
   "nbconvert_exporter": "python",
   "pygments_lexer": "ipython3",
   "version": "3.8.10"
  }
 },
 "nbformat": 4,
 "nbformat_minor": 4
}
