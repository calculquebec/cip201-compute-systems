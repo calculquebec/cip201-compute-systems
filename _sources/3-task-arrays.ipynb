{
 "cells": [
  {
   "cell_type": "markdown",
   "metadata": {},
   "source": [
    "# Task Arrays for Data Parallelism\n",
    "While high performance computing is usually designed for\n",
    "task parallelism, it can also be used to run multiple\n",
    "serial tasks simultaneously for data parallelism.\n",
    "This chapter will present useful tools to manage a large number of\n",
    "compute tasks when the research project requires hundreds of results."
   ]
  },
  {
   "cell_type": "markdown",
   "metadata": {},
   "source": [
    "## GNU Parallel\n",
    "The [GNU `parallel` command](https://docs.alliancecan.ca/wiki/GNU_Parallel)\n",
    "allows to fully use the resources on a compute node by managing\n",
    "the execution of a **long list of _small_ compute tasks**.\n",
    "This is like the Slurm scheduler, but at a smaller\n",
    "scale and by managing processes instead of job scripts.\n",
    "\n",
    "![GNU Parallel workflow](images/gnu-parallel.svg)\n",
    "\n",
    "* [Official documentation](https://www.gnu.org/software/parallel/parallel.html)\n",
    "* [Tutorial](https://www.gnu.org/software/parallel/parallel_tutorial.html)"
   ]
  },
  {
   "cell_type": "markdown",
   "metadata": {},
   "source": [
    "### Why Not Slurm?\n",
    "Why not simply submit **hundreds of jobs to Slurm**?\n",
    "* At anytime, Slurm **limits each user to 1000 jobs**\n",
    "  in its queue (including *pending* and *running* jobs)\n",
    "* Certain compute tasks are so **short (< 5 minutes)**\n",
    "  that the time to properly start and end these tasks\n",
    "  individually would significantly reduce their global efficiency"
   ]
  },
  {
   "cell_type": "markdown",
   "metadata": {},
   "source": [
    "GNU Parallel advantages:\n",
    "* **No need of using a loop**, which makes\n",
    "  it easier to manage hundreds of compute tasks\n",
    "* The number of **available CPU cores automatically limits**\n",
    "  the number of simultaneous running tasks\n",
    "  * For a set of parallel tasks, it is possible to specify\n",
    "    a smaller number of processes than the number of CPU cores\n",
    "* GNU Parallel can\n",
    "  [resume the sequence of compute tasks](https://docs.alliancecan.ca/wiki/GNU_Parallel#Keeping_Track_of_Completed_and_Failed_Commands,_and_Restart_Capabilities)\n",
    "  in case of a job ending sooner than expected or what is needed"
   ]
  },
  {
   "cell_type": "markdown",
   "metadata": {},
   "source": [
    "### GNU Parallel Command Syntax\n",
    "The main basic elements of a `parallel` command are:\n",
    "```Bash\n",
    "parallel options command_template ::: list of values\n",
    "```\n",
    "\n",
    "See the manual page:\n",
    "```Bash\n",
    "man parallel  # Press Q to quit\n",
    "```"
   ]
  },
  {
   "cell_type": "markdown",
   "metadata": {},
   "source": [
    "### Use Cases\n",
    "#### One Sequence of Parameter Values\n",
    "The default placeholder for the changing parameter is `{}`:\n",
    "```Bash\n",
    "parallel echo file{}.txt ::: 1 2 3 4\n",
    "# parallel --citation  # Commit to citing developers\n",
    "```\n",
    "\n",
    "We can rewrite the above command by using the Bash expansion `{a..b}`:\n",
    "```Bash\n",
    "parallel echo file{}.txt ::: {1..4}\n",
    "parallel echo file{}.txt ::: {01..10}\n",
    "```"
   ]
  },
  {
   "cell_type": "markdown",
   "metadata": {},
   "source": [
    "#### Multiple Combinations of Parameter Values\n",
    "**a)** When you have **multiple sequences of parameters to combine**,\n",
    "you can use numbered placeholders, like `{1}` and `{2}`:\n",
    "```Bash\n",
    "parallel echo file{1}{2}.txt ::: {01..10} ::: a b\n",
    "```"
   ]
  },
  {
   "cell_type": "markdown",
   "metadata": {},
   "source": [
    "**b)** In the case where **all combinations\n",
    "of parameters are in a text file**:\n",
    "```Bash\n",
    "cat scripts/param.txt\n",
    "```"
   ]
  },
  {
   "cell_type": "markdown",
   "metadata": {},
   "source": [
    "The `parallel` command will have `-C ' '` to specify\n",
    "the separator between parameters in `scripts/param.txt`,\n",
    "and the `::::` argument to provide this filename:\n",
    "```Bash\n",
    "# parallel -C ' ' echo '$(({1}*{2}))' :::: scripts/param.txt\n",
    "cat scripts/prll-exec-param.sh\n",
    "sbatch scripts/prll-exec-param.sh\n",
    "```"
   ]
  },
  {
   "cell_type": "markdown",
   "metadata": {},
   "source": [
    "**c)** If you prefer to validate a **list of commands in a\n",
    "text file** prior to their execution on the compute node:\n",
    "```Bash\n",
    "cat scripts/cmd.txt\n",
    "```"
   ]
  },
  {
   "cell_type": "markdown",
   "metadata": {},
   "source": [
    "The job script will have a much simplified `parallel` command:\n",
    "```Bash\n",
    "# parallel < scripts/cmd.txt\n",
    "cat scripts/prll-exec-cmd.sh\n",
    "sbatch scripts/prll-exec-cmd.sh\n",
    "```"
   ]
  },
  {
   "cell_type": "markdown",
   "metadata": {},
   "source": [
    "#### Limiting the Number of Simultaneous Processes\n",
    "The flag `--jobs` allows us to limit the number of\n",
    "simultaneous running processes. For example, we can\n",
    "have 8 tasks done with 2 simultaneous processes:\n",
    "```Bash\n",
    "parallel --jobs 2 'echo {} && sleep 3' ::: {1..8}\n",
    "```"
   ]
  },
  {
   "cell_type": "markdown",
   "metadata": {},
   "source": [
    "### **Exercise** - Aligning DNA Sequences\n",
    "In the directory `data/`, you should already have multiple\n",
    "Fasta files (`*.fa`) that were created in the previous\n",
    "chapter with the job script `scripts/blastn-gen-seq.sh`.\n",
    "**If this is not the case**, run the following:\n",
    "```Bash\n",
    "sbatch scripts/blastn-gen-seq.sh\n",
    "```\n",
    "\n",
    "You should find:\n",
    "* for each fictive species A, B, C and D,\n",
    "  a file of \"known\" DNA sequences\n",
    "  * These files are converted into a Blast database\n",
    "* for 16 \"unknown\" species K through Z, DNA sequences\n",
    "  to align on \"known\" sequences of species A through D"
   ]
  },
  {
   "cell_type": "markdown",
   "metadata": {},
   "source": [
    "We then want to compute the alignement of all\n",
    "combinations `{A,B,C,D}` x `{K,L,M,N,O,P,Q,R,S,T,U,V,W,X,Y,Z}`,\n",
    "which makes 64 combinations to test.\n",
    "The following job script uses GNU Parallel in order\n",
    "to compute all combinations with 4 CPU cores:\n",
    "```Bash\n",
    "cat scripts/blastn-parallel.sh\n",
    "sbatch scripts/blastn-parallel.sh\n",
    "```\n",
    "\n",
    "To monitor the status of the compute job:\n",
    "```Bash\n",
    "squeue -u $USER\n",
    "ls data/res_prll/\n",
    "```\n",
    "At the end of the job, check used resources:\n",
    "```\n",
    "seff <job_id>\n",
    "```"
   ]
  },
  {
   "cell_type": "markdown",
   "metadata": {},
   "source": [
    "### Other Tools\n",
    "* GLOST\n",
    "  [for serial tasks only](https://docs.alliancecan.ca/wiki/GLOST)\n",
    "\n",
    "* META-Farm\n",
    "  [for the best of GNU Parallel and GLOST](https://docs.alliancecan.ca/wiki/META-Farm)\n",
    "\n",
    "While the above tools can be useful with a set of serial tasks or\n",
    "small parallel tasks (16 cores or less), **they are not appropriate\n",
    "for long and large parallel jobs** (more than 16 cores per task):\n",
    "1. we want to avoid jobs longer than 3 days, and\n",
    "1. we want to reduce the risk of being affected by a defective node.\n",
    "\n",
    "That is why, in some cases, it is better to use job arrays."
   ]
  },
  {
   "cell_type": "markdown",
   "metadata": {},
   "source": [
    "## Job Arrays\n",
    "In the case where a single program must be executed with\n",
    "different combinations of parameters, it is possible to submit\n",
    "a [job array](https://docs.alliancecan.ca/wiki/Job_arrays)\n",
    "and write the job script such that parameters will be derived\n",
    "**in function of one unique integer value** of the job array.\n",
    "\n",
    "![How Job Arrays Work](images/job-arrays.svg)"
   ]
  },
  {
   "cell_type": "markdown",
   "metadata": {},
   "source": [
    "**To submit a job array** to the Slurm scheduler, **we must\n",
    "add the option** `--array=<integers>` to the `#SBATCH` header.\n",
    "See [some examples here](https://docs.alliancecan.ca/wiki/Job_arrays).\n",
    "\n",
    "A job ID in a job array contains:\n",
    "* The ID of the job array\n",
    "* The underscore character (`_`)\n",
    "* The unique integer associated to that job\n",
    "\n",
    "**For example:** `25249551_15`"
   ]
  },
  {
   "cell_type": "markdown",
   "metadata": {},
   "source": [
    "In the job script, the **environment variable**\n",
    "`$SLURM_ARRAY_TASK_ID` can be used to retrieve the\n",
    "unique integer associated to the current running job.\n",
    "It is one of the specified `<integers>` in the header."
   ]
  },
  {
   "cell_type": "markdown",
   "metadata": {},
   "source": [
    "The variable `$SLURM_ARRAY_TASK_ID` can be used in many ways.\n",
    "The below examples use `$N`, but `$SLURM_ARRAY_TASK_ID`\n",
    "works the same in a job script:\n",
    "```Bash\n",
    "export N=71  # Only required for this example\n",
    "\n",
    "echo file.$N\n",
    "echo directory-$N\n",
    "```\n",
    "\n",
    "![From One Integer to 2D Coordinates](images/n2r_c.svg)\n",
    "```Bash\n",
    "PARAM_R=$((N / 12))  # Integer division\n",
    "PARAM_C=$((N % 12))  # Modulo (division remainder)\n",
    "echo $PARAM_R $PARAM_C\n",
    "\n",
    "head -n $((PARAM_R + 1)) scripts/param.txt | tail -1\n",
    "```"
   ]
  },
  {
   "cell_type": "markdown",
   "metadata": {},
   "source": [
    "### **Exercise** - Job Arrays\n",
    "Submit the job array:\n",
    "```Bash\n",
    "cat scripts/blastn-array.sh\n",
    "sbatch scripts/blastn-array.sh\n",
    "\n",
    "squeue -u $USER\n",
    "```\n",
    "\n",
    "Once all four jobs are done, inspect the results:\n",
    "```Bash\n",
    "ls slurm-*_*.out\n",
    "ls -l data/res_array/\n",
    "```\n",
    "\n",
    "* **Modify the job script** to process all 16 unknowns K through Z,\n",
    "  with a limit of **four** simultaneous processes per job\n",
    "* Submit this modified job array\n",
    "* Use the `seff` command to investigate one of the 16 jobs"
   ]
  },
  {
   "cell_type": "markdown",
   "metadata": {},
   "source": [
    "## Key Points\n",
    "* **GNU Parallel**\n",
    "  [to run multiple combinations of parameters](https://docs.alliancecan.ca/wiki/GNU_Parallel)\n",
    "\n",
    "```Bash\n",
    "parallel 'command_template({1})' ::: values1\n",
    "parallel 'command_template({1}, {2})' ::: values1 ::: values2\n",
    "parallel -C <sep> 'command_template({1}, {2})' :::: param_pairs.txt\n",
    "parallel --jobs 'N_processes_per_node' < command_list.txt\n",
    "```\n",
    "\n",
    "* **Job Arrays**\n",
    "  [to submit many long or large similar jobs](https://docs.alliancecan.ca/wiki/Job_arrays)\n",
    "\n",
    "```Bash\n",
    "# $SLURM_ARRAY_TASK_ID will have only one value of ...\n",
    "sbatch --array=0-7      # [0, 7]\n",
    "sbatch --array=1,3,5,7  # {1,3,5,7}\n",
    "sbatch --array=1-7:3    # {1,4,7}\n",
    "sbatch --array=0-99%10  # [0, 99], but maximum 10 simultaneous jobs\n",
    "```"
   ]
  },
  {
   "cell_type": "code",
   "execution_count": null,
   "metadata": {},
   "outputs": [],
   "source": []
  }
 ],
 "metadata": {
  "kernelspec": {
   "display_name": "Python 3 (ipykernel)",
   "language": "python",
   "name": "python3"
  },
  "language_info": {
   "codemirror_mode": {
    "name": "ipython",
    "version": 3
   },
   "file_extension": ".py",
   "mimetype": "text/x-python",
   "name": "python",
   "nbconvert_exporter": "python",
   "pygments_lexer": "ipython3",
   "version": "3.11.7"
  }
 },
 "nbformat": 4,
 "nbformat_minor": 4
}
