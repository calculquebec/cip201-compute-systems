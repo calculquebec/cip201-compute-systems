{
 "cells": [
  {
   "cell_type": "markdown",
   "metadata": {},
   "source": [
    "# À propos\n",
    "\n",
    "Cet atelier de formation de niveau intermédiaire est la suite de l'atelier [*Premiers pas sur les serveurs de calcul*](https://docs.computecanada.ca/wiki/%C3%89v%C3%A9nements_pass%C3%A9s). L'objectif principal est d'explorer un peu plus en profondeur certains aspects clés du calcul informatique de pointe.\n",
    "\n",
    "Note : les *notebooks* IPython du présent atelier et les données associées sont [publiés sur GitHub](https://github.com/calculquebec/cip201-serveurs-calcul)."
   ]
  },
  {
   "cell_type": "markdown",
   "metadata": {},
   "source": [
    "## Table des matières\n",
    "1. [Bien choisir les ressources](1-ressources.ipynb)\n",
    "    1. Rappel - le calcul haute performance\n",
    "    1. Analyse des calculs à petite échelle\n",
    "    1. Extrapoler les ressources nécessaires\n",
    "    1. Principales différences entre les grappes de calcul\n",
    "1. [Analyse des tâches](2-analyse-taches.ipynb)\n",
    "    1. Tâches en attente\n",
    "    1. Tâches actives\n",
    "    1. Tâches terminées\n",
    "1. [Lots de tâches - parallélisme de données](3-lots-taches.ipynb)\n",
    "    1. GNU Parallel\n",
    "    1. Vecteurs de tâches\n",
    "    1. Le *Greedy Launcher Of Small Tasks*, ou GLOST\n",
    "1. [Les espaces de stockage](4-stockage.ipynb)\n",
    "    1. Description de vos données\n",
    "        1. Transférabilité\n",
    "        1. Plan de gestion des données actives\n",
    "    1. Les différents types de stockage\n",
    "    1. Gestion du stockage"
   ]
  },
  {
   "cell_type": "markdown",
   "metadata": {},
   "source": [
    "### Références\n",
    "Voir le notebook des [Références](99-references.ipynb)."
   ]
  },
  {
   "cell_type": "code",
   "execution_count": null,
   "metadata": {},
   "outputs": [],
   "source": []
  }
 ],
 "metadata": {
  "kernelspec": {
   "display_name": "Python 3 (ipykernel)",
   "language": "python",
   "name": "python3"
  },
  "language_info": {
   "codemirror_mode": {
    "name": "ipython",
    "version": 3
   },
   "file_extension": ".py",
   "mimetype": "text/x-python",
   "name": "python",
   "nbconvert_exporter": "python",
   "pygments_lexer": "ipython3",
   "version": "3.10.5"
  }
 },
 "nbformat": 4,
 "nbformat_minor": 4
}
