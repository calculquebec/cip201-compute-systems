{
 "cells": [
  {
   "cell_type": "markdown",
   "metadata": {},
   "source": [
    "# Les espaces de stockage\n",
    "Il y a plusieurs types de stockage sur les grappes nationales :\n",
    "* Personnel (`/home`)\n",
    "* Temporaire local (`$SLURM_TMPDIR`)\n",
    "* Temporaire réseau (`/scratch`)\n",
    "* Projet partagé (`/project`)\n",
    "* *Nearline* - stockage de longue durée (`/nearline`)\n",
    "\n",
    "Or, vos données ont plusieurs aspects :\n",
    "* **Taille** : petits, gros, très gros fichiers\n",
    "* **Nombre** : peu nombreux ou en très grand nombre\n",
    "* **Transférabilité** : données regroupées et/ou compressées\n",
    "* **Vie** : pendant une tâche, entre des tâches, d'un projet à l'autre, à archiver\n",
    "* **Niveau d'accès** : données confidentielles, partagées, publiées\n",
    "\n",
    "Le but de ce chapitre est de pouvoir considérer tous les aspects nécessaires à la gestion des données actives sur les différents espaces de stockage disponibles."
   ]
  },
  {
   "cell_type": "markdown",
   "metadata": {},
   "source": [
    "## Les différents types de stockage\n",
    "Stockage accessible selon le type de noeud :\n",
    "noeud de **connexion** (ou interactif) ou\n",
    "noeud de **calcul** (CPU ou GPU) :\n",
    "\n",
    "|     Stockage    | Connexion |  Calcul |\n",
    "|-----------------|:---------:|:-------:|\n",
    "|         `/home` |    Oui    |   Oui   |\n",
    "| `$SLURM_TMPDIR` |  **Non**  |   Oui   |\n",
    "|      `/scratch` |    Oui    |   Oui   |\n",
    "|      `/project` |    Oui    |   Oui   |\n",
    "|     `/nearline` |    Oui    | **Non** |\n",
    "\n",
    "À propos des [différents espaces de stockage](https://docs.alliancecan.ca/wiki/Storage_and_file_management/fr#Types_de_stockage)."
   ]
  },
  {
   "cell_type": "markdown",
   "metadata": {},
   "source": [
    "### `$HOME` - Votre dossier personnel\n",
    "```Bash\n",
    "cd  # $HOME par défaut\n",
    "ls -a\n",
    "ls -la\n",
    "ls -ld $HOME\n",
    "```"
   ]
  },
  {
   "cell_type": "markdown",
   "metadata": {},
   "source": [
    "* **Point d'entrée** par défaut lors d'une connexion à une grappe de calcul\n",
    "* [Quota d'espace relativement petit](https://docs.alliancecan.ca/wiki/Storage_and_file_management/fr#Quotas_et_politiques), mais accepte un nombre de fichiers relativement grand\n",
    "  * Idéal pour la [compilation et l'installation de logiciels](https://docs.alliancecan.ca/wiki/Installing_software_in_your_home_directory/fr)"
   ]
  },
  {
   "cell_type": "markdown",
   "metadata": {},
   "source": [
    "### `$SLURM_TMPDIR` - Votre dossier temporaire local\n",
    "```Bash\n",
    "ls -ld $SLURM_TMPDIR\n",
    "salloc  # À partir de login1\n",
    "\n",
    "ls -ld $SLURM_TMPDIR\n",
    "df -h $SLURM_TMPDIR\n",
    "exit\n",
    "```"
   ]
  },
  {
   "cell_type": "markdown",
   "metadata": {},
   "source": [
    "* [Stockage local très rapide](https://docs.alliancecan.ca/wiki/Using_node-local_storage/fr), mais limité à la durée de la tâche de calcul\n",
    "  * **Faible latence** à comparé *Lustre*\n",
    "  * Grande bande-passante, en particulier pour les petits fichiers\n",
    "  * **Données supprimées à la fin** de la tâche de calcul\n",
    "  * Si plusieurs noeuds travaillent sur un même calcul parallèle,\n",
    "    **chaque noeud a son propre dossier** `$SLURM_TMPDIR`\n",
    "* Cas d'utilisation :\n",
    "  * **Importation** de plusieurs **petits fichiers** qui seront\n",
    "    utilisés à répétition lors d'un calcul\n",
    "  * **Sauvegarde** de fichiers qui sont **constamment modifiés** -\n",
    "    à exporter vers *Lustre* à la fin du calcul"
   ]
  },
  {
   "cell_type": "markdown",
   "metadata": {},
   "source": [
    "### `$SCRATCH` - Votre espace réseau temporaire\n",
    "```Bash\n",
    "df -h /scratch\n",
    "ls -ld $SCRATCH\n",
    "\n",
    "# Enlever l'accès en lecture\n",
    "chmod g-r $SCRATCH\n",
    "ls -ld $SCRATCH\n",
    "\n",
    "# Modifier le GID du répertoire\n",
    "id\n",
    "chgrp def-sponsor00 $SCRATCH\n",
    "ls -ld $SCRATCH\n",
    "```"
   ]
  },
  {
   "cell_type": "markdown",
   "metadata": {},
   "source": [
    "```Bash\n",
    "# Création d'un dossier de résultats partagés\n",
    "mkdir -p $SCRATCH/partage/resultats\n",
    "ls -lR $SCRATCH\n",
    "\n",
    "# Ajouter les permissions r (et x, s'il y a lieu) récursivement\n",
    "chmod -R o+rX $SCRATCH/partage\n",
    "ls -lR $SCRATCH\n",
    "```"
   ]
  },
  {
   "cell_type": "markdown",
   "metadata": {},
   "source": [
    "```Bash\n",
    "# Visiter le dossier partagé de quelqu'un d'autre\n",
    "cd /scratch/userXY/partage\n",
    "pwd\n",
    "ls -l\n",
    "cd\n",
    "```"
   ]
  },
  {
   "cell_type": "markdown",
   "metadata": {},
   "source": [
    "* Espace de stockage réseau de [grande capacité](https://docs.alliancecan.ca/wiki/Storage_and_file_management/fr#Quotas_et_politiques) pour des **données temporaires**\n",
    "  * **Pas** sauvegardé\n",
    "  * [Purge mensuelle](https://docs.alliancecan.ca/wiki/Scratch_purging_policy/fr) pour les données âgées de plus de 60 jours\n",
    "* Performance variable selon l'utilisation de l'ensemble des utilisateurs\n",
    "* Cas d'utilisation :\n",
    "  * Utilisation de données **pendant quelques jours** seulement\n",
    "  * Stocker temporairement des **résultats en grand nombre** de fichiers\n",
    "  * Stocker des résultats **intermédiaires** qui sont **trop gros**\n",
    "    pour `/project`"
   ]
  },
  {
   "cell_type": "markdown",
   "metadata": {},
   "source": [
    "### `/project` - Espace projet partagé\n",
    "```Bash\n",
    "ls -ld /project\n",
    "ls -ld /project/def-sponsor00\n",
    "ls -l /project/def-sponsor00\n",
    "```"
   ]
  },
  {
   "cell_type": "markdown",
   "metadata": {},
   "source": [
    "* Espace de stockage réseau de [petite à grande capacité](https://docs.alliancecan.ca/wiki/Storage_and_file_management/fr#Quotas_et_politiques) pour des **données de projet**\n",
    "  * Un espace projet par défaut par groupe de recherche (sauf sur Niagara)\n",
    "    * Petite augmentation d'espace projet **sur simple demande (jusqu'à 10 To)**\n",
    "    * Quota plus élevé si [allocation spéciale](https://alliancecan.ca/fr/services/calcul-informatique-de-pointe/acces-aux-ressources/concours-pour-lallocation-de-ressources)\n",
    "  * Sauvegardé **quotidiennement**\n",
    "    * Nombre de fichiers relativement limité (500k par défaut)\n",
    "* Données de projet :\n",
    "  * Potentiellement **partagées** - [configuration des ACLs](https://docs.alliancecan.ca/wiki/Sharing_data/fr)\n",
    "  * Durée de vie en fonction de la durée d'un projet\n",
    "  * Typiquement plus importantes que les données temporaires\n",
    "* Cas d'utilisation :\n",
    "  * Stockage de jeux de données **réutilisés sur plusieurs mois et/ou par plusieurs personnes**\n",
    "  * Stockage de **résultats finaux** coûteux à reproduire"
   ]
  },
  {
   "cell_type": "markdown",
   "metadata": {},
   "source": [
    "### `/nearline` - Stockage très longue durée\n",
    "Interface de stockage sur disque :\n",
    "* On peut voir les fichiers avec la commande `ls`\n",
    "* Les données les plus anciennes dans\n",
    "  [`/nearline` sont probablement sur ruban](https://docs.alliancecan.ca/wiki/Using_nearline_storage/fr)\n",
    "  * Voir les commandes pour [diagnostiquer l'état des fichiers](https://docs.alliancecan.ca/wiki/Using_nearline_storage/fr#Transf.C3.A9rer_des_donn.C3.A9es_.C3.A0_partir_de_.2Fnearline) dans `/nearline`\n",
    "\n",
    "À considérer :\n",
    "* D'une part, la migration de données sur ruban réduit l'espace\n",
    "  utilisé sur les disques - économie d'argent pour le stockage\n",
    "* D'autre part, chaque lecture de fichier migré sur ruban créera\n",
    "  **une requête bloquante** causant un temps de réponse de quelques\n",
    "  minutes à quelques heures (si le système d'archivage est surchargé\n",
    "  de requêtes)\n",
    "  * Voilà pourquoi il est impératif d'y sauvegarder un\n",
    "    **faible nombre de très grands fichiers**\n",
    "  * **À éviter** : y copier de nombreux petits fichiers avant de les\n",
    "    regrouper dans un fichier d'archive\n",
    "\n",
    "Cas d'utilisation :\n",
    "  * Regrouper des fichiers provenant de `/project` ou de `/scratch`\n",
    "  * Stockage de données importantes **qui ne seront pas utilisées\n",
    "    pendant plusieurs mois**"
   ]
  },
  {
   "cell_type": "markdown",
   "metadata": {},
   "source": [
    "## Caractéristiques de vos données\n",
    "### Taille\n",
    "Au second chapitre, nous avons vu comment obtenir le nombre de\n",
    "fichiers de nos données locales, de même que la taille totale.\n",
    "\n",
    "Sur une grappe de calcul, un **système de fichiers parallel**\n",
    "[*Lustre*](https://docs.alliancecan.ca/wiki/Tuning_Lustre/fr) ou *GPFS*\n",
    "est surtout optimisé pour des fichiers de plus de 10 Mo,\n",
    "c'est-à-dire pour des accès à large bande-passante. Ainsi, à l'échelle des\n",
    "[grappes de calcul](https://docs.alliancecan.ca/wiki/B%C3%A9luga#Stockage) :\n",
    "\n",
    "* 1 Ko - 100 Ko : très petit fichier\n",
    "* 1 Mo - 10 Mo : petit fichier\n",
    "* **100 Mo - 1 Go : taille idéale**\n",
    "* 10 Go - 100 Go : gros fichier\n",
    "* 1 To - 10 To : très gros fichier"
   ]
  },
  {
   "cell_type": "markdown",
   "metadata": {},
   "source": [
    "### Nombre\n",
    "À quantité totale égale d'octets, il est plus **difficile pour *Lustre*\n",
    "de gérer un grand nombre** de petits fichiers qu'un plus petit nombre\n",
    "de grands fichiers. Ainsi, du point de vue du système de stockage :\n",
    "\n",
    "* Par dossier :\n",
    "  * **1 à 100 fichiers par dossier : c'est raisonnable**\n",
    "  * 300 à 3k fichiers par dossier : une lourdeur se fait sentir\n",
    "  * 10k fichiers et plus : il faut classer les fichiers dans des sous-dossiers\n",
    "* Par espace [limité par un quota](https://docs.alliancecan.ca/wiki/Storage_and_file_management/fr#Quotas_et_politiques) :\n",
    "  * **1 à 500k fichiers : sauvegarde facilement à jour**\n",
    "  * 1M à 5M fichiers : sauvegarde potentiellement plus longue que 24h\n",
    "  * 10M fichiers et plus : sauvegarde plus longue que 24h"
   ]
  },
  {
   "cell_type": "markdown",
   "metadata": {},
   "source": [
    "### Transférabilité\n",
    "#### Regroupement dans un fichier archive\n",
    "Étant donné que le transfert ou la synchronisation de\n",
    "[plusieurs petits fichiers](https://docs.alliancecan.ca/wiki/Handling_large_collections_of_files/fr)\n",
    "implique un accès fréquent aux métadonnées du système de stockage\n",
    "*Lustre*, il est donc préférable de\n",
    "[regrouper les fichiers](https://docs.alliancecan.ca/wiki/Archiving_and_compressing_files/fr)\n",
    "d'un jeu de données avant tout transfert. Pour ce faire, il existe\n",
    "plusieurs formats décodables sur les différentes grappes :\n",
    "\n",
    "* **WinZip** ou **Zip** (`.zip`) - compressé\n",
    "* **7-Zip** (`.7z`) - compressé\n",
    "* **Tape ARchive** ou [**TAR**](https://docs.alliancecan.ca/wiki/A_tutorial_on_%27tar%27/fr) (`.tar`) - non compressé, sauf si utilisé avec Gzip ou autre\n",
    "* **Disk ARchive** ou [**DAR**](https://docs.alliancecan.ca/wiki/Dar/fr) (`.dar`) - compression configurable"
   ]
  },
  {
   "cell_type": "markdown",
   "metadata": {},
   "source": [
    "**Exercice - DAR**\n",
    "\n",
    "Dans un terminal :\n",
    "\n",
    "```Bash\n",
    "dar -w -c arch -g donnees -g images\n",
    "```\n",
    "* `-w` : pour taire un avertissement d'écrasement d'archive existante\n",
    "* `-c` : pour créer l'archive `arch`\n",
    "* `-g` : pour spécifier un fichier ou dossier à la fois\n",
    "\n",
    "```Bash\n",
    "ls arch*\n",
    "dar -l arch\n",
    "```\n",
    "* `-l` : pour lister les fichiers dans l'archive DAR `arch`\n",
    "* Note : **ne pas** fournir le nom d'une découpe avec l'extension `.1.dar`\n",
    "\n",
    "```Bash\n",
    "dar -w -z -c arch -g donnees -g images\n",
    "```\n",
    "* `-z` : pour activer la compression pour tous les fichiers\n",
    "* Voir le résultat avec `dar -l arch`\n",
    "\n",
    "```Bash\n",
    "dar -w -z -Z '*.png' -c arch -g donnees -g images\n",
    "```\n",
    "* `-Z '*.png'` : pour exclure les fichiers PNG\n",
    "* Voir le résultat avec `dar -l arch`"
   ]
  },
  {
   "cell_type": "markdown",
   "metadata": {},
   "source": [
    "#### Compression des fichiers\n",
    "La [compression des fichiers](https://docs.alliancecan.ca/wiki/Archiving_and_compressing_files/fr)\n",
    "a un **coût en temps CPU** à chaque fois que nous voulons lire ou écrire\n",
    "les données. Ainsi, il vaut mieux utiliser la compression **lorsque\n",
    "c'est \"avantageux\"** en espace et/ou en temps. Par exemple :\n",
    "* **Décompresser de nombreux fichiers sur le noeud de calcul**\n",
    "  plutôt que de lire chaque petit fichier de *Lustre*.\n",
    "\n",
    "Lorsque le **système de fichiers compresse automatiquement**\n",
    "vos données avant de les écrire sur le système de stockage :\n",
    "  * La commande `du` montre l'espace réellement utilisée sur le disque\n",
    "  * La commande `du --apparent-size` montre la taille normale du fichier"
   ]
  },
  {
   "cell_type": "markdown",
   "metadata": {},
   "source": [
    "**Exercice - Espace utilisé**\n",
    "\n",
    "Dans un terminal Jupyter, essayez les commandes :\n",
    "```Bash\n",
    "du -s ~\n",
    "du -s --apparent-size ~\n",
    "```\n",
    "\n",
    "* Notez les différences, s'il y en a\n",
    "* Notez à quel point cette commande peut surcharger le système de\n",
    "  stockage; le survol récursif des fichiers constitue un grand nombre\n",
    "  d'accès aux métadonnées de *Lustre*\n",
    "\n",
    "En pratique, les grappes de calcul offrent des\n",
    "[outils efficaces](https://docs.alliancecan.ca/wiki/Diskusage_Explorer)\n",
    "pour mesurer l'espace utilisé en fonction de l'espace alloué.\n",
    "Nous verrons cela à la fin du chapitre."
   ]
  },
  {
   "cell_type": "markdown",
   "metadata": {},
   "source": [
    "### Vie\n",
    "Avec le temps, les données s'accumulent. Il devient alors nécessaire de surveiller l'espace utilisé, de même que le nombre de fichiers qui s'y trouvent.\n",
    "```\n",
    "df -h /project\n",
    "df -hi /project\n",
    "```\n",
    "\n",
    "* **[La commande `diskusage_report`](https://docs.alliancecan.ca/wiki/Storage_and_file_management/fr#Introduction)**\n",
    "  permet de générer un court rapport sur l'espace utilisé et le nombre\n",
    "  de fichiers de chacun des espaces de stockage auxquels vous avez accès\n",
    "* À chaque jour, un rapport de consommation de l'espace `/project` par utilisateur est produit :\n",
    "  * Sur Béluga : dans `/project/.stats/<nom-allocation>`\n",
    "  * Sur Cedar et Narval : dans `/project/.stats/<nom-allocation>.json`\n",
    "  * Disponible sur demande pour Graham et Niagara\n",
    "\n",
    "Avoir un bon plan de gestion des données actives permet de\n",
    "faciliter le ménage (suppression ou archivage de fichiers)."
   ]
  },
  {
   "cell_type": "markdown",
   "metadata": {},
   "source": [
    "#### Exemple de cycle de vie des données\n",
    "![Pipeline 1](images/data-flow-1.png)"
   ]
  },
  {
   "cell_type": "markdown",
   "metadata": {},
   "source": [
    "Description des différentes étapes :\n",
    "* Téléchargement des données dans `/scratch`\n",
    "  * Pour une utilisation de quelques jours à quelques semaines\n",
    "  * Nul besoin de les protéger davantage\n",
    "* Soumettre une série de tâches de calcul\n",
    "  * Une tâche par fichier dans `dossier` dans la partition `/scratch`\n",
    "* Le script de tâche est dans la partition `/home`\n",
    "  * Utilisation des variables `$FIC` et `$SLURM_TMPDIR` pour copier le fichier à traiter localement sur le noeud de calcul\n",
    "  * Se déplacer dans le dossier local\n",
    "  * Y configurer un environnement Python\n",
    "  * Exécuter le code Python présent dans `/home`, fournir le nom du fichier à traiter et rediriger toutes les sorties dans un fichier local\n",
    "  * Rapatrier le fichier de résultats dans un dossier dans `/scratch`\n",
    "* Post-traitement - traiter tous les fichiers de résultats afin de ne garder que l'essentiel dans `/project`"
   ]
  },
  {
   "cell_type": "markdown",
   "metadata": {},
   "source": [
    "#### Exercice - Exécution d'un pipeline\n",
    "* Étudiez les scripts :\n",
    "  * `scripts/blastn-pipeline.sh`\n",
    "  * `scripts/blastn-traitement.sh`\n",
    "* Lancez le pipeline avec la commande :\n",
    "\n",
    "```Bash\n",
    "bash scripts/blastn-pipeline.sh\n",
    "```\n",
    "\n",
    "* Surveillez les tâches avec `squeue -u $USER`\n",
    "* Trouver les fichiers créés dans :\n",
    "  * `$SCRATCH/donnees` et\n",
    "  * `$SCRATCH/donnees/res_prll`\n",
    "* Lancez le post-traitement avec la commande :\n",
    "\n",
    "```Bash\n",
    "bash scripts/blastn-traitement.sh\n",
    "```\n",
    "* Trouvez le fichier TSV dans l'espace projet"
   ]
  },
  {
   "cell_type": "markdown",
   "metadata": {},
   "source": [
    "### En cas de données inaccessibles\n",
    "* Une professeure ou un professeur peut demander à ce que les données soient supprimées\n",
    "* Par contre, pour obtenir l'accès aux données, il faut avoir le consentement de la personne qui les a isolées (probablement involontairement)\n",
    "  * En cas d'absence de réponse, c'est la politique de l'université du groupe de recherche qui permettra ou non d'obtenir l'accès aux données\n",
    "  \n",
    "Dans tous les cas, il vaut mieux planifier, et ce,\n",
    "dès l'importation de données sur les grappes de calcul."
   ]
  },
  {
   "cell_type": "markdown",
   "metadata": {},
   "source": [
    "## Points à retenir\n",
    "* Le système de fichiers *Lustre* est optimisé pour des gros fichiers\n",
    "  (+10 Mo)\n",
    "  * Ne pas mettre trop de fichiers et dossiers dans un même répertoire\n",
    "  (maximum 1000 items)\n",
    "* Pour le transfert de données et l'utilisation du *Nearline*,\n",
    "  il vaut mieux regrouper les données dans un fichier archive\n",
    "  (comme Zip, DAR, etc.)\n",
    "* Dans l'espace projet, il faut planifier qui devrait avoir accès à quoi et quand\n",
    "* Pour optimiser les tâches, utiliser `$SLURM_TMPDIR`\n",
    "* La commande `diskusage_report` pour un aperçu de l'espace utilisé\n",
    "* Pour les données et codes critiques :\n",
    "  * avoir une copie ailleurs et\n",
    "  * utiliser un gestionnaire de versions."
   ]
  },
  {
   "cell_type": "code",
   "execution_count": null,
   "metadata": {},
   "outputs": [],
   "source": []
  }
 ],
 "metadata": {
  "kernelspec": {
   "display_name": "Python 3 (ipykernel)",
   "language": "python",
   "name": "python3"
  },
  "language_info": {
   "codemirror_mode": {
    "name": "ipython",
    "version": 3
   },
   "file_extension": ".py",
   "mimetype": "text/x-python",
   "name": "python",
   "nbconvert_exporter": "python",
   "pygments_lexer": "ipython3",
   "version": "3.10.5"
  }
 },
 "nbformat": 4,
 "nbformat_minor": 4
}
